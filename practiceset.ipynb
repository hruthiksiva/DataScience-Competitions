{
  "nbformat": 4,
  "nbformat_minor": 0,
  "metadata": {
    "colab": {
      "name": "practiceset.ipynb",
      "provenance": [],
      "authorship_tag": "ABX9TyOrvp3Rflzx9vVN+C1lFG0I",
      "include_colab_link": true
    },
    "kernelspec": {
      "name": "python3",
      "display_name": "Python 3"
    },
    "language_info": {
      "name": "python"
    }
  },
  "cells": [
    {
      "cell_type": "markdown",
      "metadata": {
        "id": "view-in-github",
        "colab_type": "text"
      },
      "source": [
        "<a href=\"https://colab.research.google.com/github/hruthiksiva/Machine-Learning-Competitions/blob/main/practiceset.ipynb\" target=\"_parent\"><img src=\"https://colab.research.google.com/assets/colab-badge.svg\" alt=\"Open In Colab\"/></a>"
      ]
    },
    {
      "cell_type": "code",
      "metadata": {
        "id": "xF7iWxIr-qpp"
      },
      "source": [
        "import tensorflow as tf\n",
        "import numpy as np\n",
        "from tensorflow import keras\n"
      ],
      "execution_count": null,
      "outputs": []
    },
    {
      "cell_type": "code",
      "metadata": {
        "id": "5kbGu0qh-uE7"
      },
      "source": [
        "model = tf.keras.Sequential([keras.layers.Dense(units=1,input_shape=[1])])\n",
        "model.compile(optimizer='sgd',loss='mean_squared_error')"
      ],
      "execution_count": null,
      "outputs": []
    },
    {
      "cell_type": "code",
      "metadata": {
        "id": "ieGmUW5W-zBr"
      },
      "source": [
        "xs=np.array([-1.0,0.0,1.0,2.0,3.0,4.0],dtype=float)\n",
        "ys=np.array([-2.0,1.0,4.0,7.0,10.0,13.0],dtype=float)"
      ],
      "execution_count": null,
      "outputs": []
    },
    {
      "cell_type": "code",
      "metadata": {
        "colab": {
          "base_uri": "https://localhost:8080/"
        },
        "id": "Hjd2J9C1_E17",
        "outputId": "a06146c9-446e-4d8c-d8d5-e82b53c17efb"
      },
      "source": [
        "model.fit(xs,ys,epochs=100)"
      ],
      "execution_count": null,
      "outputs": [
        {
          "output_type": "stream",
          "text": [
            "Epoch 1/100\n",
            "1/1 [==============================] - 0s 5ms/step - loss: 1.8198e-06\n",
            "Epoch 2/100\n",
            "1/1 [==============================] - 0s 7ms/step - loss: 1.7826e-06\n",
            "Epoch 3/100\n",
            "1/1 [==============================] - 0s 9ms/step - loss: 1.7459e-06\n",
            "Epoch 4/100\n",
            "1/1 [==============================] - 0s 4ms/step - loss: 1.7103e-06\n",
            "Epoch 5/100\n",
            "1/1 [==============================] - 0s 5ms/step - loss: 1.6748e-06\n",
            "Epoch 6/100\n",
            "1/1 [==============================] - 0s 15ms/step - loss: 1.6405e-06\n",
            "Epoch 7/100\n",
            "1/1 [==============================] - 0s 7ms/step - loss: 1.6068e-06\n",
            "Epoch 8/100\n",
            "1/1 [==============================] - 0s 5ms/step - loss: 1.5738e-06\n",
            "Epoch 9/100\n",
            "1/1 [==============================] - 0s 7ms/step - loss: 1.5416e-06\n",
            "Epoch 10/100\n",
            "1/1 [==============================] - 0s 10ms/step - loss: 1.5098e-06\n",
            "Epoch 11/100\n",
            "1/1 [==============================] - 0s 3ms/step - loss: 1.4787e-06\n",
            "Epoch 12/100\n",
            "1/1 [==============================] - 0s 4ms/step - loss: 1.4484e-06\n",
            "Epoch 13/100\n",
            "1/1 [==============================] - 0s 6ms/step - loss: 1.4186e-06\n",
            "Epoch 14/100\n",
            "1/1 [==============================] - 0s 3ms/step - loss: 1.3895e-06\n",
            "Epoch 15/100\n",
            "1/1 [==============================] - 0s 4ms/step - loss: 1.3611e-06\n",
            "Epoch 16/100\n",
            "1/1 [==============================] - 0s 4ms/step - loss: 1.3330e-06\n",
            "Epoch 17/100\n",
            "1/1 [==============================] - 0s 3ms/step - loss: 1.3055e-06\n",
            "Epoch 18/100\n",
            "1/1 [==============================] - 0s 6ms/step - loss: 1.2788e-06\n",
            "Epoch 19/100\n",
            "1/1 [==============================] - 0s 7ms/step - loss: 1.2525e-06\n",
            "Epoch 20/100\n",
            "1/1 [==============================] - 0s 4ms/step - loss: 1.2268e-06\n",
            "Epoch 21/100\n",
            "1/1 [==============================] - 0s 15ms/step - loss: 1.2017e-06\n",
            "Epoch 22/100\n",
            "1/1 [==============================] - 0s 4ms/step - loss: 1.1771e-06\n",
            "Epoch 23/100\n",
            "1/1 [==============================] - 0s 4ms/step - loss: 1.1529e-06\n",
            "Epoch 24/100\n",
            "1/1 [==============================] - 0s 4ms/step - loss: 1.1292e-06\n",
            "Epoch 25/100\n",
            "1/1 [==============================] - 0s 4ms/step - loss: 1.1059e-06\n",
            "Epoch 26/100\n",
            "1/1 [==============================] - 0s 4ms/step - loss: 1.0833e-06\n",
            "Epoch 27/100\n",
            "1/1 [==============================] - 0s 4ms/step - loss: 1.0610e-06\n",
            "Epoch 28/100\n",
            "1/1 [==============================] - 0s 4ms/step - loss: 1.0393e-06\n",
            "Epoch 29/100\n",
            "1/1 [==============================] - 0s 4ms/step - loss: 1.0179e-06\n",
            "Epoch 30/100\n",
            "1/1 [==============================] - 0s 4ms/step - loss: 9.9713e-07\n",
            "Epoch 31/100\n",
            "1/1 [==============================] - 0s 6ms/step - loss: 9.7659e-07\n",
            "Epoch 32/100\n",
            "1/1 [==============================] - 0s 4ms/step - loss: 9.5659e-07\n",
            "Epoch 33/100\n",
            "1/1 [==============================] - 0s 5ms/step - loss: 9.3699e-07\n",
            "Epoch 34/100\n",
            "1/1 [==============================] - 0s 4ms/step - loss: 9.1753e-07\n",
            "Epoch 35/100\n",
            "1/1 [==============================] - 0s 4ms/step - loss: 8.9870e-07\n",
            "Epoch 36/100\n",
            "1/1 [==============================] - 0s 4ms/step - loss: 8.8024e-07\n",
            "Epoch 37/100\n",
            "1/1 [==============================] - 0s 4ms/step - loss: 8.6218e-07\n",
            "Epoch 38/100\n",
            "1/1 [==============================] - 0s 4ms/step - loss: 8.4459e-07\n",
            "Epoch 39/100\n",
            "1/1 [==============================] - 0s 5ms/step - loss: 8.2712e-07\n",
            "Epoch 40/100\n",
            "1/1 [==============================] - 0s 5ms/step - loss: 8.1013e-07\n",
            "Epoch 41/100\n",
            "1/1 [==============================] - 0s 5ms/step - loss: 7.9347e-07\n",
            "Epoch 42/100\n",
            "1/1 [==============================] - 0s 5ms/step - loss: 7.7714e-07\n",
            "Epoch 43/100\n",
            "1/1 [==============================] - 0s 4ms/step - loss: 7.6136e-07\n",
            "Epoch 44/100\n",
            "1/1 [==============================] - 0s 5ms/step - loss: 7.4580e-07\n",
            "Epoch 45/100\n",
            "1/1 [==============================] - 0s 4ms/step - loss: 7.3035e-07\n",
            "Epoch 46/100\n",
            "1/1 [==============================] - 0s 4ms/step - loss: 7.1534e-07\n",
            "Epoch 47/100\n",
            "1/1 [==============================] - 0s 4ms/step - loss: 7.0065e-07\n",
            "Epoch 48/100\n",
            "1/1 [==============================] - 0s 7ms/step - loss: 6.8630e-07\n",
            "Epoch 49/100\n",
            "1/1 [==============================] - 0s 5ms/step - loss: 6.7222e-07\n",
            "Epoch 50/100\n",
            "1/1 [==============================] - 0s 4ms/step - loss: 6.5842e-07\n",
            "Epoch 51/100\n",
            "1/1 [==============================] - 0s 5ms/step - loss: 6.4504e-07\n",
            "Epoch 52/100\n",
            "1/1 [==============================] - 0s 4ms/step - loss: 6.3175e-07\n",
            "Epoch 53/100\n",
            "1/1 [==============================] - 0s 4ms/step - loss: 6.1864e-07\n",
            "Epoch 54/100\n",
            "1/1 [==============================] - 0s 4ms/step - loss: 6.0602e-07\n",
            "Epoch 55/100\n",
            "1/1 [==============================] - 0s 4ms/step - loss: 5.9365e-07\n",
            "Epoch 56/100\n",
            "1/1 [==============================] - 0s 5ms/step - loss: 5.8135e-07\n",
            "Epoch 57/100\n",
            "1/1 [==============================] - 0s 5ms/step - loss: 5.6952e-07\n",
            "Epoch 58/100\n",
            "1/1 [==============================] - 0s 5ms/step - loss: 5.5777e-07\n",
            "Epoch 59/100\n",
            "1/1 [==============================] - 0s 5ms/step - loss: 5.4634e-07\n",
            "Epoch 60/100\n",
            "1/1 [==============================] - 0s 5ms/step - loss: 5.3504e-07\n",
            "Epoch 61/100\n",
            "1/1 [==============================] - 0s 4ms/step - loss: 5.2404e-07\n",
            "Epoch 62/100\n",
            "1/1 [==============================] - 0s 5ms/step - loss: 5.1319e-07\n",
            "Epoch 63/100\n",
            "1/1 [==============================] - 0s 4ms/step - loss: 5.0270e-07\n",
            "Epoch 64/100\n",
            "1/1 [==============================] - 0s 4ms/step - loss: 4.9242e-07\n",
            "Epoch 65/100\n",
            "1/1 [==============================] - 0s 4ms/step - loss: 4.8235e-07\n",
            "Epoch 66/100\n",
            "1/1 [==============================] - 0s 4ms/step - loss: 4.7241e-07\n",
            "Epoch 67/100\n",
            "1/1 [==============================] - 0s 4ms/step - loss: 4.6265e-07\n",
            "Epoch 68/100\n",
            "1/1 [==============================] - 0s 6ms/step - loss: 4.5311e-07\n",
            "Epoch 69/100\n",
            "1/1 [==============================] - 0s 4ms/step - loss: 4.4395e-07\n",
            "Epoch 70/100\n",
            "1/1 [==============================] - 0s 4ms/step - loss: 4.3471e-07\n",
            "Epoch 71/100\n",
            "1/1 [==============================] - 0s 4ms/step - loss: 4.2594e-07\n",
            "Epoch 72/100\n",
            "1/1 [==============================] - 0s 4ms/step - loss: 4.1708e-07\n",
            "Epoch 73/100\n",
            "1/1 [==============================] - 0s 4ms/step - loss: 4.0852e-07\n",
            "Epoch 74/100\n",
            "1/1 [==============================] - 0s 5ms/step - loss: 4.0003e-07\n",
            "Epoch 75/100\n",
            "1/1 [==============================] - 0s 9ms/step - loss: 3.9183e-07\n",
            "Epoch 76/100\n",
            "1/1 [==============================] - 0s 5ms/step - loss: 3.8381e-07\n",
            "Epoch 77/100\n",
            "1/1 [==============================] - 0s 4ms/step - loss: 3.7595e-07\n",
            "Epoch 78/100\n",
            "1/1 [==============================] - 0s 4ms/step - loss: 3.6818e-07\n",
            "Epoch 79/100\n",
            "1/1 [==============================] - 0s 4ms/step - loss: 3.6073e-07\n",
            "Epoch 80/100\n",
            "1/1 [==============================] - 0s 4ms/step - loss: 3.5322e-07\n",
            "Epoch 81/100\n",
            "1/1 [==============================] - 0s 4ms/step - loss: 3.4602e-07\n",
            "Epoch 82/100\n",
            "1/1 [==============================] - 0s 4ms/step - loss: 3.3884e-07\n",
            "Epoch 83/100\n",
            "1/1 [==============================] - 0s 4ms/step - loss: 3.3199e-07\n",
            "Epoch 84/100\n",
            "1/1 [==============================] - 0s 6ms/step - loss: 3.2513e-07\n",
            "Epoch 85/100\n",
            "1/1 [==============================] - 0s 4ms/step - loss: 3.1839e-07\n",
            "Epoch 86/100\n",
            "1/1 [==============================] - 0s 4ms/step - loss: 3.1186e-07\n",
            "Epoch 87/100\n",
            "1/1 [==============================] - 0s 4ms/step - loss: 3.0549e-07\n",
            "Epoch 88/100\n",
            "1/1 [==============================] - 0s 4ms/step - loss: 2.9918e-07\n",
            "Epoch 89/100\n",
            "1/1 [==============================] - 0s 4ms/step - loss: 2.9314e-07\n",
            "Epoch 90/100\n",
            "1/1 [==============================] - 0s 4ms/step - loss: 2.8712e-07\n",
            "Epoch 91/100\n",
            "1/1 [==============================] - 0s 6ms/step - loss: 2.8116e-07\n",
            "Epoch 92/100\n",
            "1/1 [==============================] - 0s 12ms/step - loss: 2.7533e-07\n",
            "Epoch 93/100\n",
            "1/1 [==============================] - 0s 5ms/step - loss: 2.6971e-07\n",
            "Epoch 94/100\n",
            "1/1 [==============================] - 0s 4ms/step - loss: 2.6420e-07\n",
            "Epoch 95/100\n",
            "1/1 [==============================] - 0s 4ms/step - loss: 2.5872e-07\n",
            "Epoch 96/100\n",
            "1/1 [==============================] - 0s 4ms/step - loss: 2.5350e-07\n",
            "Epoch 97/100\n",
            "1/1 [==============================] - 0s 4ms/step - loss: 2.4828e-07\n",
            "Epoch 98/100\n",
            "1/1 [==============================] - 0s 4ms/step - loss: 2.4325e-07\n",
            "Epoch 99/100\n",
            "1/1 [==============================] - 0s 4ms/step - loss: 2.3830e-07\n",
            "Epoch 100/100\n",
            "1/1 [==============================] - 0s 4ms/step - loss: 2.3330e-07\n"
          ],
          "name": "stdout"
        },
        {
          "output_type": "execute_result",
          "data": {
            "text/plain": [
              "<tensorflow.python.keras.callbacks.History at 0x7fb7a08d7a90>"
            ]
          },
          "metadata": {
            "tags": []
          },
          "execution_count": 8
        }
      ]
    },
    {
      "cell_type": "code",
      "metadata": {
        "colab": {
          "base_uri": "https://localhost:8080/"
        },
        "id": "zC3DGNeZ_F1L",
        "outputId": "4b6ecf97-6d2e-4866-96fe-9f8aa40ed8c0"
      },
      "source": [
        "print(model.predict([10.0]))"
      ],
      "execution_count": null,
      "outputs": [
        {
          "output_type": "stream",
          "text": [
            "[[31.001411]]\n"
          ],
          "name": "stdout"
        }
      ]
    },
    {
      "cell_type": "code",
      "metadata": {
        "id": "rSIUJnEV_mA1"
      },
      "source": [
        ""
      ],
      "execution_count": null,
      "outputs": []
    }
  ]
}