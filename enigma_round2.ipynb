{
  "nbformat": 4,
  "nbformat_minor": 0,
  "metadata": {
    "colab": {
      "name": "enigma-round2.ipynb",
      "provenance": [],
      "authorship_tag": "ABX9TyO3BuHYMEQh1OMa5N1mzkyE",
      "include_colab_link": true
    },
    "kernelspec": {
      "name": "python3",
      "display_name": "Python 3"
    },
    "language_info": {
      "name": "python"
    }
  },
  "cells": [
    {
      "cell_type": "markdown",
      "metadata": {
        "id": "view-in-github",
        "colab_type": "text"
      },
      "source": [
        "<a href=\"https://colab.research.google.com/github/hruthiksiva/DataScience-Competitions/blob/main/enigma_round2.ipynb\" target=\"_parent\"><img src=\"https://colab.research.google.com/assets/colab-badge.svg\" alt=\"Open In Colab\"/></a>"
      ]
    },
    {
      "cell_type": "markdown",
      "metadata": {
        "id": "AJcJLis-tLig"
      },
      "source": [
        "## Kaggle API"
      ]
    },
    {
      "cell_type": "code",
      "metadata": {
        "id": "cBJGCaQ3r8x2"
      },
      "source": [
        "! mkdir ~/.kaggle\n",
        "! cp kaggle.json ~/.kaggle/\n",
        "! chmod 600 ~/.kaggle/kaggle.json"
      ],
      "execution_count": 1,
      "outputs": []
    },
    {
      "cell_type": "code",
      "metadata": {
        "colab": {
          "base_uri": "https://localhost:8080/"
        },
        "id": "pAAoRf7fsXXQ",
        "outputId": "75063dc6-e2af-433d-db21-18a989838df5"
      },
      "source": [
        "!kaggle competitions download -c consumer-complaints"
      ],
      "execution_count": 2,
      "outputs": [
        {
          "output_type": "stream",
          "text": [
            "Warning: Looks like you're using an outdated API Version, please consider updating (server 1.5.12 / client 1.5.4)\n",
            "Downloading train.csv.zip to /content\n",
            "100% 159M/159M [00:00<00:00, 148MB/s]\n",
            "100% 159M/159M [00:00<00:00, 172MB/s]\n",
            "Downloading SAMPLE_SUBMISSION.csv.zip to /content\n",
            "  0% 0.00/1.81M [00:00<?, ?B/s]\n",
            "100% 1.81M/1.81M [00:00<00:00, 121MB/s]\n",
            "Downloading test.csv.zip to /content\n",
            "100% 70.0M/70.0M [00:00<00:00, 77.8MB/s]\n",
            "\n"
          ],
          "name": "stdout"
        }
      ]
    },
    {
      "cell_type": "code",
      "metadata": {
        "colab": {
          "base_uri": "https://localhost:8080/"
        },
        "id": "qK9kHUYKsdqs",
        "outputId": "2211b700-fecf-45ae-dfef-3403c0075f9b"
      },
      "source": [
        "!unzip \\*.zip  && rm *.zip"
      ],
      "execution_count": 3,
      "outputs": [
        {
          "output_type": "stream",
          "text": [
            "Archive:  test.csv.zip\n",
            "  inflating: test.csv                \n",
            "\n",
            "Archive:  train.csv.zip\n",
            "  inflating: train.csv               \n",
            "\n",
            "Archive:  SAMPLE_SUBMISSION.csv.zip\n",
            "  inflating: SAMPLE_SUBMISSION.csv   \n",
            "\n",
            "3 archives were successfully processed.\n"
          ],
          "name": "stdout"
        }
      ]
    },
    {
      "cell_type": "markdown",
      "metadata": {
        "id": "GysFU9zHs12n"
      },
      "source": [
        "#Imports"
      ]
    },
    {
      "cell_type": "code",
      "metadata": {
        "id": "uhteQYVjsu7K"
      },
      "source": [
        "import pandas as pd\n",
        "import numpy as np"
      ],
      "execution_count": 36,
      "outputs": []
    },
    {
      "cell_type": "markdown",
      "metadata": {
        "id": "OkRSch6Bs5Rf"
      },
      "source": [
        "# Data Preprocessing"
      ]
    },
    {
      "cell_type": "code",
      "metadata": {
        "id": "ZqIiTPeCtmf_"
      },
      "source": [
        "df=pd.read_csv('train.csv')"
      ],
      "execution_count": 6,
      "outputs": []
    },
    {
      "cell_type": "code",
      "metadata": {
        "id": "k7kRZjEgumpP"
      },
      "source": [
        "#df.info()\n",
        "#df.head()\n",
        "#df.describe()\n",
        "#df.isnull().sum()"
      ],
      "execution_count": 8,
      "outputs": []
    },
    {
      "cell_type": "code",
      "metadata": {
        "colab": {
          "base_uri": "https://localhost:8080/",
          "height": 634
        },
        "id": "lMxW8KSFxpYl",
        "outputId": "271b6621-df53-4113-ba54-8b3f90adf5a0"
      },
      "source": [
        "df.head()"
      ],
      "execution_count": 19,
      "outputs": [
        {
          "output_type": "execute_result",
          "data": {
            "text/html": [
              "<div>\n",
              "<style scoped>\n",
              "    .dataframe tbody tr th:only-of-type {\n",
              "        vertical-align: middle;\n",
              "    }\n",
              "\n",
              "    .dataframe tbody tr th {\n",
              "        vertical-align: top;\n",
              "    }\n",
              "\n",
              "    .dataframe thead th {\n",
              "        text-align: right;\n",
              "    }\n",
              "</style>\n",
              "<table border=\"1\" class=\"dataframe\">\n",
              "  <thead>\n",
              "    <tr style=\"text-align: right;\">\n",
              "      <th></th>\n",
              "      <th>Unnamed: 0</th>\n",
              "      <th>Complaint_ID</th>\n",
              "      <th>Date received</th>\n",
              "      <th>Product</th>\n",
              "      <th>Sub-product</th>\n",
              "      <th>Issue</th>\n",
              "      <th>Sub-issue</th>\n",
              "      <th>Consumer complaint narrative</th>\n",
              "      <th>Company public response</th>\n",
              "      <th>Company</th>\n",
              "      <th>State</th>\n",
              "      <th>ZIP code</th>\n",
              "      <th>Tags</th>\n",
              "      <th>Consumer consent provided?</th>\n",
              "      <th>Submitted via</th>\n",
              "      <th>Date sent to company</th>\n",
              "      <th>Company response to consumer</th>\n",
              "      <th>Consumer disputed?</th>\n",
              "      <th>Timely response?</th>\n",
              "    </tr>\n",
              "  </thead>\n",
              "  <tbody>\n",
              "    <tr>\n",
              "      <th>0</th>\n",
              "      <td>0</td>\n",
              "      <td>2535701</td>\n",
              "      <td>6/8/2017</td>\n",
              "      <td>Mortgage</td>\n",
              "      <td>Conventional home mortgage</td>\n",
              "      <td>Struggling to pay mortgage</td>\n",
              "      <td>NaN</td>\n",
              "      <td>NaN</td>\n",
              "      <td>NaN</td>\n",
              "      <td>Caliber Home Loans, Inc.</td>\n",
              "      <td>FL</td>\n",
              "      <td>34744</td>\n",
              "      <td>NaN</td>\n",
              "      <td>NaN</td>\n",
              "      <td>Fax</td>\n",
              "      <td>6/12/2017</td>\n",
              "      <td>Closed with explanation</td>\n",
              "      <td>NaN</td>\n",
              "      <td>1</td>\n",
              "    </tr>\n",
              "    <tr>\n",
              "      <th>1</th>\n",
              "      <td>1</td>\n",
              "      <td>3314889</td>\n",
              "      <td>7/22/2019</td>\n",
              "      <td>Credit card or prepaid card</td>\n",
              "      <td>General-purpose credit card or charge card</td>\n",
              "      <td>Problem with a purchase shown on your statement</td>\n",
              "      <td>Credit card company isn't resolving a dispute ...</td>\n",
              "      <td>On XX/XX/2019 all of my credit and debit cards...</td>\n",
              "      <td>Company has responded to the consumer and the ...</td>\n",
              "      <td>WELLS FARGO &amp; COMPANY</td>\n",
              "      <td>CA</td>\n",
              "      <td>900XX</td>\n",
              "      <td>NaN</td>\n",
              "      <td>Consent provided</td>\n",
              "      <td>Web</td>\n",
              "      <td>7/22/2019</td>\n",
              "      <td>Closed with explanation</td>\n",
              "      <td>NaN</td>\n",
              "      <td>1</td>\n",
              "    </tr>\n",
              "    <tr>\n",
              "      <th>2</th>\n",
              "      <td>2</td>\n",
              "      <td>3612478</td>\n",
              "      <td>4/18/2020</td>\n",
              "      <td>Credit reporting, credit repair services, or o...</td>\n",
              "      <td>Credit reporting</td>\n",
              "      <td>Incorrect information on your report</td>\n",
              "      <td>Information belongs to someone else</td>\n",
              "      <td>I was made aware of a negative account and inq...</td>\n",
              "      <td>NaN</td>\n",
              "      <td>EQUIFAX, INC.</td>\n",
              "      <td>CA</td>\n",
              "      <td>945XX</td>\n",
              "      <td>NaN</td>\n",
              "      <td>Consent provided</td>\n",
              "      <td>Web</td>\n",
              "      <td>4/18/2020</td>\n",
              "      <td>Closed with explanation</td>\n",
              "      <td>NaN</td>\n",
              "      <td>1</td>\n",
              "    </tr>\n",
              "    <tr>\n",
              "      <th>3</th>\n",
              "      <td>3</td>\n",
              "      <td>2069704</td>\n",
              "      <td>8/18/2016</td>\n",
              "      <td>Bank account or service</td>\n",
              "      <td>Checking account</td>\n",
              "      <td>Deposits and withdrawals</td>\n",
              "      <td>NaN</td>\n",
              "      <td>NaN</td>\n",
              "      <td>Company has responded to the consumer and the ...</td>\n",
              "      <td>BANK OF AMERICA, NATIONAL ASSOCIATION</td>\n",
              "      <td>TX</td>\n",
              "      <td>77014</td>\n",
              "      <td>NaN</td>\n",
              "      <td>NaN</td>\n",
              "      <td>Phone</td>\n",
              "      <td>8/19/2016</td>\n",
              "      <td>Closed with monetary relief</td>\n",
              "      <td>No</td>\n",
              "      <td>1</td>\n",
              "    </tr>\n",
              "    <tr>\n",
              "      <th>4</th>\n",
              "      <td>4</td>\n",
              "      <td>3354927</td>\n",
              "      <td>8/27/2019</td>\n",
              "      <td>Debt collection</td>\n",
              "      <td>Auto debt</td>\n",
              "      <td>Took or threatened to take negative or legal a...</td>\n",
              "      <td>Threatened or suggested your credit would be d...</td>\n",
              "      <td>NaN</td>\n",
              "      <td>NaN</td>\n",
              "      <td>Bridgecrest Acceptance Corporation</td>\n",
              "      <td>PA</td>\n",
              "      <td>19143</td>\n",
              "      <td>Servicemember</td>\n",
              "      <td>Consent not provided</td>\n",
              "      <td>Web</td>\n",
              "      <td>8/27/2019</td>\n",
              "      <td>Closed with explanation</td>\n",
              "      <td>NaN</td>\n",
              "      <td>1</td>\n",
              "    </tr>\n",
              "  </tbody>\n",
              "</table>\n",
              "</div>"
            ],
            "text/plain": [
              "   Unnamed: 0  Complaint_ID  ... Consumer disputed? Timely response?\n",
              "0           0       2535701  ...                NaN                1\n",
              "1           1       3314889  ...                NaN                1\n",
              "2           2       3612478  ...                NaN                1\n",
              "3           3       2069704  ...                 No                1\n",
              "4           4       3354927  ...                NaN                1\n",
              "\n",
              "[5 rows x 19 columns]"
            ]
          },
          "metadata": {
            "tags": []
          },
          "execution_count": 19
        }
      ]
    },
    {
      "cell_type": "code",
      "metadata": {
        "colab": {
          "base_uri": "https://localhost:8080/"
        },
        "id": "nezltWORvD7-",
        "outputId": "181cc2ef-cd8e-45eb-cdf3-76fd31fa5690"
      },
      "source": [
        "df.info()"
      ],
      "execution_count": 38,
      "outputs": [
        {
          "output_type": "stream",
          "text": [
            "<class 'pandas.core.frame.DataFrame'>\n",
            "RangeIndex: 1048575 entries, 0 to 1048574\n",
            "Data columns (total 19 columns):\n",
            " #   Column                        Non-Null Count    Dtype \n",
            "---  ------                        --------------    ----- \n",
            " 0   Unnamed: 0                    1048575 non-null  int64 \n",
            " 1   Complaint_ID                  1048575 non-null  int64 \n",
            " 2   Date received                 1048575 non-null  object\n",
            " 3   Product                       1048575 non-null  object\n",
            " 4   Sub-product                   947674 non-null   object\n",
            " 5   Issue                         1048575 non-null  object\n",
            " 6   Sub-issue                     766056 non-null   object\n",
            " 7   Consumer complaint narrative  310809 non-null   object\n",
            " 8   Company public response       446648 non-null   object\n",
            " 9   Company                       1048575 non-null  object\n",
            " 10  State                         1027557 non-null  object\n",
            " 11  ZIP code                      954841 non-null   object\n",
            " 12  Tags                          129277 non-null   object\n",
            " 13  Consumer consent provided?    680949 non-null   object\n",
            " 14  Submitted via                 1048575 non-null  object\n",
            " 15  Date sent to company          1048575 non-null  object\n",
            " 16  Company response to consumer  1048574 non-null  object\n",
            " 17  Consumer disputed?            329143 non-null   object\n",
            " 18  Timely response?              1048575 non-null  int64 \n",
            "dtypes: int64(3), object(16)\n",
            "memory usage: 152.0+ MB\n"
          ],
          "name": "stdout"
        }
      ]
    },
    {
      "cell_type": "markdown",
      "metadata": {
        "id": "69lKF1RkvWIf"
      },
      "source": [
        "### Encoding"
      ]
    },
    {
      "cell_type": "code",
      "metadata": {
        "colab": {
          "base_uri": "https://localhost:8080/",
          "height": 420
        },
        "id": "2LIGk6iMvZHW",
        "outputId": "209af24b-8be6-476f-f20a-7ea4f29997b9"
      },
      "source": [
        "from sklearn.preprocessing import LabelEncoder\n",
        "listing=['Timely response?','Consumer disputed?','Company response to consumer',\n",
        "         'Consumer consent provided?','Submitted via','Tags','State','Company public response',\n",
        "         #'Issue','Sub-issue',\n",
        "         'Product','Sub-product']\n",
        "for i in listing:\n",
        "  lb=LabelEncoder()\n",
        "  df[str(i)]= lb.fit_transform(df[str(i)])"
      ],
      "execution_count": 53,
      "outputs": [
        {
          "output_type": "error",
          "ename": "TypeError",
          "evalue": "ignored",
          "traceback": [
            "\u001b[0;31m---------------------------------------------------------------------------\u001b[0m",
            "\u001b[0;31mTypeError\u001b[0m                                 Traceback (most recent call last)",
            "\u001b[0;32m/usr/local/lib/python3.7/dist-packages/sklearn/preprocessing/_label.py\u001b[0m in \u001b[0;36m_encode\u001b[0;34m(values, uniques, encode, check_unknown)\u001b[0m\n\u001b[1;32m    111\u001b[0m         \u001b[0;32mtry\u001b[0m\u001b[0;34m:\u001b[0m\u001b[0;34m\u001b[0m\u001b[0;34m\u001b[0m\u001b[0m\n\u001b[0;32m--> 112\u001b[0;31m             \u001b[0mres\u001b[0m \u001b[0;34m=\u001b[0m \u001b[0m_encode_python\u001b[0m\u001b[0;34m(\u001b[0m\u001b[0mvalues\u001b[0m\u001b[0;34m,\u001b[0m \u001b[0muniques\u001b[0m\u001b[0;34m,\u001b[0m \u001b[0mencode\u001b[0m\u001b[0;34m)\u001b[0m\u001b[0;34m\u001b[0m\u001b[0;34m\u001b[0m\u001b[0m\n\u001b[0m\u001b[1;32m    113\u001b[0m         \u001b[0;32mexcept\u001b[0m \u001b[0mTypeError\u001b[0m\u001b[0;34m:\u001b[0m\u001b[0;34m\u001b[0m\u001b[0;34m\u001b[0m\u001b[0m\n",
            "\u001b[0;32m/usr/local/lib/python3.7/dist-packages/sklearn/preprocessing/_label.py\u001b[0m in \u001b[0;36m_encode_python\u001b[0;34m(values, uniques, encode)\u001b[0m\n\u001b[1;32m     59\u001b[0m     \u001b[0;32mif\u001b[0m \u001b[0muniques\u001b[0m \u001b[0;32mis\u001b[0m \u001b[0;32mNone\u001b[0m\u001b[0;34m:\u001b[0m\u001b[0;34m\u001b[0m\u001b[0;34m\u001b[0m\u001b[0m\n\u001b[0;32m---> 60\u001b[0;31m         \u001b[0muniques\u001b[0m \u001b[0;34m=\u001b[0m \u001b[0msorted\u001b[0m\u001b[0;34m(\u001b[0m\u001b[0mset\u001b[0m\u001b[0;34m(\u001b[0m\u001b[0mvalues\u001b[0m\u001b[0;34m)\u001b[0m\u001b[0;34m)\u001b[0m\u001b[0;34m\u001b[0m\u001b[0;34m\u001b[0m\u001b[0m\n\u001b[0m\u001b[1;32m     61\u001b[0m         \u001b[0muniques\u001b[0m \u001b[0;34m=\u001b[0m \u001b[0mnp\u001b[0m\u001b[0;34m.\u001b[0m\u001b[0marray\u001b[0m\u001b[0;34m(\u001b[0m\u001b[0muniques\u001b[0m\u001b[0;34m,\u001b[0m \u001b[0mdtype\u001b[0m\u001b[0;34m=\u001b[0m\u001b[0mvalues\u001b[0m\u001b[0;34m.\u001b[0m\u001b[0mdtype\u001b[0m\u001b[0;34m)\u001b[0m\u001b[0;34m\u001b[0m\u001b[0;34m\u001b[0m\u001b[0m\n",
            "\u001b[0;31mTypeError\u001b[0m: '<' not supported between instances of 'str' and 'float'",
            "\nDuring handling of the above exception, another exception occurred:\n",
            "\u001b[0;31mTypeError\u001b[0m                                 Traceback (most recent call last)",
            "\u001b[0;32m<ipython-input-53-e84e6fdddc4d>\u001b[0m in \u001b[0;36m<module>\u001b[0;34m()\u001b[0m\n\u001b[1;32m      6\u001b[0m \u001b[0;32mfor\u001b[0m \u001b[0mi\u001b[0m \u001b[0;32min\u001b[0m \u001b[0mlisting\u001b[0m\u001b[0;34m:\u001b[0m\u001b[0;34m\u001b[0m\u001b[0;34m\u001b[0m\u001b[0m\n\u001b[1;32m      7\u001b[0m   \u001b[0mlb\u001b[0m\u001b[0;34m=\u001b[0m\u001b[0mLabelEncoder\u001b[0m\u001b[0;34m(\u001b[0m\u001b[0;34m)\u001b[0m\u001b[0;34m\u001b[0m\u001b[0;34m\u001b[0m\u001b[0m\n\u001b[0;32m----> 8\u001b[0;31m   \u001b[0mdf\u001b[0m\u001b[0;34m[\u001b[0m\u001b[0mstr\u001b[0m\u001b[0;34m(\u001b[0m\u001b[0mi\u001b[0m\u001b[0;34m)\u001b[0m\u001b[0;34m]\u001b[0m\u001b[0;34m=\u001b[0m \u001b[0mlb\u001b[0m\u001b[0;34m.\u001b[0m\u001b[0mfit_transform\u001b[0m\u001b[0;34m(\u001b[0m\u001b[0mdf\u001b[0m\u001b[0;34m[\u001b[0m\u001b[0mstr\u001b[0m\u001b[0;34m(\u001b[0m\u001b[0mi\u001b[0m\u001b[0;34m)\u001b[0m\u001b[0;34m]\u001b[0m\u001b[0;34m)\u001b[0m\u001b[0;34m\u001b[0m\u001b[0;34m\u001b[0m\u001b[0m\n\u001b[0m",
            "\u001b[0;32m/usr/local/lib/python3.7/dist-packages/sklearn/preprocessing/_label.py\u001b[0m in \u001b[0;36mfit_transform\u001b[0;34m(self, y)\u001b[0m\n\u001b[1;32m    250\u001b[0m         \"\"\"\n\u001b[1;32m    251\u001b[0m         \u001b[0my\u001b[0m \u001b[0;34m=\u001b[0m \u001b[0mcolumn_or_1d\u001b[0m\u001b[0;34m(\u001b[0m\u001b[0my\u001b[0m\u001b[0;34m,\u001b[0m \u001b[0mwarn\u001b[0m\u001b[0;34m=\u001b[0m\u001b[0;32mTrue\u001b[0m\u001b[0;34m)\u001b[0m\u001b[0;34m\u001b[0m\u001b[0;34m\u001b[0m\u001b[0m\n\u001b[0;32m--> 252\u001b[0;31m         \u001b[0mself\u001b[0m\u001b[0;34m.\u001b[0m\u001b[0mclasses_\u001b[0m\u001b[0;34m,\u001b[0m \u001b[0my\u001b[0m \u001b[0;34m=\u001b[0m \u001b[0m_encode\u001b[0m\u001b[0;34m(\u001b[0m\u001b[0my\u001b[0m\u001b[0;34m,\u001b[0m \u001b[0mencode\u001b[0m\u001b[0;34m=\u001b[0m\u001b[0;32mTrue\u001b[0m\u001b[0;34m)\u001b[0m\u001b[0;34m\u001b[0m\u001b[0;34m\u001b[0m\u001b[0m\n\u001b[0m\u001b[1;32m    253\u001b[0m         \u001b[0;32mreturn\u001b[0m \u001b[0my\u001b[0m\u001b[0;34m\u001b[0m\u001b[0;34m\u001b[0m\u001b[0m\n\u001b[1;32m    254\u001b[0m \u001b[0;34m\u001b[0m\u001b[0m\n",
            "\u001b[0;32m/usr/local/lib/python3.7/dist-packages/sklearn/preprocessing/_label.py\u001b[0m in \u001b[0;36m_encode\u001b[0;34m(values, uniques, encode, check_unknown)\u001b[0m\n\u001b[1;32m    112\u001b[0m             \u001b[0mres\u001b[0m \u001b[0;34m=\u001b[0m \u001b[0m_encode_python\u001b[0m\u001b[0;34m(\u001b[0m\u001b[0mvalues\u001b[0m\u001b[0;34m,\u001b[0m \u001b[0muniques\u001b[0m\u001b[0;34m,\u001b[0m \u001b[0mencode\u001b[0m\u001b[0;34m)\u001b[0m\u001b[0;34m\u001b[0m\u001b[0;34m\u001b[0m\u001b[0m\n\u001b[1;32m    113\u001b[0m         \u001b[0;32mexcept\u001b[0m \u001b[0mTypeError\u001b[0m\u001b[0;34m:\u001b[0m\u001b[0;34m\u001b[0m\u001b[0;34m\u001b[0m\u001b[0m\n\u001b[0;32m--> 114\u001b[0;31m             \u001b[0;32mraise\u001b[0m \u001b[0mTypeError\u001b[0m\u001b[0;34m(\u001b[0m\u001b[0;34m\"argument must be a string or number\"\u001b[0m\u001b[0;34m)\u001b[0m\u001b[0;34m\u001b[0m\u001b[0;34m\u001b[0m\u001b[0m\n\u001b[0m\u001b[1;32m    115\u001b[0m         \u001b[0;32mreturn\u001b[0m \u001b[0mres\u001b[0m\u001b[0;34m\u001b[0m\u001b[0;34m\u001b[0m\u001b[0m\n\u001b[1;32m    116\u001b[0m     \u001b[0;32melse\u001b[0m\u001b[0;34m:\u001b[0m\u001b[0;34m\u001b[0m\u001b[0;34m\u001b[0m\u001b[0m\n",
            "\u001b[0;31mTypeError\u001b[0m: argument must be a string or number"
          ]
        }
      ]
    },
    {
      "cell_type": "code",
      "metadata": {
        "id": "1WubmAQr43-B"
      },
      "source": [
        "print(df['Sub-product'].describe())"
      ],
      "execution_count": null,
      "outputs": []
    },
    {
      "cell_type": "code",
      "metadata": {
        "colab": {
          "base_uri": "https://localhost:8080/"
        },
        "id": "A9P2T3O6vne2",
        "outputId": "a58b6715-970f-4497-c062-63aa1f38a005"
      },
      "source": [
        "df['Sub-issue'].unique()"
      ],
      "execution_count": 57,
      "outputs": [
        {
          "output_type": "execute_result",
          "data": {
            "text/plain": [
              "array([nan,\n",
              "       \"Credit card company isn't resolving a dispute about a purchase on your statement\",\n",
              "       'Information belongs to someone else',\n",
              "       'Threatened or suggested your credit would be damaged',\n",
              "       'Their investigation did not fix an error on your report',\n",
              "       'Account status incorrect',\n",
              "       'Threatened to sue you for very old debt',\n",
              "       'Investigation took more than 30 days',\n",
              "       'Account information incorrect',\n",
              "       'Problem with personal statement of dispute',\n",
              "       'Difficulty submitting a dispute or getting information about a dispute over the phone',\n",
              "       'Attempted to collect wrong amount',\n",
              "       'Trouble with how payments are being handled', 'Account terms',\n",
              "       'Information is not mine', 'Account status', 'Debt is not yours',\n",
              "       'Was not notified of investigation status or results',\n",
              "       'Debt was paid', 'Contacted you after you asked them to stop',\n",
              "       'Public record', 'Old information reappears or never goes away',\n",
              "       'Sent card you never applied for',\n",
              "       'Not given enough info to verify debt', 'Late or other fees',\n",
              "       'Frequent or repeated calls',\n",
              "       'You told them to stop contacting you, but they keep trying',\n",
              "       'Other problem',\n",
              "       \"Credit inquiries on your report that you don't recognize\",\n",
              "       'Contacted your employer',\n",
              "       'Received marketing offer after opted out',\n",
              "       'Right to dispute notice not received',\n",
              "       'Transaction was not authorized', 'Debt is not mine',\n",
              "       'Problem with statement of dispute',\n",
              "       'Information is missing that should be on the report',\n",
              "       'Banking errors', 'Received bad information about your loan',\n",
              "       \"Can't temporarily delay making payments\",\n",
              "       'Keep getting calls about my loan',\n",
              "       'Public record information inaccurate',\n",
              "       'Personal information incorrect', \"Can't close your account\",\n",
              "       'Deposits and withdrawals',\n",
              "       \"Didn't receive notice of right to dispute\",\n",
              "       \"Didn't receive enough information to verify debt\",\n",
              "       'Application denied',\n",
              "       'Funds not handled or disbursed as instructed',\n",
              "       'Lender trying to repossess or disable the vehicle',\n",
              "       'Problem while selling or giving up the vehicle',\n",
              "       \"Didn't receive terms that were advertised\",\n",
              "       'Debt was result of identity theft',\n",
              "       'Told you not to respond to a lawsuit they filed against you',\n",
              "       'Need information about my balance/terms',\n",
              "       'Sued you without properly notifying you of lawsuit',\n",
              "       'Billing problem', 'Report improperly shared by CRC',\n",
              "       'Threatened to take legal action',\n",
              "       'Reporting company used your report improperly',\n",
              "       'Talked to a third-party about your debt',\n",
              "       \"Sued where didn't live/sign for debt\",\n",
              "       \"Can't get flexible payment options\",\n",
              "       'Billing dispute for services', 'Problem during payment process',\n",
              "       'Company closed your account',\n",
              "       'Problem getting your free annual credit report',\n",
              "       \"Can't get other flexible options for repaying your loan\",\n",
              "       'Overdrafts and overdraft fees',\n",
              "       'Used obscene, profane, or other abusive language',\n",
              "       'Threatened to sue on too old debt',\n",
              "       \"Didn't receive services that were advertised\",\n",
              "       'Trouble closing card', 'Problem with rewards from credit card',\n",
              "       'Indicated you were committing crime by not paying debt',\n",
              "       'Overcharged for something you did purchase with the card',\n",
              "       'Charged too much interest',\n",
              "       'Problem getting my free annual report', 'Personal information',\n",
              "       'Collected or attempted to collect exempt funds',\n",
              "       'Trouble using the card to pay a bill', 'Fee problem',\n",
              "       'Unable to receive car title or other problem after the loan is paid off',\n",
              "       'Problem accessing account',\n",
              "       'Contacted employer after asked not to',\n",
              "       'Problem extending the lease', 'Inadequate help over the phone',\n",
              "       'Received bad information about my loan',\n",
              "       'Card was charged for something you did not purchase with the card',\n",
              "       'Reinserted previously deleted info',\n",
              "       \"Card company isn't resolving a dispute about a purchase or transfer\",\n",
              "       'Problem lowering your monthly payments',\n",
              "       \"Can't decrease my monthly payments\", 'Deposits or withdrawals',\n",
              "       'Sued w/o proper notification of suit', 'Fraudulent loan',\n",
              "       'Received unwanted marketing or advertising',\n",
              "       'Other problem getting your report or credit score',\n",
              "       'Called after sent written cease of comm',\n",
              "       'Not disclosed as an attempt to collect',\n",
              "       'Trouble with how payments are handled',\n",
              "       'Having problems with customer service',\n",
              "       'No notice of investigation status/result',\n",
              "       'Problem using a debit or ATM card',\n",
              "       'Sued you in a state where you do not live or did not sign for the debt',\n",
              "       'Attempted to/Collected exempt funds',\n",
              "       'Denied request to lower payments',\n",
              "       'Contacted me after I asked not to', 'Unable to open an account',\n",
              "       'Funds not received from closed account',\n",
              "       'Problem after you declared or threatened to declare bankruptcy',\n",
              "       'Card opened as result of identity theft or fraud',\n",
              "       'Problem with fees', 'Threatened arrest/jail if do not pay',\n",
              "       'Debt resulted from identity theft',\n",
              "       'Talked to a third party about my debt',\n",
              "       'Problem canceling credit monitoring or identify theft protection service',\n",
              "       \"Can't temporarily postpone payments\",\n",
              "       'Non-sufficient funds and associated fees',\n",
              "       'Investigation took too long', 'Problem with fees charged',\n",
              "       'Cashing a check',\n",
              "       'Debt was already discharged in bankruptcy and is no longer owed',\n",
              "       'You never received your bill or did not know a payment was due',\n",
              "       'Information is incorrect',\n",
              "       \"Credit card company won't work with you while you're going through financial hardship\",\n",
              "       \"Credit card company won't increase or decrease your credit limit\",\n",
              "       'Debt was discharged in bankruptcy',\n",
              "       \"Can't use card to make purchases\",\n",
              "       'Problem getting a working replacement card',\n",
              "       'Used obscene/profane/abusive language',\n",
              "       \"Didn't receive advertised or promotional terms\",\n",
              "       'Need information about your loan balance or loan terms',\n",
              "       'Problem with customer service',\n",
              "       'Problem making or receiving payments',\n",
              "       'Trouble using the card to spend money in a store or online',\n",
              "       'Problem getting report or credit score',\n",
              "       'Problem cancelling or closing account',\n",
              "       'Seized or attempted to seize your property',\n",
              "       'Threatened to arrest you or take you to jail if you do not pay',\n",
              "       'Termination fees or other problem when ending the lease early',\n",
              "       'Overdraft charges', 'Credit denial',\n",
              "       'Charged for a purchase or transfer you did not make with the card',\n",
              "       'Called outside of 8am-9pm',\n",
              "       'Incorrect information on your report',\n",
              "       'Seized/Attempted to seize property', 'Problem with renewal',\n",
              "       'Problem using the card to withdraw money from an ATM',\n",
              "       'Problem with balance transfer',\n",
              "       \"Don't agree with the fees charged\",\n",
              "       'Problem with paying off the loan', 'Account terms and changes',\n",
              "       'Impersonated an attorney or official',\n",
              "       'Information that should be on the report is missing',\n",
              "       'Trouble getting, activating, or registering a card',\n",
              "       'Impersonated attorney, law enforcement, or government official',\n",
              "       'Unexpected increase in interest rate',\n",
              "       'Confusing or misleading advertising about the credit card',\n",
              "       'Loan sold or transferred to another company',\n",
              "       'Loan balance remaining after the vehicle is repossessed and sold',\n",
              "       \"Don't agree with fees charged\", 'Problem with fraud alerts',\n",
              "       'Problem when attempting to purchase vehicle at the end of the lease',\n",
              "       'Delay in processing application',\n",
              "       'Money was taken from your account on the wrong day or for the wrong amount',\n",
              "       'Problem with additional products or services purchased with the loan',\n",
              "       'Excess mileage, damage, or wear fees, or other problem after the lease is finish',\n",
              "       'Indicated committed crime not paying', 'Problem adding money',\n",
              "       'Trouble getting information about the card',\n",
              "       \"Indicated shouldn't respond to lawsuit\",\n",
              "       'Keep getting calls about your loan',\n",
              "       'Problem with the interest rate', 'Billing dispute',\n",
              "       'Account opened as a result of fraud',\n",
              "       'Receiving unwanted marketing/advertising',\n",
              "       'Problem with product or service terms changing',\n",
              "       \"Notification didn't disclose it was an attempt to collect a debt\",\n",
              "       'Trouble getting a working replacement card',\n",
              "       'Confusing or missing disclosures',\n",
              "       'Called before 8am or after 9pm',\n",
              "       'Credit card company forcing arbitration',\n",
              "       'Report provided to employer without your written authorization',\n",
              "       'Changes in terms mid-deal or after closing',\n",
              "       'Bounced checks or returned payments',\n",
              "       \"Don't want a card provided by your employer or the government\",\n",
              "       'Denied loan', 'Confusing or misleading advertising',\n",
              "       'Add-on products and services', 'Filed for bankruptcy',\n",
              "       'Problem with signing the paperwork',\n",
              "       'Problem related to refinancing',\n",
              "       'Confusing or misleading advertising about the card',\n",
              "       'Received unsolicited financial product or insurance offers after opting out',\n",
              "       \"Can't stop withdrawals from your account\",\n",
              "       'Problem with direct deposit', 'Privacy issues',\n",
              "       'Changes in terms from what was offered or advertised',\n",
              "       'Contacted me instead of my attorney',\n",
              "       'Report shared with employer w/o consent',\n",
              "       'High-pressure sales tactics', 'Fees charged for closing account',\n",
              "       'Problem with cash advances', 'Problem with a trade-in',\n",
              "       'Problem with a check written from your prepaid card account',\n",
              "       'Problem with fees or penalties',\n",
              "       'Qualify for a better loan than offered',\n",
              "       \"Can't qualify for a loan\", 'Problem with convenience check',\n",
              "       'Confusing or misleading advertising or marketing',\n",
              "       'Overcharged for a purchase or transfer you did make with the card',\n",
              "       'Account sold or transferred to another company',\n",
              "       'Problem with additional add-on products or services purchased with the loan',\n",
              "       'Threatened to turn you in to immigration or deport you',\n",
              "       'Trouble using the card to send money to another person',\n",
              "       'Contacted you instead of your attorney',\n",
              "       'Qualified for a better loan than the one offered',\n",
              "       \"Problem with a credit reporting company's investigation into an existing problem\",\n",
              "       'Insurance terms',\n",
              "       \"Was signed up for overdraft on card, but don't want to be\",\n",
              "       'Credit monitoring or identity theft protection services'],\n",
              "      dtype=object)"
            ]
          },
          "metadata": {
            "tags": []
          },
          "execution_count": 57
        }
      ]
    },
    {
      "cell_type": "markdown",
      "metadata": {
        "id": "31-epBhKs8LP"
      },
      "source": [
        "# Data Visualization"
      ]
    },
    {
      "cell_type": "markdown",
      "metadata": {
        "id": "rwbwNsVax3zO"
      },
      "source": [
        "## Uniqueness"
      ]
    },
    {
      "cell_type": "code",
      "metadata": {
        "colab": {
          "base_uri": "https://localhost:8080/"
        },
        "id": "Yv-_lMaBx_Ad",
        "outputId": "09ceae4e-7399-4dbe-8e2a-55c611cbbdfc"
      },
      "source": [
        "#print(df['Consumer disputed?'].unique())\n",
        "#print(df['Company response to consumer'].unique())\n",
        "print(df['Date received'].unique())\n"
      ],
      "execution_count": 35,
      "outputs": [
        {
          "output_type": "stream",
          "text": [
            "['6/8/2017' '7/22/2019' '4/18/2020' ... '9/8/2013' '6/16/2018' '3/9/2014']\n"
          ],
          "name": "stdout"
        }
      ]
    },
    {
      "cell_type": "code",
      "metadata": {
        "colab": {
          "base_uri": "https://localhost:8080/"
        },
        "id": "7bIfHHVXGQk8",
        "outputId": "f2605676-626b-4515-dca0-fd3ccc585515"
      },
      "source": [
        "df.isnull().sum()"
      ],
      "execution_count": 55,
      "outputs": [
        {
          "output_type": "execute_result",
          "data": {
            "text/plain": [
              "Unnamed: 0                           0\n",
              "Complaint_ID                         0\n",
              "Date received                        0\n",
              "Product                              0\n",
              "Sub-product                     100901\n",
              "Issue                                0\n",
              "Sub-issue                       282519\n",
              "Consumer complaint narrative    737766\n",
              "Company public response         601927\n",
              "Company                              0\n",
              "State                            21018\n",
              "ZIP code                         93734\n",
              "Tags                            919298\n",
              "Consumer consent provided?      367626\n",
              "Submitted via                        0\n",
              "Date sent to company                 0\n",
              "Company response to consumer         1\n",
              "Consumer disputed?              719432\n",
              "Timely response?                     0\n",
              "dtype: int64"
            ]
          },
          "metadata": {
            "tags": []
          },
          "execution_count": 55
        }
      ]
    },
    {
      "cell_type": "markdown",
      "metadata": {
        "id": "YNPL-iFSxfj9"
      },
      "source": [
        "##Correlation\n"
      ]
    },
    {
      "cell_type": "code",
      "metadata": {
        "id": "rLFrL1GIxhmV"
      },
      "source": [
        "print(df['']. corr(df['']))"
      ],
      "execution_count": null,
      "outputs": []
    },
    {
      "cell_type": "markdown",
      "metadata": {
        "id": "MRgEQgogs-cv"
      },
      "source": [
        "# Train Test Split"
      ]
    },
    {
      "cell_type": "code",
      "metadata": {
        "id": "yfQC2UCdwYUP"
      },
      "source": [
        "y = df.loc[:,'Timely response?']\n",
        "X = df.drop(['Complaint_ID','Timely response?','Unnamed: 0'],axis=1)"
      ],
      "execution_count": 18,
      "outputs": []
    },
    {
      "cell_type": "code",
      "metadata": {
        "id": "UIaG_L-Qtx7v"
      },
      "source": [
        "from sklearn.model_selection import train_test_split"
      ],
      "execution_count": null,
      "outputs": []
    },
    {
      "cell_type": "code",
      "metadata": {
        "id": "gqvh3Ohtt5Ue"
      },
      "source": [
        "X_train, X_test, y_train, y_test = train_test_split(X, y, test_size=0.2, random_state=2)"
      ],
      "execution_count": null,
      "outputs": []
    },
    {
      "cell_type": "markdown",
      "metadata": {
        "id": "U_Q5a8xftC9f"
      },
      "source": [
        "# Models"
      ]
    },
    {
      "cell_type": "markdown",
      "metadata": {
        "id": "rnCwhXIYtFRv"
      },
      "source": [
        "# Prediction"
      ]
    },
    {
      "cell_type": "code",
      "metadata": {
        "id": "Dkh2Ex3ExDm-"
      },
      "source": [
        "y_pred=model.predict(X_test)"
      ],
      "execution_count": null,
      "outputs": []
    },
    {
      "cell_type": "code",
      "metadata": {
        "id": "d9G6WFvsxEI9"
      },
      "source": [
        "from sklearn.metrics import accuracy_score\n",
        "print(\"Accuracy:\",accuracy_score(y_test, y_pred))"
      ],
      "execution_count": null,
      "outputs": []
    },
    {
      "cell_type": "code",
      "metadata": {
        "id": "M1FotnDmuR1e"
      },
      "source": [
        "from sklearn.metrics import f1_score\n",
        "f1_score(y_test, y_pred, average='weighted')\n",
        "#"
      ],
      "execution_count": null,
      "outputs": []
    },
    {
      "cell_type": "markdown",
      "metadata": {
        "id": "0r9WTtgvtXs_"
      },
      "source": [
        "# Submission"
      ]
    },
    {
      "cell_type": "code",
      "metadata": {
        "id": "uvaKGsNftA6K"
      },
      "source": [
        "tdf=pd.read_csv('test.csv')"
      ],
      "execution_count": null,
      "outputs": []
    },
    {
      "cell_type": "markdown",
      "metadata": {
        "id": "q4JqyzhcxLU3"
      },
      "source": [
        "## Submission File"
      ]
    },
    {
      "cell_type": "code",
      "metadata": {
        "id": "lWRJWMU2xOQt"
      },
      "source": [
        ""
      ],
      "execution_count": null,
      "outputs": []
    }
  ]
}