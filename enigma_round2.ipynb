{
  "nbformat": 4,
  "nbformat_minor": 0,
  "metadata": {
    "colab": {
      "name": "enigma-round2.ipynb",
      "provenance": [],
      "collapsed_sections": [
        "GysFU9zHs12n",
        "rwbwNsVax3zO",
        "0r9WTtgvtXs_",
        "q4JqyzhcxLU3"
      ],
      "toc_visible": true,
      "include_colab_link": true
    },
    "kernelspec": {
      "display_name": "Python 3",
      "name": "python3"
    },
    "language_info": {
      "name": "python"
    }
  },
  "cells": [
    {
      "cell_type": "markdown",
      "metadata": {
        "id": "view-in-github",
        "colab_type": "text"
      },
      "source": [
        "<a href=\"https://colab.research.google.com/github/hruthiksiva/DataScience-Competitions/blob/main/enigma_round2.ipynb\" target=\"_parent\"><img src=\"https://colab.research.google.com/assets/colab-badge.svg\" alt=\"Open In Colab\"/></a>"
      ]
    },
    {
      "cell_type": "markdown",
      "metadata": {
        "id": "AJcJLis-tLig"
      },
      "source": [
        "## Kaggle API"
      ]
    },
    {
      "cell_type": "code",
      "metadata": {
        "colab": {
          "base_uri": "https://localhost:8080/"
        },
        "id": "sn4kfuz2KuDj",
        "outputId": "c3e9caf0-72e4-436d-defe-6fe6a5604975"
      },
      "source": [
        "!gdown https://drive.google.com/u/0/uc?id=1XcMvwBxCa8WDRBbA-UsTK4T8gAyA42SP\n",
        "!mv kaggle.json /root/.kaggle/\n",
        "!chmod 600 /root/.kaggle/kaggle.json\n",
        "!kaggle competitions download -c consumer-complaints"
      ],
      "execution_count": 2,
      "outputs": [
        {
          "output_type": "stream",
          "text": [
            "Downloading...\n",
            "From: https://drive.google.com/u/0/uc?id=1XcMvwBxCa8WDRBbA-UsTK4T8gAyA42SP\n",
            "To: /content/kaggle.json\n",
            "100% 70.0/70.0 [00:00<00:00, 123kB/s]\n",
            "Warning: Looks like you're using an outdated API Version, please consider updating (server 1.5.12 / client 1.5.4)\n",
            "Downloading test.csv.zip to /content\n",
            " 73% 51.0M/70.0M [00:00<00:00, 130MB/s]\n",
            "100% 70.0M/70.0M [00:00<00:00, 177MB/s]\n",
            "Downloading SAMPLE_SUBMISSION.csv.zip to /content\n",
            "  0% 0.00/1.81M [00:00<?, ?B/s]\n",
            "100% 1.81M/1.81M [00:00<00:00, 123MB/s]\n",
            "Downloading train.csv.zip to /content\n",
            " 93% 149M/159M [00:00<00:00, 174MB/s]\n",
            "100% 159M/159M [00:00<00:00, 191MB/s]\n"
          ],
          "name": "stdout"
        }
      ]
    },
    {
      "cell_type": "code",
      "metadata": {
        "colab": {
          "base_uri": "https://localhost:8080/"
        },
        "id": "qK9kHUYKsdqs",
        "outputId": "b5275130-c82e-420a-e48d-cd5cd99c2119"
      },
      "source": [
        "!unzip \\*.zip  && rm *.zip"
      ],
      "execution_count": null,
      "outputs": [
        {
          "output_type": "stream",
          "text": [
            "Archive:  test.csv.zip\n",
            "  inflating: test.csv                \n",
            "\n",
            "Archive:  train.csv.zip\n",
            "  inflating: train.csv               \n",
            "\n",
            "Archive:  SAMPLE_SUBMISSION.csv.zip\n",
            "  inflating: SAMPLE_SUBMISSION.csv   \n",
            "\n",
            "3 archives were successfully processed.\n"
          ],
          "name": "stdout"
        }
      ]
    },
    {
      "cell_type": "markdown",
      "metadata": {
        "id": "GysFU9zHs12n"
      },
      "source": [
        "#Imports"
      ]
    },
    {
      "cell_type": "code",
      "metadata": {
        "id": "uhteQYVjsu7K"
      },
      "source": [
        "import pandas as pd\n",
        "import numpy as np"
      ],
      "execution_count": null,
      "outputs": []
    },
    {
      "cell_type": "markdown",
      "metadata": {
        "id": "OkRSch6Bs5Rf"
      },
      "source": [
        "# Data Preprocessing"
      ]
    },
    {
      "cell_type": "code",
      "metadata": {
        "id": "ZqIiTPeCtmf_"
      },
      "source": [
        "df=pd.read_csv('train.csv',parse_dates=['Date received','Date sent to company'])\n",
        "df2=pd.read_csv('test.csv',parse_dates=['Date received','Date sent to company'])\n",
        "df=df.fillna('NaN')\n",
        "df2=df2.fillna('NaN')\n",
        "df.drop(columns=['Unnamed: 0'], inplace=True)\n",
        "df2.drop(columns=['Unnamed: 0'], inplace=True)"
      ],
      "execution_count": null,
      "outputs": []
    },
    {
      "cell_type": "code",
      "metadata": {
        "id": "k7kRZjEgumpP"
      },
      "source": [
        "#df.info()\n",
        "#df.head()\n",
        "#df.describe()\n",
        "#df.isnull().sum()"
      ],
      "execution_count": null,
      "outputs": []
    },
    {
      "cell_type": "code",
      "metadata": {
        "colab": {
          "base_uri": "https://localhost:8080/"
        },
        "id": "v5iwo9YSP-ce",
        "outputId": "aac3a555-043c-42a6-cbe2-b435d813f0b6"
      },
      "source": [
        "df.info()"
      ],
      "execution_count": null,
      "outputs": [
        {
          "output_type": "stream",
          "text": [
            "<class 'pandas.core.frame.DataFrame'>\n",
            "RangeIndex: 1048575 entries, 0 to 1048574\n",
            "Data columns (total 19 columns):\n",
            " #   Column                        Non-Null Count    Dtype         \n",
            "---  ------                        --------------    -----         \n",
            " 0   Unnamed: 0                    1048575 non-null  int64         \n",
            " 1   Complaint_ID                  1048575 non-null  int64         \n",
            " 2   Date received                 1048575 non-null  datetime64[ns]\n",
            " 3   Product                       1048575 non-null  object        \n",
            " 4   Sub-product                   1048575 non-null  object        \n",
            " 5   Issue                         1048575 non-null  object        \n",
            " 6   Sub-issue                     1048575 non-null  object        \n",
            " 7   Consumer complaint narrative  1048575 non-null  object        \n",
            " 8   Company public response       1048575 non-null  object        \n",
            " 9   Company                       1048575 non-null  object        \n",
            " 10  State                         1048575 non-null  object        \n",
            " 11  ZIP code                      1048575 non-null  object        \n",
            " 12  Tags                          1048575 non-null  object        \n",
            " 13  Consumer consent provided?    1048575 non-null  object        \n",
            " 14  Submitted via                 1048575 non-null  object        \n",
            " 15  Date sent to company          1048575 non-null  datetime64[ns]\n",
            " 16  Company response to consumer  1048575 non-null  object        \n",
            " 17  Consumer disputed?            1048575 non-null  object        \n",
            " 18  Timely response?              1048575 non-null  object        \n",
            "dtypes: datetime64[ns](2), int64(2), object(15)\n",
            "memory usage: 152.0+ MB\n"
          ],
          "name": "stdout"
        }
      ]
    },
    {
      "cell_type": "code",
      "metadata": {
        "colab": {
          "base_uri": "https://localhost:8080/"
        },
        "id": "_Q76-Epwd77I",
        "outputId": "ffb561b6-28f8-426a-d23a-1e4f2a53d060"
      },
      "source": [
        "df2.isnull().any()"
      ],
      "execution_count": null,
      "outputs": [
        {
          "output_type": "execute_result",
          "data": {
            "text/plain": [
              "Unnamed: 0                      False\n",
              "Complaint_ID                    False\n",
              "Date received                   False\n",
              "Product                         False\n",
              "Sub-product                     False\n",
              "Issue                           False\n",
              "Sub-issue                       False\n",
              "Consumer complaint narrative    False\n",
              "Company public response         False\n",
              "Company                         False\n",
              "State                           False\n",
              "ZIP code                        False\n",
              "Tags                            False\n",
              "Consumer consent provided?      False\n",
              "Submitted via                   False\n",
              "Date sent to company            False\n",
              "Company response to consumer    False\n",
              "Consumer disputed?              False\n",
              "dtype: bool"
            ]
          },
          "metadata": {
            "tags": []
          },
          "execution_count": 78
        }
      ]
    },
    {
      "cell_type": "code",
      "metadata": {
        "colab": {
          "base_uri": "https://localhost:8080/",
          "height": 649
        },
        "id": "pLWU_FjoOZq-",
        "outputId": "3de2c106-bb17-463c-9ef1-26bb51389037"
      },
      "source": [
        "df.head()"
      ],
      "execution_count": null,
      "outputs": [
        {
          "output_type": "execute_result",
          "data": {
            "text/html": [
              "<div>\n",
              "<style scoped>\n",
              "    .dataframe tbody tr th:only-of-type {\n",
              "        vertical-align: middle;\n",
              "    }\n",
              "\n",
              "    .dataframe tbody tr th {\n",
              "        vertical-align: top;\n",
              "    }\n",
              "\n",
              "    .dataframe thead th {\n",
              "        text-align: right;\n",
              "    }\n",
              "</style>\n",
              "<table border=\"1\" class=\"dataframe\">\n",
              "  <thead>\n",
              "    <tr style=\"text-align: right;\">\n",
              "      <th></th>\n",
              "      <th>Unnamed: 0</th>\n",
              "      <th>Complaint_ID</th>\n",
              "      <th>Date received</th>\n",
              "      <th>Product</th>\n",
              "      <th>Sub-product</th>\n",
              "      <th>Issue</th>\n",
              "      <th>Sub-issue</th>\n",
              "      <th>Consumer complaint narrative</th>\n",
              "      <th>Company public response</th>\n",
              "      <th>Company</th>\n",
              "      <th>State</th>\n",
              "      <th>ZIP code</th>\n",
              "      <th>Tags</th>\n",
              "      <th>Consumer consent provided?</th>\n",
              "      <th>Submitted via</th>\n",
              "      <th>Date sent to company</th>\n",
              "      <th>Company response to consumer</th>\n",
              "      <th>Consumer disputed?</th>\n",
              "      <th>Timely response?</th>\n",
              "    </tr>\n",
              "  </thead>\n",
              "  <tbody>\n",
              "    <tr>\n",
              "      <th>0</th>\n",
              "      <td>0</td>\n",
              "      <td>2535701</td>\n",
              "      <td>6/8/2017</td>\n",
              "      <td>Mortgage</td>\n",
              "      <td>Conventional home mortgage</td>\n",
              "      <td>Struggling to pay mortgage</td>\n",
              "      <td>NaN</td>\n",
              "      <td>NaN</td>\n",
              "      <td>NaN</td>\n",
              "      <td>Caliber Home Loans, Inc.</td>\n",
              "      <td>FL</td>\n",
              "      <td>34744</td>\n",
              "      <td>NaN</td>\n",
              "      <td>NaN</td>\n",
              "      <td>Fax</td>\n",
              "      <td>6/12/2017</td>\n",
              "      <td>Closed with explanation</td>\n",
              "      <td>NaN</td>\n",
              "      <td>1</td>\n",
              "    </tr>\n",
              "    <tr>\n",
              "      <th>1</th>\n",
              "      <td>1</td>\n",
              "      <td>3314889</td>\n",
              "      <td>7/22/2019</td>\n",
              "      <td>Credit card or prepaid card</td>\n",
              "      <td>General-purpose credit card or charge card</td>\n",
              "      <td>Problem with a purchase shown on your statement</td>\n",
              "      <td>Credit card company isn't resolving a dispute ...</td>\n",
              "      <td>On XX/XX/2019 all of my credit and debit cards...</td>\n",
              "      <td>Company has responded to the consumer and the ...</td>\n",
              "      <td>WELLS FARGO &amp; COMPANY</td>\n",
              "      <td>CA</td>\n",
              "      <td>900XX</td>\n",
              "      <td>NaN</td>\n",
              "      <td>Consent provided</td>\n",
              "      <td>Web</td>\n",
              "      <td>7/22/2019</td>\n",
              "      <td>Closed with explanation</td>\n",
              "      <td>NaN</td>\n",
              "      <td>1</td>\n",
              "    </tr>\n",
              "    <tr>\n",
              "      <th>2</th>\n",
              "      <td>2</td>\n",
              "      <td>3612478</td>\n",
              "      <td>4/18/2020</td>\n",
              "      <td>Credit reporting, credit repair services, or o...</td>\n",
              "      <td>Credit reporting</td>\n",
              "      <td>Incorrect information on your report</td>\n",
              "      <td>Information belongs to someone else</td>\n",
              "      <td>I was made aware of a negative account and inq...</td>\n",
              "      <td>NaN</td>\n",
              "      <td>EQUIFAX, INC.</td>\n",
              "      <td>CA</td>\n",
              "      <td>945XX</td>\n",
              "      <td>NaN</td>\n",
              "      <td>Consent provided</td>\n",
              "      <td>Web</td>\n",
              "      <td>4/18/2020</td>\n",
              "      <td>Closed with explanation</td>\n",
              "      <td>NaN</td>\n",
              "      <td>1</td>\n",
              "    </tr>\n",
              "    <tr>\n",
              "      <th>3</th>\n",
              "      <td>3</td>\n",
              "      <td>2069704</td>\n",
              "      <td>8/18/2016</td>\n",
              "      <td>Bank account or service</td>\n",
              "      <td>Checking account</td>\n",
              "      <td>Deposits and withdrawals</td>\n",
              "      <td>NaN</td>\n",
              "      <td>NaN</td>\n",
              "      <td>Company has responded to the consumer and the ...</td>\n",
              "      <td>BANK OF AMERICA, NATIONAL ASSOCIATION</td>\n",
              "      <td>TX</td>\n",
              "      <td>77014</td>\n",
              "      <td>NaN</td>\n",
              "      <td>NaN</td>\n",
              "      <td>Phone</td>\n",
              "      <td>8/19/2016</td>\n",
              "      <td>Closed with monetary relief</td>\n",
              "      <td>No</td>\n",
              "      <td>1</td>\n",
              "    </tr>\n",
              "    <tr>\n",
              "      <th>4</th>\n",
              "      <td>4</td>\n",
              "      <td>3354927</td>\n",
              "      <td>8/27/2019</td>\n",
              "      <td>Debt collection</td>\n",
              "      <td>Auto debt</td>\n",
              "      <td>Took or threatened to take negative or legal a...</td>\n",
              "      <td>Threatened or suggested your credit would be d...</td>\n",
              "      <td>NaN</td>\n",
              "      <td>NaN</td>\n",
              "      <td>Bridgecrest Acceptance Corporation</td>\n",
              "      <td>PA</td>\n",
              "      <td>19143</td>\n",
              "      <td>Servicemember</td>\n",
              "      <td>Consent not provided</td>\n",
              "      <td>Web</td>\n",
              "      <td>8/27/2019</td>\n",
              "      <td>Closed with explanation</td>\n",
              "      <td>NaN</td>\n",
              "      <td>1</td>\n",
              "    </tr>\n",
              "  </tbody>\n",
              "</table>\n",
              "</div>"
            ],
            "text/plain": [
              "   Unnamed: 0  Complaint_ID  ... Consumer disputed? Timely response?\n",
              "0           0       2535701  ...                NaN                1\n",
              "1           1       3314889  ...                NaN                1\n",
              "2           2       3612478  ...                NaN                1\n",
              "3           3       2069704  ...                 No                1\n",
              "4           4       3354927  ...                NaN                1\n",
              "\n",
              "[5 rows x 19 columns]"
            ]
          },
          "metadata": {
            "tags": []
          },
          "execution_count": 42
        }
      ]
    },
    {
      "cell_type": "code",
      "metadata": {
        "colab": {
          "base_uri": "https://localhost:8080/"
        },
        "id": "nezltWORvD7-",
        "outputId": "300f143b-b569-44c2-8929-f93055b8e659"
      },
      "source": [
        "df.info()"
      ],
      "execution_count": null,
      "outputs": [
        {
          "output_type": "stream",
          "text": [
            "<class 'pandas.core.frame.DataFrame'>\n",
            "RangeIndex: 1048575 entries, 0 to 1048574\n",
            "Data columns (total 19 columns):\n",
            " #   Column                        Non-Null Count    Dtype         \n",
            "---  ------                        --------------    -----         \n",
            " 0   Unnamed: 0                    1048575 non-null  int64         \n",
            " 1   Complaint_ID                  1048575 non-null  int64         \n",
            " 2   Date received                 1048575 non-null  datetime64[ns]\n",
            " 3   Product                       1048575 non-null  int64         \n",
            " 4   Sub-product                   1048575 non-null  int64         \n",
            " 5   Issue                         1048575 non-null  object        \n",
            " 6   Sub-issue                     1048575 non-null  object        \n",
            " 7   Consumer complaint narrative  1048575 non-null  object        \n",
            " 8   Company public response       1048575 non-null  int64         \n",
            " 9   Company                       1048575 non-null  object        \n",
            " 10  State                         1048575 non-null  int64         \n",
            " 11  ZIP code                      1048575 non-null  object        \n",
            " 12  Tags                          1048575 non-null  int64         \n",
            " 13  Consumer consent provided?    1048575 non-null  int64         \n",
            " 14  Submitted via                 1048575 non-null  int64         \n",
            " 15  Date sent to company          1048575 non-null  datetime64[ns]\n",
            " 16  Company response to consumer  1048575 non-null  int64         \n",
            " 17  Consumer disputed?            1048575 non-null  int64         \n",
            " 18  Timely response?              1048575 non-null  int64         \n",
            "dtypes: datetime64[ns](2), int64(12), object(5)\n",
            "memory usage: 152.0+ MB\n"
          ],
          "name": "stdout"
        }
      ]
    },
    {
      "cell_type": "markdown",
      "metadata": {
        "id": "69lKF1RkvWIf"
      },
      "source": [
        "### Encoding"
      ]
    },
    {
      "cell_type": "code",
      "metadata": {
        "id": "2LIGk6iMvZHW"
      },
      "source": [
        "from sklearn.preprocessing import LabelEncoder\n",
        "listing=['Consumer disputed?','Company response to consumer',\n",
        "         'Consumer consent provided?','Submitted via','Tags','State','Company public response',\n",
        "         #'Issue','Sub-issue',\n",
        "         'Product','Sub-product']\n",
        "for i in listing:\n",
        "    le = LabelEncoder()\n",
        "    le.fit(df[i].append(df2[i]))\n",
        "    df[i] = le.transform(df[i])\n",
        "    df2[i] = le.transform(df2[i])\n",
        "\n",
        "le = LabelEncoder()\n",
        "df['Timely response?'] = le.fit_transform(df['Timely response?'])"
      ],
      "execution_count": null,
      "outputs": []
    },
    {
      "cell_type": "code",
      "metadata": {
        "id": "BN0zkjsjnE6H"
      },
      "source": [
        "def create_features(dfs):\n",
        "    \"\"\"\n",
        "    Creates time series features from datetime index\n",
        "    \"\"\"\n",
        "    df= pd.DataFrame()\n",
        "    df['hour'] = dfs.dt.hour\n",
        "    df['dayofweek'] = dfs.dt.dayofweek\n",
        "    df['quarter'] = dfs.dt.quarter\n",
        "    df['month'] = dfs.dt.month\n",
        "    df['year'] = dfs.dt.year\n",
        "    df['dayofyear'] = dfs.dt.dayofyear\n",
        "    df['dayofmonth'] = dfs.dt.day\n",
        "    df['weekofyear'] = dfs.dt.weekofyear\n",
        "    \n",
        "    X = df[['hour','dayofweek','quarter','month','year',\n",
        "           'dayofyear','dayofmonth','weekofyear']]\n",
        "    return X"
      ],
      "execution_count": null,
      "outputs": []
    },
    {
      "cell_type": "code",
      "metadata": {
        "colab": {
          "base_uri": "https://localhost:8080/"
        },
        "id": "WiZRW24lnecN",
        "outputId": "ac67cf11-e4c1-4140-a0fe-f2d9bd56e7a2"
      },
      "source": [
        "df[['hour1','dayofweek1','quarter1','month1','year1','dayofyear1','dayofmonth1','weekofyear1']]=create_features(df['Date received'])\n",
        "df[['hour2','dayofweek2','quarter2','month2','year2','dayofyear2','dayofmonth2','weekofyear2']]=create_features(df['Date sent to company'])\n",
        "df.drop(columns=['Date received','Date sent to company'],inplace=True)\n",
        "df2[['hour1','dayofweek1','quarter1','month1','year1','dayofyear1','dayofmonth1','weekofyear1']]=create_features(df2['Date received'])\n",
        "df2[['hour2','dayofweek2','quarter2','month2','year2','dayofyear2','dayofmonth2','weekofyear2']]=create_features(df2['Date sent to company'])\n",
        "df2.drop(columns=['Date received','Date sent to company'],inplace=True)"
      ],
      "execution_count": null,
      "outputs": [
        {
          "output_type": "stream",
          "text": [
            "/usr/local/lib/python3.7/dist-packages/ipykernel_launcher.py:13: FutureWarning: Series.dt.weekofyear and Series.dt.week have been deprecated.  Please use Series.dt.isocalendar().week instead.\n",
            "  del sys.path[0]\n"
          ],
          "name": "stderr"
        }
      ]
    },
    {
      "cell_type": "code",
      "metadata": {
        "colab": {
          "base_uri": "https://localhost:8080/",
          "height": 547
        },
        "id": "3R-un2zmiT63",
        "outputId": "0f1008c5-91a1-4348-d10b-66dfc1a36952"
      },
      "source": [
        "df2.tail()"
      ],
      "execution_count": null,
      "outputs": [
        {
          "output_type": "execute_result",
          "data": {
            "text/html": [
              "<div>\n",
              "<style scoped>\n",
              "    .dataframe tbody tr th:only-of-type {\n",
              "        vertical-align: middle;\n",
              "    }\n",
              "\n",
              "    .dataframe tbody tr th {\n",
              "        vertical-align: top;\n",
              "    }\n",
              "\n",
              "    .dataframe thead th {\n",
              "        text-align: right;\n",
              "    }\n",
              "</style>\n",
              "<table border=\"1\" class=\"dataframe\">\n",
              "  <thead>\n",
              "    <tr style=\"text-align: right;\">\n",
              "      <th></th>\n",
              "      <th>Unnamed: 0</th>\n",
              "      <th>Complaint_ID</th>\n",
              "      <th>Date received</th>\n",
              "      <th>Product</th>\n",
              "      <th>Sub-product</th>\n",
              "      <th>Issue</th>\n",
              "      <th>Sub-issue</th>\n",
              "      <th>Consumer complaint narrative</th>\n",
              "      <th>Company public response</th>\n",
              "      <th>Company</th>\n",
              "      <th>State</th>\n",
              "      <th>ZIP code</th>\n",
              "      <th>Tags</th>\n",
              "      <th>Consumer consent provided?</th>\n",
              "      <th>Submitted via</th>\n",
              "      <th>Date sent to company</th>\n",
              "      <th>Company response to consumer</th>\n",
              "      <th>Consumer disputed?</th>\n",
              "    </tr>\n",
              "  </thead>\n",
              "  <tbody>\n",
              "    <tr>\n",
              "      <th>459689</th>\n",
              "      <td>459689</td>\n",
              "      <td>342950</td>\n",
              "      <td>2013-03-06</td>\n",
              "      <td>10</td>\n",
              "      <td>9</td>\n",
              "      <td>Loan modification,collection,foreclosure</td>\n",
              "      <td>NaN</td>\n",
              "      <td>NaN</td>\n",
              "      <td>11</td>\n",
              "      <td>SELECT PORTFOLIO SERVICING, INC.</td>\n",
              "      <td>54</td>\n",
              "      <td>75119</td>\n",
              "      <td>0</td>\n",
              "      <td>3</td>\n",
              "      <td>5</td>\n",
              "      <td>2013-03-07</td>\n",
              "      <td>1</td>\n",
              "      <td>1</td>\n",
              "    </tr>\n",
              "    <tr>\n",
              "      <th>459690</th>\n",
              "      <td>459690</td>\n",
              "      <td>2599961</td>\n",
              "      <td>2017-08-09</td>\n",
              "      <td>4</td>\n",
              "      <td>67</td>\n",
              "      <td>Problem with a credit reporting company's inve...</td>\n",
              "      <td>Their investigation did not fix an error on yo...</td>\n",
              "      <td>NaN</td>\n",
              "      <td>11</td>\n",
              "      <td>Alliance Data Card Services</td>\n",
              "      <td>35</td>\n",
              "      <td>28226</td>\n",
              "      <td>0</td>\n",
              "      <td>0</td>\n",
              "      <td>5</td>\n",
              "      <td>2017-08-09</td>\n",
              "      <td>1</td>\n",
              "      <td>0</td>\n",
              "    </tr>\n",
              "    <tr>\n",
              "      <th>459691</th>\n",
              "      <td>459691</td>\n",
              "      <td>3824572</td>\n",
              "      <td>2020-09-01</td>\n",
              "      <td>6</td>\n",
              "      <td>15</td>\n",
              "      <td>Improper use of your report</td>\n",
              "      <td>Reporting company used your report improperly</td>\n",
              "      <td>I'm contacting you about the credit reporting ...</td>\n",
              "      <td>11</td>\n",
              "      <td>LEXISNEXIS</td>\n",
              "      <td>57</td>\n",
              "      <td>236XX</td>\n",
              "      <td>0</td>\n",
              "      <td>1</td>\n",
              "      <td>5</td>\n",
              "      <td>2020-09-10</td>\n",
              "      <td>1</td>\n",
              "      <td>0</td>\n",
              "    </tr>\n",
              "    <tr>\n",
              "      <th>459692</th>\n",
              "      <td>459692</td>\n",
              "      <td>1418953</td>\n",
              "      <td>2015-06-12</td>\n",
              "      <td>10</td>\n",
              "      <td>52</td>\n",
              "      <td>Loan servicing, payments, escrow account</td>\n",
              "      <td>NaN</td>\n",
              "      <td>NaN</td>\n",
              "      <td>11</td>\n",
              "      <td>Seterus, Inc.</td>\n",
              "      <td>10</td>\n",
              "      <td>06040</td>\n",
              "      <td>0</td>\n",
              "      <td>3</td>\n",
              "      <td>4</td>\n",
              "      <td>2015-06-17</td>\n",
              "      <td>1</td>\n",
              "      <td>1</td>\n",
              "    </tr>\n",
              "    <tr>\n",
              "      <th>459693</th>\n",
              "      <td>459693</td>\n",
              "      <td>3532501</td>\n",
              "      <td>2020-02-14</td>\n",
              "      <td>7</td>\n",
              "      <td>33</td>\n",
              "      <td>Attempts to collect debt not owed</td>\n",
              "      <td>Debt is not yours</td>\n",
              "      <td>I received information from you attempting to ...</td>\n",
              "      <td>11</td>\n",
              "      <td>Professional Bureau of Collections of Maryland...</td>\n",
              "      <td>20</td>\n",
              "      <td>60543</td>\n",
              "      <td>0</td>\n",
              "      <td>1</td>\n",
              "      <td>5</td>\n",
              "      <td>2020-02-14</td>\n",
              "      <td>1</td>\n",
              "      <td>0</td>\n",
              "    </tr>\n",
              "  </tbody>\n",
              "</table>\n",
              "</div>"
            ],
            "text/plain": [
              "        Unnamed: 0  ...  Consumer disputed?\n",
              "459689      459689  ...                   1\n",
              "459690      459690  ...                   0\n",
              "459691      459691  ...                   0\n",
              "459692      459692  ...                   1\n",
              "459693      459693  ...                   0\n",
              "\n",
              "[5 rows x 18 columns]"
            ]
          },
          "metadata": {
            "tags": []
          },
          "execution_count": 97
        }
      ]
    },
    {
      "cell_type": "code",
      "metadata": {
        "id": "1WubmAQr43-B"
      },
      "source": [
        "print(df['Sub-product'].describe())"
      ],
      "execution_count": null,
      "outputs": []
    },
    {
      "cell_type": "markdown",
      "metadata": {
        "id": "31-epBhKs8LP"
      },
      "source": [
        "# Data Visualization"
      ]
    },
    {
      "cell_type": "markdown",
      "metadata": {
        "id": "rwbwNsVax3zO"
      },
      "source": [
        "## Uniqueness"
      ]
    },
    {
      "cell_type": "code",
      "metadata": {
        "colab": {
          "base_uri": "https://localhost:8080/"
        },
        "id": "Yv-_lMaBx_Ad",
        "outputId": "09ceae4e-7399-4dbe-8e2a-55c611cbbdfc"
      },
      "source": [
        "#print(df['Consumer disputed?'].unique())\n",
        "#print(df['Company response to consumer'].unique())\n",
        "print(df['Date received'].unique())\n"
      ],
      "execution_count": null,
      "outputs": [
        {
          "output_type": "stream",
          "text": [
            "['6/8/2017' '7/22/2019' '4/18/2020' ... '9/8/2013' '6/16/2018' '3/9/2014']\n"
          ],
          "name": "stdout"
        }
      ]
    },
    {
      "cell_type": "code",
      "metadata": {
        "colab": {
          "base_uri": "https://localhost:8080/"
        },
        "id": "7bIfHHVXGQk8",
        "outputId": "f2605676-626b-4515-dca0-fd3ccc585515"
      },
      "source": [
        "df.isnull().sum()"
      ],
      "execution_count": null,
      "outputs": [
        {
          "output_type": "execute_result",
          "data": {
            "text/plain": [
              "Unnamed: 0                           0\n",
              "Complaint_ID                         0\n",
              "Date received                        0\n",
              "Product                              0\n",
              "Sub-product                     100901\n",
              "Issue                                0\n",
              "Sub-issue                       282519\n",
              "Consumer complaint narrative    737766\n",
              "Company public response         601927\n",
              "Company                              0\n",
              "State                            21018\n",
              "ZIP code                         93734\n",
              "Tags                            919298\n",
              "Consumer consent provided?      367626\n",
              "Submitted via                        0\n",
              "Date sent to company                 0\n",
              "Company response to consumer         1\n",
              "Consumer disputed?              719432\n",
              "Timely response?                     0\n",
              "dtype: int64"
            ]
          },
          "metadata": {
            "tags": []
          },
          "execution_count": 55
        }
      ]
    },
    {
      "cell_type": "markdown",
      "metadata": {
        "id": "YNPL-iFSxfj9"
      },
      "source": [
        "##Correlation\n"
      ]
    },
    {
      "cell_type": "code",
      "metadata": {
        "id": "rLFrL1GIxhmV"
      },
      "source": [
        "print(df['']. corr(df['']))"
      ],
      "execution_count": null,
      "outputs": []
    },
    {
      "cell_type": "code",
      "metadata": {
        "colab": {
          "base_uri": "https://localhost:8080/"
        },
        "id": "OjV8Sz6elFbK",
        "outputId": "668382a0-948a-4495-e909-bbd03689d3db"
      },
      "source": [
        "df.columns"
      ],
      "execution_count": null,
      "outputs": [
        {
          "output_type": "execute_result",
          "data": {
            "text/plain": [
              "Index(['Complaint_ID', 'Date received', 'Product', 'Sub-product', 'Issue',\n",
              "       'Sub-issue', 'Consumer complaint narrative', 'Company public response',\n",
              "       'Company', 'State', 'ZIP code', 'Tags', 'Consumer consent provided?',\n",
              "       'Submitted via', 'Date sent to company', 'Company response to consumer',\n",
              "       'Consumer disputed?', 'Timely response?'],\n",
              "      dtype='object')"
            ]
          },
          "metadata": {
            "tags": []
          },
          "execution_count": 103
        }
      ]
    },
    {
      "cell_type": "code",
      "metadata": {
        "colab": {
          "base_uri": "https://localhost:8080/"
        },
        "id": "yNCqmnXnlIq0",
        "outputId": "0fb249f8-8299-4c32-d03a-8c788ffe8601"
      },
      "source": [
        "df.info()"
      ],
      "execution_count": null,
      "outputs": [
        {
          "output_type": "stream",
          "text": [
            "<class 'pandas.core.frame.DataFrame'>\n",
            "RangeIndex: 1048575 entries, 0 to 1048574\n",
            "Data columns (total 18 columns):\n",
            " #   Column                        Non-Null Count    Dtype         \n",
            "---  ------                        --------------    -----         \n",
            " 0   Complaint_ID                  1048575 non-null  int64         \n",
            " 1   Date received                 1048575 non-null  datetime64[ns]\n",
            " 2   Product                       1048575 non-null  int64         \n",
            " 3   Sub-product                   1048575 non-null  int64         \n",
            " 4   Issue                         1048575 non-null  object        \n",
            " 5   Sub-issue                     1048575 non-null  object        \n",
            " 6   Consumer complaint narrative  1048575 non-null  object        \n",
            " 7   Company public response       1048575 non-null  int64         \n",
            " 8   Company                       1048575 non-null  object        \n",
            " 9   State                         1048575 non-null  int64         \n",
            " 10  ZIP code                      1048575 non-null  object        \n",
            " 11  Tags                          1048575 non-null  int64         \n",
            " 12  Consumer consent provided?    1048575 non-null  int64         \n",
            " 13  Submitted via                 1048575 non-null  int64         \n",
            " 14  Date sent to company          1048575 non-null  datetime64[ns]\n",
            " 15  Company response to consumer  1048575 non-null  int64         \n",
            " 16  Consumer disputed?            1048575 non-null  int64         \n",
            " 17  Timely response?              1048575 non-null  int64         \n",
            "dtypes: datetime64[ns](2), int64(11), object(5)\n",
            "memory usage: 144.0+ MB\n"
          ],
          "name": "stdout"
        }
      ]
    },
    {
      "cell_type": "markdown",
      "metadata": {
        "id": "MRgEQgogs-cv"
      },
      "source": [
        "# Train Test Split"
      ]
    },
    {
      "cell_type": "code",
      "metadata": {
        "id": "yfQC2UCdwYUP"
      },
      "source": [
        "y = df.loc[:,'Timely response?']\n",
        "cols = [ 'Product', 'Sub-product','Company public response','State','Tags', 'Consumer consent provided?',\n",
        "       'Submitted via',  'Company response to consumer',\n",
        "       'Consumer disputed?']\n",
        "cols1 = [ 'Product', 'Sub-product','Company public response','State','Tags', 'Consumer consent provided?',\n",
        "       'Submitted via',  'Company response to consumer',\n",
        "       'Consumer disputed?','hour1','dayofweek1','quarter1','month1','year1','dayofyear1','dayofmonth1','weekofyear1','hour2','dayofweek2','quarter2','month2','year2','dayofyear2','dayofmonth2','weekofyear2']\n",
        "X = df[cols1]"
      ],
      "execution_count": null,
      "outputs": []
    },
    {
      "cell_type": "code",
      "metadata": {
        "id": "UIaG_L-Qtx7v"
      },
      "source": [
        "from sklearn.model_selection import train_test_split"
      ],
      "execution_count": null,
      "outputs": []
    },
    {
      "cell_type": "code",
      "metadata": {
        "id": "gqvh3Ohtt5Ue"
      },
      "source": [
        "X_train, X_test, y_train, y_test = train_test_split(X, y, test_size=0.2, random_state=2)"
      ],
      "execution_count": null,
      "outputs": []
    },
    {
      "cell_type": "markdown",
      "metadata": {
        "id": "U_Q5a8xftC9f"
      },
      "source": [
        "# Models"
      ]
    },
    {
      "cell_type": "code",
      "metadata": {
        "colab": {
          "background_save": true
        },
        "id": "gEYqIDzpkvyO",
        "outputId": "4fdcb119-cff7-462c-a4cc-4ce6ce310991"
      },
      "source": [
        "import xgboost as xgb\n",
        "model = xgb.XGBClassifier()\n",
        "model.fit(X_train,y_train)"
      ],
      "execution_count": null,
      "outputs": [
        {
          "output_type": "execute_result",
          "data": {
            "text/plain": [
              "XGBClassifier(base_score=0.5, booster='gbtree', colsample_bylevel=1,\n",
              "              colsample_bynode=1, colsample_bytree=1, gamma=0,\n",
              "              learning_rate=0.1, max_delta_step=0, max_depth=3,\n",
              "              min_child_weight=1, missing=None, n_estimators=100, n_jobs=1,\n",
              "              nthread=None, objective='binary:logistic', random_state=0,\n",
              "              reg_alpha=0, reg_lambda=1, scale_pos_weight=1, seed=None,\n",
              "              silent=None, subsample=1, verbosity=1)"
            ]
          },
          "metadata": {
            "tags": []
          },
          "execution_count": 0
        }
      ]
    },
    {
      "cell_type": "code",
      "metadata": {
        "colab": {
          "base_uri": "https://localhost:8080/"
        },
        "id": "zEU0yO5Hlk8I",
        "outputId": "789a02d8-3657-4fb0-cb37-c401468d8e58"
      },
      "source": [
        "X_train.info()"
      ],
      "execution_count": null,
      "outputs": [
        {
          "output_type": "stream",
          "text": [
            "<class 'pandas.core.frame.DataFrame'>\n",
            "Int64Index: 838860 entries, 327274 to 875688\n",
            "Data columns (total 11 columns):\n",
            " #   Column                        Non-Null Count   Dtype         \n",
            "---  ------                        --------------   -----         \n",
            " 0   Date received                 838860 non-null  datetime64[ns]\n",
            " 1   Product                       838860 non-null  int64         \n",
            " 2   Sub-product                   838860 non-null  int64         \n",
            " 3   Company public response       838860 non-null  int64         \n",
            " 4   State                         838860 non-null  int64         \n",
            " 5   Tags                          838860 non-null  int64         \n",
            " 6   Consumer consent provided?    838860 non-null  int64         \n",
            " 7   Submitted via                 838860 non-null  int64         \n",
            " 8   Date sent to company          838860 non-null  datetime64[ns]\n",
            " 9   Company response to consumer  838860 non-null  int64         \n",
            " 10  Consumer disputed?            838860 non-null  int64         \n",
            "dtypes: datetime64[ns](2), int64(9)\n",
            "memory usage: 76.8 MB\n"
          ],
          "name": "stdout"
        }
      ]
    },
    {
      "cell_type": "markdown",
      "metadata": {
        "id": "rnCwhXIYtFRv"
      },
      "source": [
        "# Prediction"
      ]
    },
    {
      "cell_type": "code",
      "metadata": {
        "id": "Dkh2Ex3ExDm-"
      },
      "source": [
        "y_pred=model.predict(X_test)"
      ],
      "execution_count": null,
      "outputs": []
    },
    {
      "cell_type": "code",
      "metadata": {
        "id": "d9G6WFvsxEI9"
      },
      "source": [
        "from sklearn.metrics import accuracy_score\n",
        "print(\"Accuracy:\",accuracy_score(y_test, y_pred))"
      ],
      "execution_count": null,
      "outputs": []
    },
    {
      "cell_type": "code",
      "metadata": {
        "colab": {
          "base_uri": "https://localhost:8080/"
        },
        "id": "M1FotnDmuR1e",
        "outputId": "9cdc83c9-7379-4e52-82bd-050a24f8b849"
      },
      "source": [
        "from sklearn.metrics import f1_score\n",
        "f1_score(y_test, y_pred, average='weighted')\n",
        "#"
      ],
      "execution_count": null,
      "outputs": [
        {
          "output_type": "execute_result",
          "data": {
            "text/plain": [
              "0.9693429167751532"
            ]
          },
          "metadata": {
            "tags": []
          },
          "execution_count": 116
        }
      ]
    },
    {
      "cell_type": "code",
      "metadata": {
        "id": "mzAPKxAAmYOp"
      },
      "source": [
        ""
      ],
      "execution_count": null,
      "outputs": []
    },
    {
      "cell_type": "markdown",
      "metadata": {
        "id": "0r9WTtgvtXs_"
      },
      "source": [
        "# Submission"
      ]
    },
    {
      "cell_type": "code",
      "metadata": {
        "id": "uvaKGsNftA6K"
      },
      "source": [
        "tdf=pd.read_csv('test.csv')"
      ],
      "execution_count": null,
      "outputs": []
    },
    {
      "cell_type": "markdown",
      "metadata": {
        "id": "q4JqyzhcxLU3"
      },
      "source": [
        "## Submission File"
      ]
    },
    {
      "cell_type": "code",
      "metadata": {
        "id": "lWRJWMU2xOQt"
      },
      "source": [
        ""
      ],
      "execution_count": null,
      "outputs": []
    }
  ]
}