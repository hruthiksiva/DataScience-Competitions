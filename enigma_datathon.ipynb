{
  "nbformat": 4,
  "nbformat_minor": 0,
  "metadata": {
    "colab": {
      "name": "Copy of enigma-datathon.ipynb",
      "provenance": [],
      "collapsed_sections": [
        "dDuFW---AzLp",
        "OR_0IXT7qRkM",
        "49oUdEBB_u03",
        "tMRgQnqia-JD",
        "hVL_WMS6DEiv",
        "HM9BOCqa1NLX",
        "7nExRZZ0zU2n",
        "v2Cj8q--xa-f",
        "9_8c8NpZFng2",
        "WRyW26tQIRv-",
        "RxLCVDK_xj2f",
        "36Ms9GbVxnNX"
      ],
      "toc_visible": true,
      "include_colab_link": true
    },
    "kernelspec": {
      "name": "python3",
      "display_name": "Python 3"
    },
    "language_info": {
      "name": "python"
    }
  },
  "cells": [
    {
      "cell_type": "markdown",
      "metadata": {
        "id": "view-in-github",
        "colab_type": "text"
      },
      "source": [
        "<a href=\"https://colab.research.google.com/github/hruthiksiva/DataScience-Competitions/blob/main/enigma_datathon.ipynb\" target=\"_parent\"><img src=\"https://colab.research.google.com/assets/colab-badge.svg\" alt=\"Open In Colab\"/></a>"
      ]
    },
    {
      "cell_type": "markdown",
      "metadata": {
        "id": "dDuFW---AzLp"
      },
      "source": [
        "## Extract csv"
      ]
    },
    {
      "cell_type": "code",
      "metadata": {
        "colab": {
          "base_uri": "https://localhost:8080/"
        },
        "id": "wapwrJh0fg3S",
        "outputId": "e45ce485-6c6f-4439-b044-2fca0d31d63a"
      },
      "source": [
        "!gdown https://drive.google.com/u/0/uc?id=1XcMvwBxCa8WDRBbA-UsTK4T8gAyA42SP\n",
        "!mv kaggle.json /root/.kaggle/\n",
        "!chmod 600 /root/.kaggle/kaggle.json\n",
        "!kaggle competitions download -c domain-network-security"
      ],
      "execution_count": null,
      "outputs": [
        {
          "output_type": "stream",
          "text": [
            "Downloading...\n",
            "From: https://drive.google.com/u/0/uc?id=1XcMvwBxCa8WDRBbA-UsTK4T8gAyA42SP\n",
            "To: /content/kaggle.json\n",
            "\r  0% 0.00/70.0 [00:00<?, ?B/s]\r100% 70.0/70.0 [00:00<00:00, 98.0kB/s]\n",
            "Warning: Looks like you're using an outdated API Version, please consider updating (server 1.5.12 / client 1.5.4)\n",
            "train.csv.zip: Skipping, found more recently modified local copy (use --force to force download)\n",
            "test.csv: Skipping, found more recently modified local copy (use --force to force download)\n",
            "sample%20submission.csv: Skipping, found more recently modified local copy (use --force to force download)\n"
          ],
          "name": "stdout"
        }
      ]
    },
    {
      "cell_type": "code",
      "metadata": {
        "colab": {
          "base_uri": "https://localhost:8080/"
        },
        "id": "KTiG0IIUhLn0",
        "outputId": "bbd1f01f-175f-41e1-e522-1fd5545ab007"
      },
      "source": [
        "!unzip *.zip  && rm *.zip"
      ],
      "execution_count": null,
      "outputs": [
        {
          "output_type": "stream",
          "text": [
            "Archive:  train.csv.zip\n",
            "  inflating: train.csv               \n"
          ],
          "name": "stdout"
        }
      ]
    },
    {
      "cell_type": "markdown",
      "metadata": {
        "id": "OR_0IXT7qRkM"
      },
      "source": [
        "## Imports"
      ]
    },
    {
      "cell_type": "code",
      "metadata": {
        "id": "ZsfJ0lrqpoCg"
      },
      "source": [
        "import pandas as pd\n",
        "import numpy as np\n",
        "import matplotlib.pyplot as plt"
      ],
      "execution_count": null,
      "outputs": []
    },
    {
      "cell_type": "markdown",
      "metadata": {
        "id": "GqHLzY-8xTt3"
      },
      "source": [
        "# Data Collection/ Alteration"
      ]
    },
    {
      "cell_type": "code",
      "metadata": {
        "id": "ArtyQN_4xRRT"
      },
      "source": [
        "df=pd.read_csv('train.csv')"
      ],
      "execution_count": null,
      "outputs": []
    },
    {
      "cell_type": "code",
      "metadata": {
        "colab": {
          "base_uri": "https://localhost:8080/"
        },
        "id": "uCjzsvevBAK4",
        "outputId": "7a6f8d3c-2a5e-4172-f7ac-6b5f61d40db2"
      },
      "source": [
        "df.info()"
      ],
      "execution_count": null,
      "outputs": [
        {
          "output_type": "stream",
          "text": [
            "<class 'pandas.core.frame.DataFrame'>\n",
            "RangeIndex: 45870 entries, 0 to 45869\n",
            "Data columns (total 13 columns):\n",
            " #   Column                Non-Null Count  Dtype  \n",
            "---  ------                --------------  -----  \n",
            " 0   ID                    45870 non-null  int64  \n",
            " 1   Source Port           36683 non-null  float64\n",
            " 2   Destination Port      36693 non-null  float64\n",
            " 3   NAT Source Port       36756 non-null  float64\n",
            " 4   NAT Destination Port  36674 non-null  float64\n",
            " 5   Bytes                 36607 non-null  float64\n",
            " 6   Bytes Sent            36764 non-null  float64\n",
            " 7   Bytes Received        36693 non-null  float64\n",
            " 8   Packets               36818 non-null  float64\n",
            " 9   Elapsed Time (sec)    36584 non-null  float64\n",
            " 10  pkts_sent             36667 non-null  float64\n",
            " 11  pkts_received         36711 non-null  float64\n",
            " 12  Action                45870 non-null  object \n",
            "dtypes: float64(11), int64(1), object(1)\n",
            "memory usage: 4.5+ MB\n"
          ],
          "name": "stdout"
        }
      ]
    },
    {
      "cell_type": "code",
      "metadata": {
        "colab": {
          "base_uri": "https://localhost:8080/",
          "height": 221
        },
        "id": "UIJHowT8hYav",
        "outputId": "2d476049-b154-405e-c8fc-6dd4b9d1d4c9"
      },
      "source": [
        "df.head()"
      ],
      "execution_count": null,
      "outputs": [
        {
          "output_type": "execute_result",
          "data": {
            "text/html": [
              "<div>\n",
              "<style scoped>\n",
              "    .dataframe tbody tr th:only-of-type {\n",
              "        vertical-align: middle;\n",
              "    }\n",
              "\n",
              "    .dataframe tbody tr th {\n",
              "        vertical-align: top;\n",
              "    }\n",
              "\n",
              "    .dataframe thead th {\n",
              "        text-align: right;\n",
              "    }\n",
              "</style>\n",
              "<table border=\"1\" class=\"dataframe\">\n",
              "  <thead>\n",
              "    <tr style=\"text-align: right;\">\n",
              "      <th></th>\n",
              "      <th>ID</th>\n",
              "      <th>Source Port</th>\n",
              "      <th>Destination Port</th>\n",
              "      <th>NAT Source Port</th>\n",
              "      <th>NAT Destination Port</th>\n",
              "      <th>Bytes</th>\n",
              "      <th>Bytes Sent</th>\n",
              "      <th>Bytes Received</th>\n",
              "      <th>Packets</th>\n",
              "      <th>Elapsed Time (sec)</th>\n",
              "      <th>pkts_sent</th>\n",
              "      <th>pkts_received</th>\n",
              "      <th>Action</th>\n",
              "      <th>port_same</th>\n",
              "    </tr>\n",
              "  </thead>\n",
              "  <tbody>\n",
              "    <tr>\n",
              "      <th>2</th>\n",
              "      <td>11131</td>\n",
              "      <td>46751.0</td>\n",
              "      <td>53.0</td>\n",
              "      <td>46751.0</td>\n",
              "      <td>53.0</td>\n",
              "      <td>220.0</td>\n",
              "      <td>90.0</td>\n",
              "      <td>130.0</td>\n",
              "      <td>2.0</td>\n",
              "      <td>30.0</td>\n",
              "      <td>1.0</td>\n",
              "      <td>1.0</td>\n",
              "      <td>allow</td>\n",
              "      <td>1</td>\n",
              "    </tr>\n",
              "    <tr>\n",
              "      <th>7</th>\n",
              "      <td>64974</td>\n",
              "      <td>50472.0</td>\n",
              "      <td>445.0</td>\n",
              "      <td>0.0</td>\n",
              "      <td>0.0</td>\n",
              "      <td>66.0</td>\n",
              "      <td>66.0</td>\n",
              "      <td>0.0</td>\n",
              "      <td>1.0</td>\n",
              "      <td>0.0</td>\n",
              "      <td>1.0</td>\n",
              "      <td>0.0</td>\n",
              "      <td>drop</td>\n",
              "      <td>0</td>\n",
              "    </tr>\n",
              "    <tr>\n",
              "      <th>8</th>\n",
              "      <td>41097</td>\n",
              "      <td>56832.0</td>\n",
              "      <td>445.0</td>\n",
              "      <td>0.0</td>\n",
              "      <td>0.0</td>\n",
              "      <td>70.0</td>\n",
              "      <td>70.0</td>\n",
              "      <td>0.0</td>\n",
              "      <td>1.0</td>\n",
              "      <td>0.0</td>\n",
              "      <td>1.0</td>\n",
              "      <td>0.0</td>\n",
              "      <td>drop</td>\n",
              "      <td>0</td>\n",
              "    </tr>\n",
              "    <tr>\n",
              "      <th>9</th>\n",
              "      <td>10866</td>\n",
              "      <td>64723.0</td>\n",
              "      <td>445.0</td>\n",
              "      <td>0.0</td>\n",
              "      <td>0.0</td>\n",
              "      <td>70.0</td>\n",
              "      <td>70.0</td>\n",
              "      <td>0.0</td>\n",
              "      <td>1.0</td>\n",
              "      <td>0.0</td>\n",
              "      <td>1.0</td>\n",
              "      <td>0.0</td>\n",
              "      <td>drop</td>\n",
              "      <td>0</td>\n",
              "    </tr>\n",
              "    <tr>\n",
              "      <th>11</th>\n",
              "      <td>46585</td>\n",
              "      <td>56076.0</td>\n",
              "      <td>443.0</td>\n",
              "      <td>18045.0</td>\n",
              "      <td>443.0</td>\n",
              "      <td>1786.0</td>\n",
              "      <td>172.0</td>\n",
              "      <td>1614.0</td>\n",
              "      <td>7.0</td>\n",
              "      <td>120.0</td>\n",
              "      <td>3.0</td>\n",
              "      <td>4.0</td>\n",
              "      <td>allow</td>\n",
              "      <td>1</td>\n",
              "    </tr>\n",
              "  </tbody>\n",
              "</table>\n",
              "</div>"
            ],
            "text/plain": [
              "       ID  Source Port  Destination Port  ...  pkts_received  Action  port_same\n",
              "2   11131      46751.0              53.0  ...            1.0   allow          1\n",
              "7   64974      50472.0             445.0  ...            0.0    drop          0\n",
              "8   41097      56832.0             445.0  ...            0.0    drop          0\n",
              "9   10866      64723.0             445.0  ...            0.0    drop          0\n",
              "11  46585      56076.0             443.0  ...            4.0   allow          1\n",
              "\n",
              "[5 rows x 14 columns]"
            ]
          },
          "metadata": {
            "tags": []
          },
          "execution_count": 160
        }
      ]
    },
    {
      "cell_type": "code",
      "metadata": {
        "id": "PcT00mzivL5w"
      },
      "source": [
        "df['port_same'] = (df['Destination Port'] == df['NAT Destination Port']).astype(int)"
      ],
      "execution_count": null,
      "outputs": []
    },
    {
      "cell_type": "code",
      "metadata": {
        "colab": {
          "base_uri": "https://localhost:8080/"
        },
        "id": "TRzvfx5Lw8Pn",
        "outputId": "e9f1d9a1-b1f0-4df8-a9b0-7f91eb8ac15d"
      },
      "source": [
        "df['port_same'].value_counts()"
      ],
      "execution_count": null,
      "outputs": [
        {
          "output_type": "execute_result",
          "data": {
            "text/plain": [
              "1    6776\n",
              "0    5249\n",
              "Name: port_same, dtype: int64"
            ]
          },
          "metadata": {
            "tags": []
          },
          "execution_count": 163
        }
      ]
    },
    {
      "cell_type": "code",
      "metadata": {
        "id": "IqIulVpYtS14"
      },
      "source": [
        "a={445:0,443:443,80:80,123:123,5484:5484,0:0,53:53}"
      ],
      "execution_count": null,
      "outputs": []
    },
    {
      "cell_type": "code",
      "metadata": {
        "colab": {
          "base_uri": "https://localhost:8080/"
        },
        "id": "Mox9muy-2az1",
        "outputId": "014a3038-7fdc-42c5-a3a9-39f67e2d3704"
      },
      "source": [
        "for i,j in zip(a.keys(),a.values()):\n",
        "  print(i,j)"
      ],
      "execution_count": null,
      "outputs": [
        {
          "output_type": "stream",
          "text": [
            "445 0\n",
            "443 443\n",
            "80 80\n",
            "123 123\n",
            "5484 5484\n",
            "0 0\n",
            "53 53\n"
          ],
          "name": "stdout"
        }
      ]
    },
    {
      "cell_type": "code",
      "metadata": {
        "colab": {
          "base_uri": "https://localhost:8080/"
        },
        "id": "17hAML_UsB_h",
        "outputId": "7693b7a0-607d-4d1d-b2bb-e1bf1cac35dc"
      },
      "source": [
        "df=df.dropna()\n",
        "df[(df['NAT Source Port'] == 0) & (df['NAT Destination Port'] != 0)].shape"
      ],
      "execution_count": null,
      "outputs": [
        {
          "output_type": "execute_result",
          "data": {
            "text/plain": [
              "(19, 13)"
            ]
          },
          "metadata": {
            "tags": []
          },
          "execution_count": 214
        }
      ]
    },
    {
      "cell_type": "code",
      "metadata": {
        "colab": {
          "base_uri": "https://localhost:8080/"
        },
        "id": "ZdeT0SUDuYo0",
        "outputId": "73253d0d-30c4-469c-83e6-b842abf9acba"
      },
      "source": [
        "df=df.dropna()\n",
        "df[(df['Bytes Sent']==0)].shape"
      ],
      "execution_count": null,
      "outputs": [
        {
          "output_type": "execute_result",
          "data": {
            "text/plain": [
              "(0, 13)"
            ]
          },
          "metadata": {
            "tags": []
          },
          "execution_count": 218
        }
      ]
    },
    {
      "cell_type": "code",
      "metadata": {
        "colab": {
          "base_uri": "https://localhost:8080/"
        },
        "id": "L8SOKkFnwX46",
        "outputId": "2352b4fa-631e-4330-d963-b1cf10edb027"
      },
      "source": [
        "\n",
        "df[(df['Source Port']==df['NAT Source Port']) & (df['Destination Port']!=df['NAT Destination Port'])].shape"
      ],
      "execution_count": null,
      "outputs": [
        {
          "output_type": "execute_result",
          "data": {
            "text/plain": [
              "(0, 13)"
            ]
          },
          "metadata": {
            "tags": []
          },
          "execution_count": 154
        }
      ]
    },
    {
      "cell_type": "code",
      "metadata": {
        "colab": {
          "base_uri": "https://localhost:8080/"
        },
        "id": "0K3NISlhvCLb",
        "outputId": "658b60fc-3189-4825-f8b7-da8f9871484b"
      },
      "source": [
        "df['Action'].unique()"
      ],
      "execution_count": null,
      "outputs": [
        {
          "output_type": "execute_result",
          "data": {
            "text/plain": [
              "array(['allow', 'drop', 'deny', 'reset-both'], dtype=object)"
            ]
          },
          "metadata": {
            "tags": []
          },
          "execution_count": 140
        }
      ]
    },
    {
      "cell_type": "code",
      "metadata": {
        "colab": {
          "base_uri": "https://localhost:8080/"
        },
        "id": "MwXtMaDGw-fj",
        "outputId": "ace72336-1ca1-4936-bc40-d32a762d0bbe"
      },
      "source": [
        "df[df['Destination Port'] < 80]['Destination Port'].unique()"
      ],
      "execution_count": null,
      "outputs": [
        {
          "output_type": "execute_result",
          "data": {
            "text/plain": [
              "array([53.,  0., 23.,  1., 21., 37., 67., 66., 25., 17., 22., 68.,  7.])"
            ]
          },
          "metadata": {
            "tags": []
          },
          "execution_count": 158
        }
      ]
    },
    {
      "cell_type": "code",
      "metadata": {
        "colab": {
          "base_uri": "https://localhost:8080/"
        },
        "id": "WkohYV40oGZ6",
        "outputId": "61ea7250-3cc1-4642-fceb-fd9d2ca3b359"
      },
      "source": [
        "sum(df.dropna()['Packets'] - df.dropna()['pkts_sent'] - df.dropna()['pkts_received'] != 0)"
      ],
      "execution_count": null,
      "outputs": [
        {
          "output_type": "execute_result",
          "data": {
            "text/plain": [
              "0"
            ]
          },
          "metadata": {
            "tags": []
          },
          "execution_count": 58
        }
      ]
    },
    {
      "cell_type": "code",
      "metadata": {
        "id": "ykaEa0lQlazz"
      },
      "source": [
        "def cusFil(x):\n",
        "  a,b,c = x[0],x[1],x[2]\n",
        "  if np.isnan(a) and (not np.isnan(b)) and (not np.isnan(c)):\n",
        "      a=b+c\n",
        "  elif (not np.isnan(a)) and np.isnan(b) and (not np.isnan(c)):\n",
        "      b=a-c\n",
        "  elif (not np.isnan(a)) and (not np.isnan(b)) and np.isnan(c):\n",
        "      c=a-b\n",
        "  x[0],x[1],x[2] = a,b,c\n",
        "  return x"
      ],
      "execution_count": null,
      "outputs": []
    },
    {
      "cell_type": "code",
      "metadata": {
        "id": "ulrfPasVzdMv"
      },
      "source": [
        "ll={445:0,443:443,80:80,123:123,5484:5484,53:53}\n",
        "ll2={443:443,80:80,123:123,5484:5484,53:53}\n",
        "def cusFil2(x):\n",
        "    a,b,c,d = x[0],x[1],x[2],x[3]\n",
        "    if np.isnan(b) or np.isnan(d):\n",
        "        if np.isnan(b):\n",
        "            if d in ll2:\n",
        "                b=ll2[d]\n",
        "        else:\n",
        "            if b in ll:\n",
        "                d=ll[b]\n",
        "    x[0],x[1],x[2],x[3] = a,b,c,d\n",
        "    return x\n",
        "\n",
        "def cusFil3(x):\n",
        "    a,b,c,d = x[0],x[1],x[2],x[3]\n",
        "    if a == c:\n",
        "        if np.isnan(b) or np.isnan(d):\n",
        "            if np.isnan(b):\n",
        "                b=d\n",
        "            else:\n",
        "                d=b\n",
        "    if b == d:\n",
        "        if np.isnan(a) or np.isnan(c):\n",
        "            if np.isnan(a):\n",
        "                a=c\n",
        "            else:\n",
        "                c=a\n",
        "    x[0],x[1],x[2],x[3] = a,b,c,d\n",
        "    return x\n",
        "\n",
        "def cusFil4(x):\n",
        "    a,b = x[0],x[1]\n",
        "    if a == 0 or b == 0:\n",
        "        a,b=0.,0.0\n",
        "    x[0],x[1] = a,b\n",
        "    return x"
      ],
      "execution_count": null,
      "outputs": []
    },
    {
      "cell_type": "code",
      "metadata": {
        "colab": {
          "base_uri": "https://localhost:8080/"
        },
        "id": "Qe9pbgrG5-OO",
        "outputId": "ed4dc8ee-1aae-4fa3-9e1e-24a1c378e64f"
      },
      "source": [
        "0 == 0.0"
      ],
      "execution_count": null,
      "outputs": [
        {
          "output_type": "execute_result",
          "data": {
            "text/plain": [
              "True"
            ]
          },
          "metadata": {
            "tags": []
          },
          "execution_count": 219
        }
      ]
    },
    {
      "cell_type": "code",
      "metadata": {
        "id": "GBZ-DD6K_fdk"
      },
      "source": [
        "df = pd.read_csv('test.csv')"
      ],
      "execution_count": null,
      "outputs": []
    },
    {
      "cell_type": "code",
      "metadata": {
        "id": "cIMGolhT23UJ"
      },
      "source": [
        "df[['Source Port', 'Destination Port', 'NAT Source Port','NAT Destination Port']] = df[['Source Port', 'Destination Port', 'NAT Source Port','NAT Destination Port']].apply(cusFil2,axis=1)\n",
        "df[['Source Port', 'Destination Port', 'NAT Source Port','NAT Destination Port']] = df[['Source Port', 'Destination Port', 'NAT Source Port','NAT Destination Port']].apply(cusFil3,axis=1)"
      ],
      "execution_count": null,
      "outputs": []
    },
    {
      "cell_type": "code",
      "metadata": {
        "id": "tpPx98IOn1cY"
      },
      "source": [
        "df[['Bytes','Bytes Sent','Bytes Received']]=df[['Bytes','Bytes Sent','Bytes Received']].apply(cusFil,axis=1)\n",
        "df[['Packets','pkts_sent','pkts_received']]=df[['Packets','pkts_sent','pkts_received']].apply(cusFil,axis=1)"
      ],
      "execution_count": null,
      "outputs": []
    },
    {
      "cell_type": "code",
      "metadata": {
        "id": "wVTlEeWH830n"
      },
      "source": [
        "df[['Bytes Received','pkts_received']] = df[['Bytes Received','pkts_received']].apply(cusFil4,axis=1)\n",
        "df[['Bytes Sent','pkts_sent']] = df[['Bytes Sent','pkts_sent']].apply(cusFil4,axis=1)"
      ],
      "execution_count": null,
      "outputs": []
    },
    {
      "cell_type": "code",
      "metadata": {
        "id": "IsfZr7Q0lObw"
      },
      "source": [
        "df[df['Bytes Received'].isnull()]"
      ],
      "execution_count": null,
      "outputs": []
    },
    {
      "cell_type": "code",
      "metadata": {
        "id": "uPzxamAqr8xW"
      },
      "source": [
        "df.to_csv('test1.csv', index=False)"
      ],
      "execution_count": null,
      "outputs": []
    },
    {
      "cell_type": "code",
      "metadata": {
        "colab": {
          "base_uri": "https://localhost:8080/",
          "height": 419
        },
        "id": "kG0mX6Ol-2hp",
        "outputId": "fc2f90d5-4e3d-4990-ec9a-c77748dd00ac"
      },
      "source": [
        "pd.read_csv('test.csv').dropna()"
      ],
      "execution_count": null,
      "outputs": [
        {
          "output_type": "execute_result",
          "data": {
            "text/html": [
              "<div>\n",
              "<style scoped>\n",
              "    .dataframe tbody tr th:only-of-type {\n",
              "        vertical-align: middle;\n",
              "    }\n",
              "\n",
              "    .dataframe tbody tr th {\n",
              "        vertical-align: top;\n",
              "    }\n",
              "\n",
              "    .dataframe thead th {\n",
              "        text-align: right;\n",
              "    }\n",
              "</style>\n",
              "<table border=\"1\" class=\"dataframe\">\n",
              "  <thead>\n",
              "    <tr style=\"text-align: right;\">\n",
              "      <th></th>\n",
              "      <th>ID</th>\n",
              "      <th>Source Port</th>\n",
              "      <th>Destination Port</th>\n",
              "      <th>NAT Source Port</th>\n",
              "      <th>NAT Destination Port</th>\n",
              "      <th>Bytes</th>\n",
              "      <th>Bytes Sent</th>\n",
              "      <th>Bytes Received</th>\n",
              "      <th>Packets</th>\n",
              "      <th>Elapsed Time (sec)</th>\n",
              "      <th>pkts_sent</th>\n",
              "      <th>pkts_received</th>\n",
              "    </tr>\n",
              "  </thead>\n",
              "  <tbody>\n",
              "    <tr>\n",
              "      <th>9</th>\n",
              "      <td>32524</td>\n",
              "      <td>42317.0</td>\n",
              "      <td>443.0</td>\n",
              "      <td>11761.0</td>\n",
              "      <td>443.0</td>\n",
              "      <td>416.0</td>\n",
              "      <td>210.0</td>\n",
              "      <td>206.0</td>\n",
              "      <td>7.0</td>\n",
              "      <td>27.0</td>\n",
              "      <td>4.0</td>\n",
              "      <td>3.0</td>\n",
              "    </tr>\n",
              "    <tr>\n",
              "      <th>11</th>\n",
              "      <td>30700</td>\n",
              "      <td>55489.0</td>\n",
              "      <td>53.0</td>\n",
              "      <td>44022.0</td>\n",
              "      <td>53.0</td>\n",
              "      <td>185.0</td>\n",
              "      <td>102.0</td>\n",
              "      <td>83.0</td>\n",
              "      <td>2.0</td>\n",
              "      <td>30.0</td>\n",
              "      <td>1.0</td>\n",
              "      <td>1.0</td>\n",
              "    </tr>\n",
              "    <tr>\n",
              "      <th>40</th>\n",
              "      <td>13846</td>\n",
              "      <td>51221.0</td>\n",
              "      <td>57073.0</td>\n",
              "      <td>10928.0</td>\n",
              "      <td>57073.0</td>\n",
              "      <td>481.0</td>\n",
              "      <td>150.0</td>\n",
              "      <td>331.0</td>\n",
              "      <td>2.0</td>\n",
              "      <td>1200.0</td>\n",
              "      <td>1.0</td>\n",
              "      <td>1.0</td>\n",
              "    </tr>\n",
              "    <tr>\n",
              "      <th>42</th>\n",
              "      <td>58159</td>\n",
              "      <td>64823.0</td>\n",
              "      <td>53.0</td>\n",
              "      <td>51719.0</td>\n",
              "      <td>53.0</td>\n",
              "      <td>199.0</td>\n",
              "      <td>102.0</td>\n",
              "      <td>97.0</td>\n",
              "      <td>2.0</td>\n",
              "      <td>30.0</td>\n",
              "      <td>1.0</td>\n",
              "      <td>1.0</td>\n",
              "    </tr>\n",
              "    <tr>\n",
              "      <th>44</th>\n",
              "      <td>62234</td>\n",
              "      <td>51233.0</td>\n",
              "      <td>445.0</td>\n",
              "      <td>0.0</td>\n",
              "      <td>0.0</td>\n",
              "      <td>66.0</td>\n",
              "      <td>66.0</td>\n",
              "      <td>0.0</td>\n",
              "      <td>1.0</td>\n",
              "      <td>0.0</td>\n",
              "      <td>1.0</td>\n",
              "      <td>0.0</td>\n",
              "    </tr>\n",
              "    <tr>\n",
              "      <th>...</th>\n",
              "      <td>...</td>\n",
              "      <td>...</td>\n",
              "      <td>...</td>\n",
              "      <td>...</td>\n",
              "      <td>...</td>\n",
              "      <td>...</td>\n",
              "      <td>...</td>\n",
              "      <td>...</td>\n",
              "      <td>...</td>\n",
              "      <td>...</td>\n",
              "      <td>...</td>\n",
              "      <td>...</td>\n",
              "    </tr>\n",
              "    <tr>\n",
              "      <th>19619</th>\n",
              "      <td>12718</td>\n",
              "      <td>49982.0</td>\n",
              "      <td>53.0</td>\n",
              "      <td>16411.0</td>\n",
              "      <td>53.0</td>\n",
              "      <td>211.0</td>\n",
              "      <td>110.0</td>\n",
              "      <td>101.0</td>\n",
              "      <td>2.0</td>\n",
              "      <td>30.0</td>\n",
              "      <td>1.0</td>\n",
              "      <td>1.0</td>\n",
              "    </tr>\n",
              "    <tr>\n",
              "      <th>19620</th>\n",
              "      <td>52028</td>\n",
              "      <td>54038.0</td>\n",
              "      <td>445.0</td>\n",
              "      <td>0.0</td>\n",
              "      <td>0.0</td>\n",
              "      <td>66.0</td>\n",
              "      <td>66.0</td>\n",
              "      <td>0.0</td>\n",
              "      <td>1.0</td>\n",
              "      <td>0.0</td>\n",
              "      <td>1.0</td>\n",
              "      <td>0.0</td>\n",
              "    </tr>\n",
              "    <tr>\n",
              "      <th>19634</th>\n",
              "      <td>11790</td>\n",
              "      <td>55290.0</td>\n",
              "      <td>53.0</td>\n",
              "      <td>19726.0</td>\n",
              "      <td>53.0</td>\n",
              "      <td>198.0</td>\n",
              "      <td>94.0</td>\n",
              "      <td>104.0</td>\n",
              "      <td>2.0</td>\n",
              "      <td>30.0</td>\n",
              "      <td>1.0</td>\n",
              "      <td>1.0</td>\n",
              "    </tr>\n",
              "    <tr>\n",
              "      <th>19644</th>\n",
              "      <td>37225</td>\n",
              "      <td>30960.0</td>\n",
              "      <td>45732.0</td>\n",
              "      <td>62764.0</td>\n",
              "      <td>45732.0</td>\n",
              "      <td>330.0</td>\n",
              "      <td>330.0</td>\n",
              "      <td>0.0</td>\n",
              "      <td>6.0</td>\n",
              "      <td>3610.0</td>\n",
              "      <td>6.0</td>\n",
              "      <td>0.0</td>\n",
              "    </tr>\n",
              "    <tr>\n",
              "      <th>19654</th>\n",
              "      <td>3147</td>\n",
              "      <td>65070.0</td>\n",
              "      <td>53.0</td>\n",
              "      <td>45301.0</td>\n",
              "      <td>53.0</td>\n",
              "      <td>821.0</td>\n",
              "      <td>102.0</td>\n",
              "      <td>719.0</td>\n",
              "      <td>2.0</td>\n",
              "      <td>30.0</td>\n",
              "      <td>1.0</td>\n",
              "      <td>1.0</td>\n",
              "    </tr>\n",
              "  </tbody>\n",
              "</table>\n",
              "<p>1695 rows × 12 columns</p>\n",
              "</div>"
            ],
            "text/plain": [
              "          ID  Source Port  ...  pkts_sent  pkts_received\n",
              "9      32524      42317.0  ...        4.0            3.0\n",
              "11     30700      55489.0  ...        1.0            1.0\n",
              "40     13846      51221.0  ...        1.0            1.0\n",
              "42     58159      64823.0  ...        1.0            1.0\n",
              "44     62234      51233.0  ...        1.0            0.0\n",
              "...      ...          ...  ...        ...            ...\n",
              "19619  12718      49982.0  ...        1.0            1.0\n",
              "19620  52028      54038.0  ...        1.0            0.0\n",
              "19634  11790      55290.0  ...        1.0            1.0\n",
              "19644  37225      30960.0  ...        6.0            0.0\n",
              "19654   3147      65070.0  ...        1.0            1.0\n",
              "\n",
              "[1695 rows x 12 columns]"
            ]
          },
          "metadata": {
            "tags": []
          },
          "execution_count": 247
        }
      ]
    },
    {
      "cell_type": "code",
      "metadata": {
        "colab": {
          "base_uri": "https://localhost:8080/"
        },
        "id": "hfnRYX98jSM7",
        "outputId": "ac2ed04b-283b-492f-c3a8-3640f171dfd0"
      },
      "source": [
        "for i in df.columns:\n",
        "  print(df[df[i].isnull()].shape)"
      ],
      "execution_count": null,
      "outputs": [
        {
          "output_type": "stream",
          "text": [
            "(0, 12)\n",
            "(2317, 12)\n",
            "(2455, 12)\n",
            "(2395, 12)\n",
            "(1782, 12)\n",
            "(1148, 12)\n",
            "(1129, 12)\n",
            "(763, 12)\n",
            "(1136, 12)\n",
            "(3959, 12)\n",
            "(1110, 12)\n",
            "(813, 12)\n"
          ],
          "name": "stdout"
        }
      ]
    },
    {
      "cell_type": "code",
      "metadata": {
        "colab": {
          "base_uri": "https://localhost:8080/"
        },
        "id": "jP4QvSQuDQqh",
        "outputId": "e89b22d7-db4e-4993-e9cf-d2238d3b7f06"
      },
      "source": [
        "df.isnull().sum()"
      ],
      "execution_count": null,
      "outputs": [
        {
          "output_type": "execute_result",
          "data": {
            "text/plain": [
              "ID                         0\n",
              "Source Port             9187\n",
              "Destination Port        9177\n",
              "NAT Source Port         9114\n",
              "NAT Destination Port    9196\n",
              "Bytes                   9263\n",
              "Bytes Sent              9106\n",
              "Bytes Received          9177\n",
              "Packets                 9052\n",
              "Elapsed Time (sec)      9286\n",
              "pkts_sent               9203\n",
              "pkts_received           9159\n",
              "Action                     0\n",
              "dtype: int64"
            ]
          },
          "metadata": {
            "tags": []
          },
          "execution_count": 158
        }
      ]
    },
    {
      "cell_type": "code",
      "metadata": {
        "id": "ouzZv_cyABVt"
      },
      "source": [
        "df=pd.read_csv('train1.csv')\n",
        "df2=pd.read_csv('test1.csv')"
      ],
      "execution_count": null,
      "outputs": []
    },
    {
      "cell_type": "code",
      "metadata": {
        "colab": {
          "base_uri": "https://localhost:8080/",
          "height": 204
        },
        "id": "IH-NYqvxAXkj",
        "outputId": "2af32766-ba1e-4bdf-ad30-f4f84504b94e"
      },
      "source": [
        "df.head()"
      ],
      "execution_count": null,
      "outputs": [
        {
          "output_type": "execute_result",
          "data": {
            "text/html": [
              "<div>\n",
              "<style scoped>\n",
              "    .dataframe tbody tr th:only-of-type {\n",
              "        vertical-align: middle;\n",
              "    }\n",
              "\n",
              "    .dataframe tbody tr th {\n",
              "        vertical-align: top;\n",
              "    }\n",
              "\n",
              "    .dataframe thead th {\n",
              "        text-align: right;\n",
              "    }\n",
              "</style>\n",
              "<table border=\"1\" class=\"dataframe\">\n",
              "  <thead>\n",
              "    <tr style=\"text-align: right;\">\n",
              "      <th></th>\n",
              "      <th>ID</th>\n",
              "      <th>Source Port</th>\n",
              "      <th>Destination Port</th>\n",
              "      <th>NAT Source Port</th>\n",
              "      <th>NAT Destination Port</th>\n",
              "      <th>Bytes</th>\n",
              "      <th>Bytes Sent</th>\n",
              "      <th>Bytes Received</th>\n",
              "      <th>Packets</th>\n",
              "      <th>Elapsed Time (sec)</th>\n",
              "      <th>pkts_sent</th>\n",
              "      <th>pkts_received</th>\n",
              "      <th>Action</th>\n",
              "    </tr>\n",
              "  </thead>\n",
              "  <tbody>\n",
              "    <tr>\n",
              "      <th>0</th>\n",
              "      <td>59276</td>\n",
              "      <td>49418.0</td>\n",
              "      <td>27015.0</td>\n",
              "      <td>54748.0</td>\n",
              "      <td>NaN</td>\n",
              "      <td>78.0</td>\n",
              "      <td>78.0</td>\n",
              "      <td>0.0</td>\n",
              "      <td>1.0</td>\n",
              "      <td>29.0</td>\n",
              "      <td>1.0</td>\n",
              "      <td>0.0</td>\n",
              "      <td>0</td>\n",
              "    </tr>\n",
              "    <tr>\n",
              "      <th>1</th>\n",
              "      <td>18986</td>\n",
              "      <td>58120.0</td>\n",
              "      <td>25174.0</td>\n",
              "      <td>NaN</td>\n",
              "      <td>0.0</td>\n",
              "      <td>66.0</td>\n",
              "      <td>66.0</td>\n",
              "      <td>0.0</td>\n",
              "      <td>1.0</td>\n",
              "      <td>0.0</td>\n",
              "      <td>1.0</td>\n",
              "      <td>0.0</td>\n",
              "      <td>1</td>\n",
              "    </tr>\n",
              "    <tr>\n",
              "      <th>2</th>\n",
              "      <td>11131</td>\n",
              "      <td>46751.0</td>\n",
              "      <td>53.0</td>\n",
              "      <td>46751.0</td>\n",
              "      <td>53.0</td>\n",
              "      <td>220.0</td>\n",
              "      <td>90.0</td>\n",
              "      <td>130.0</td>\n",
              "      <td>2.0</td>\n",
              "      <td>30.0</td>\n",
              "      <td>1.0</td>\n",
              "      <td>1.0</td>\n",
              "      <td>0</td>\n",
              "    </tr>\n",
              "    <tr>\n",
              "      <th>3</th>\n",
              "      <td>57352</td>\n",
              "      <td>52596.0</td>\n",
              "      <td>NaN</td>\n",
              "      <td>0.0</td>\n",
              "      <td>0.0</td>\n",
              "      <td>66.0</td>\n",
              "      <td>66.0</td>\n",
              "      <td>0.0</td>\n",
              "      <td>1.0</td>\n",
              "      <td>NaN</td>\n",
              "      <td>1.0</td>\n",
              "      <td>0.0</td>\n",
              "      <td>2</td>\n",
              "    </tr>\n",
              "    <tr>\n",
              "      <th>4</th>\n",
              "      <td>17229</td>\n",
              "      <td>50584.0</td>\n",
              "      <td>6881.0</td>\n",
              "      <td>29773.0</td>\n",
              "      <td>NaN</td>\n",
              "      <td>502.0</td>\n",
              "      <td>150.0</td>\n",
              "      <td>352.0</td>\n",
              "      <td>2.0</td>\n",
              "      <td>1200.0</td>\n",
              "      <td>1.0</td>\n",
              "      <td>1.0</td>\n",
              "      <td>0</td>\n",
              "    </tr>\n",
              "  </tbody>\n",
              "</table>\n",
              "</div>"
            ],
            "text/plain": [
              "      ID  Source Port  Destination Port  ...  pkts_sent  pkts_received  Action\n",
              "0  59276      49418.0           27015.0  ...        1.0            0.0       0\n",
              "1  18986      58120.0           25174.0  ...        1.0            0.0       1\n",
              "2  11131      46751.0              53.0  ...        1.0            1.0       0\n",
              "3  57352      52596.0               NaN  ...        1.0            0.0       2\n",
              "4  17229      50584.0            6881.0  ...        1.0            1.0       0\n",
              "\n",
              "[5 rows x 13 columns]"
            ]
          },
          "metadata": {
            "tags": []
          },
          "execution_count": 270
        }
      ]
    },
    {
      "cell_type": "markdown",
      "metadata": {
        "id": "49oUdEBB_u03"
      },
      "source": [
        "### Encoding Data"
      ]
    },
    {
      "cell_type": "code",
      "metadata": {
        "id": "slBVPyWM9pOi"
      },
      "source": [
        "from sklearn.preprocessing import LabelEncoder\n",
        "lb=LabelEncoder()\n",
        "df['Action']= lb.fit_transform(df['Action'])"
      ],
      "execution_count": null,
      "outputs": []
    },
    {
      "cell_type": "code",
      "metadata": {
        "id": "0LEdTw86AsNg"
      },
      "source": [
        "X,y=df.drop(columns=['Action']),df[['Action']]"
      ],
      "execution_count": null,
      "outputs": []
    },
    {
      "cell_type": "code",
      "metadata": {
        "colab": {
          "base_uri": "https://localhost:8080/"
        },
        "id": "GMv3b4IWCHlY",
        "outputId": "aa596eef-dcc6-40f9-d322-a7fa07263706"
      },
      "source": [
        "df['Action'].describe()"
      ],
      "execution_count": null,
      "outputs": [
        {
          "output_type": "execute_result",
          "data": {
            "text/plain": [
              "count    45870.000000\n",
              "mean         0.623305\n",
              "std          0.794887\n",
              "min          0.000000\n",
              "25%          0.000000\n",
              "50%          0.000000\n",
              "75%          1.000000\n",
              "max          3.000000\n",
              "Name: Action, dtype: float64"
            ]
          },
          "metadata": {
            "tags": []
          },
          "execution_count": 160
        }
      ]
    },
    {
      "cell_type": "markdown",
      "metadata": {
        "id": "tMRgQnqia-JD"
      },
      "source": [
        "### Nan Count and Removal <3"
      ]
    },
    {
      "cell_type": "code",
      "metadata": {
        "id": "q8Mh5JoSa8qk"
      },
      "source": [
        "for i in range(len(df)) :\n",
        "        df.loc[i,\"nancount\"]= df.iloc[i].isnull().sum()"
      ],
      "execution_count": null,
      "outputs": []
    },
    {
      "cell_type": "code",
      "metadata": {
        "colab": {
          "base_uri": "https://localhost:8080/",
          "height": 458
        },
        "id": "dpvnBSGJbwQs",
        "outputId": "5fa23b23-348d-4e18-8a3d-0d44c90629f9"
      },
      "source": [
        ""
      ],
      "execution_count": null,
      "outputs": [
        {
          "output_type": "execute_result",
          "data": {
            "text/html": [
              "<div>\n",
              "<style scoped>\n",
              "    .dataframe tbody tr th:only-of-type {\n",
              "        vertical-align: middle;\n",
              "    }\n",
              "\n",
              "    .dataframe tbody tr th {\n",
              "        vertical-align: top;\n",
              "    }\n",
              "\n",
              "    .dataframe thead th {\n",
              "        text-align: right;\n",
              "    }\n",
              "</style>\n",
              "<table border=\"1\" class=\"dataframe\">\n",
              "  <thead>\n",
              "    <tr style=\"text-align: right;\">\n",
              "      <th></th>\n",
              "      <th>ID</th>\n",
              "      <th>Source Port</th>\n",
              "      <th>Destination Port</th>\n",
              "      <th>NAT Source Port</th>\n",
              "      <th>NAT Destination Port</th>\n",
              "      <th>Bytes</th>\n",
              "      <th>Bytes Sent</th>\n",
              "      <th>Bytes Received</th>\n",
              "      <th>Packets</th>\n",
              "      <th>Elapsed Time (sec)</th>\n",
              "      <th>pkts_sent</th>\n",
              "      <th>pkts_received</th>\n",
              "      <th>Action</th>\n",
              "      <th>nancount</th>\n",
              "    </tr>\n",
              "  </thead>\n",
              "  <tbody>\n",
              "    <tr>\n",
              "      <th>0</th>\n",
              "      <td>59276</td>\n",
              "      <td>49418.0</td>\n",
              "      <td>27015.0</td>\n",
              "      <td>54748.0</td>\n",
              "      <td>NaN</td>\n",
              "      <td>78.0</td>\n",
              "      <td>78.0</td>\n",
              "      <td>0.0</td>\n",
              "      <td>1.0</td>\n",
              "      <td>29.0</td>\n",
              "      <td>1.0</td>\n",
              "      <td>0.0</td>\n",
              "      <td>0</td>\n",
              "      <td>1.0</td>\n",
              "    </tr>\n",
              "    <tr>\n",
              "      <th>1</th>\n",
              "      <td>18986</td>\n",
              "      <td>58120.0</td>\n",
              "      <td>25174.0</td>\n",
              "      <td>NaN</td>\n",
              "      <td>0.0</td>\n",
              "      <td>66.0</td>\n",
              "      <td>66.0</td>\n",
              "      <td>0.0</td>\n",
              "      <td>NaN</td>\n",
              "      <td>0.0</td>\n",
              "      <td>1.0</td>\n",
              "      <td>0.0</td>\n",
              "      <td>1</td>\n",
              "      <td>3.0</td>\n",
              "    </tr>\n",
              "    <tr>\n",
              "      <th>2</th>\n",
              "      <td>11131</td>\n",
              "      <td>46751.0</td>\n",
              "      <td>53.0</td>\n",
              "      <td>46751.0</td>\n",
              "      <td>53.0</td>\n",
              "      <td>220.0</td>\n",
              "      <td>90.0</td>\n",
              "      <td>130.0</td>\n",
              "      <td>2.0</td>\n",
              "      <td>30.0</td>\n",
              "      <td>NaN</td>\n",
              "      <td>1.0</td>\n",
              "      <td>0</td>\n",
              "      <td>2.0</td>\n",
              "    </tr>\n",
              "    <tr>\n",
              "      <th>3</th>\n",
              "      <td>57352</td>\n",
              "      <td>52596.0</td>\n",
              "      <td>NaN</td>\n",
              "      <td>0.0</td>\n",
              "      <td>0.0</td>\n",
              "      <td>66.0</td>\n",
              "      <td>66.0</td>\n",
              "      <td>0.0</td>\n",
              "      <td>1.0</td>\n",
              "      <td>NaN</td>\n",
              "      <td>1.0</td>\n",
              "      <td>0.0</td>\n",
              "      <td>2</td>\n",
              "      <td>3.0</td>\n",
              "    </tr>\n",
              "    <tr>\n",
              "      <th>4</th>\n",
              "      <td>17229</td>\n",
              "      <td>50584.0</td>\n",
              "      <td>6881.0</td>\n",
              "      <td>29773.0</td>\n",
              "      <td>NaN</td>\n",
              "      <td>502.0</td>\n",
              "      <td>150.0</td>\n",
              "      <td>352.0</td>\n",
              "      <td>2.0</td>\n",
              "      <td>1200.0</td>\n",
              "      <td>NaN</td>\n",
              "      <td>1.0</td>\n",
              "      <td>0</td>\n",
              "      <td>3.0</td>\n",
              "    </tr>\n",
              "    <tr>\n",
              "      <th>...</th>\n",
              "      <td>...</td>\n",
              "      <td>...</td>\n",
              "      <td>...</td>\n",
              "      <td>...</td>\n",
              "      <td>...</td>\n",
              "      <td>...</td>\n",
              "      <td>...</td>\n",
              "      <td>...</td>\n",
              "      <td>...</td>\n",
              "      <td>...</td>\n",
              "      <td>...</td>\n",
              "      <td>...</td>\n",
              "      <td>...</td>\n",
              "      <td>...</td>\n",
              "    </tr>\n",
              "    <tr>\n",
              "      <th>45865</th>\n",
              "      <td>36322</td>\n",
              "      <td>NaN</td>\n",
              "      <td>53.0</td>\n",
              "      <td>NaN</td>\n",
              "      <td>53.0</td>\n",
              "      <td>94.0</td>\n",
              "      <td>94.0</td>\n",
              "      <td>0.0</td>\n",
              "      <td>NaN</td>\n",
              "      <td>29.0</td>\n",
              "      <td>NaN</td>\n",
              "      <td>NaN</td>\n",
              "      <td>0</td>\n",
              "      <td>6.0</td>\n",
              "    </tr>\n",
              "    <tr>\n",
              "      <th>45866</th>\n",
              "      <td>36418</td>\n",
              "      <td>NaN</td>\n",
              "      <td>53.0</td>\n",
              "      <td>44635.0</td>\n",
              "      <td>53.0</td>\n",
              "      <td>177.0</td>\n",
              "      <td>94.0</td>\n",
              "      <td>83.0</td>\n",
              "      <td>2.0</td>\n",
              "      <td>NaN</td>\n",
              "      <td>NaN</td>\n",
              "      <td>1.0</td>\n",
              "      <td>0</td>\n",
              "      <td>4.0</td>\n",
              "    </tr>\n",
              "    <tr>\n",
              "      <th>45867</th>\n",
              "      <td>2289</td>\n",
              "      <td>50438.0</td>\n",
              "      <td>445.0</td>\n",
              "      <td>0.0</td>\n",
              "      <td>0.0</td>\n",
              "      <td>70.0</td>\n",
              "      <td>NaN</td>\n",
              "      <td>0.0</td>\n",
              "      <td>1.0</td>\n",
              "      <td>0.0</td>\n",
              "      <td>1.0</td>\n",
              "      <td>0.0</td>\n",
              "      <td>2</td>\n",
              "      <td>2.0</td>\n",
              "    </tr>\n",
              "    <tr>\n",
              "      <th>45868</th>\n",
              "      <td>10229</td>\n",
              "      <td>37785.0</td>\n",
              "      <td>80.0</td>\n",
              "      <td>22917.0</td>\n",
              "      <td>80.0</td>\n",
              "      <td>2293.0</td>\n",
              "      <td>1576.0</td>\n",
              "      <td>NaN</td>\n",
              "      <td>12.0</td>\n",
              "      <td>15.0</td>\n",
              "      <td>6.0</td>\n",
              "      <td>NaN</td>\n",
              "      <td>0</td>\n",
              "      <td>3.0</td>\n",
              "    </tr>\n",
              "    <tr>\n",
              "      <th>45869</th>\n",
              "      <td>42470</td>\n",
              "      <td>53090.0</td>\n",
              "      <td>NaN</td>\n",
              "      <td>0.0</td>\n",
              "      <td>0.0</td>\n",
              "      <td>66.0</td>\n",
              "      <td>66.0</td>\n",
              "      <td>NaN</td>\n",
              "      <td>NaN</td>\n",
              "      <td>0.0</td>\n",
              "      <td>1.0</td>\n",
              "      <td>0.0</td>\n",
              "      <td>1</td>\n",
              "      <td>4.0</td>\n",
              "    </tr>\n",
              "  </tbody>\n",
              "</table>\n",
              "<p>45870 rows × 14 columns</p>\n",
              "</div>"
            ],
            "text/plain": [
              "          ID  Source Port  Destination Port  ...  pkts_received  Action  nancount\n",
              "0      59276      49418.0           27015.0  ...            0.0       0       1.0\n",
              "1      18986      58120.0           25174.0  ...            0.0       1       3.0\n",
              "2      11131      46751.0              53.0  ...            1.0       0       2.0\n",
              "3      57352      52596.0               NaN  ...            0.0       2       3.0\n",
              "4      17229      50584.0            6881.0  ...            1.0       0       3.0\n",
              "...      ...          ...               ...  ...            ...     ...       ...\n",
              "45865  36322          NaN              53.0  ...            NaN       0       6.0\n",
              "45866  36418          NaN              53.0  ...            1.0       0       4.0\n",
              "45867   2289      50438.0             445.0  ...            0.0       2       2.0\n",
              "45868  10229      37785.0              80.0  ...            NaN       0       3.0\n",
              "45869  42470      53090.0               NaN  ...            0.0       1       4.0\n",
              "\n",
              "[45870 rows x 14 columns]"
            ]
          },
          "metadata": {
            "tags": []
          },
          "execution_count": 162
        }
      ]
    },
    {
      "cell_type": "markdown",
      "metadata": {
        "id": "hVL_WMS6DEiv"
      },
      "source": [
        "### Float to Int"
      ]
    },
    {
      "cell_type": "code",
      "metadata": {
        "colab": {
          "base_uri": "https://localhost:8080/"
        },
        "id": "KlwNdfWoDEDn",
        "outputId": "6433c563-ddd9-4064-c850-a41ec83ed92d"
      },
      "source": [
        "list =['Source Port','Destination Port','NAT Source Port','NAT Destination Port','Bytes',\n",
        "       'Bytes Sent','Bytes Received','Packets','Elapsed Time (sec)','pkts_sent','pkts_received','nancount']\n",
        "\n",
        "for i in list:\n",
        "  df[str(i)] = df[str(i)].fillna(-1)\n",
        "  df[str(i)]=df[str(i)].astype(int)\n",
        "df.info()"
      ],
      "execution_count": null,
      "outputs": [
        {
          "output_type": "stream",
          "text": [
            "<class 'pandas.core.frame.DataFrame'>\n",
            "RangeIndex: 45870 entries, 0 to 45869\n",
            "Data columns (total 14 columns):\n",
            " #   Column                Non-Null Count  Dtype\n",
            "---  ------                --------------  -----\n",
            " 0   ID                    45870 non-null  int64\n",
            " 1   Source Port           45870 non-null  int64\n",
            " 2   Destination Port      45870 non-null  int64\n",
            " 3   NAT Source Port       45870 non-null  int64\n",
            " 4   NAT Destination Port  45870 non-null  int64\n",
            " 5   Bytes                 45870 non-null  int64\n",
            " 6   Bytes Sent            45870 non-null  int64\n",
            " 7   Bytes Received        45870 non-null  int64\n",
            " 8   Packets               45870 non-null  int64\n",
            " 9   Elapsed Time (sec)    45870 non-null  int64\n",
            " 10  pkts_sent             45870 non-null  int64\n",
            " 11  pkts_received         45870 non-null  int64\n",
            " 12  Action                45870 non-null  int64\n",
            " 13  nancount              45870 non-null  int64\n",
            "dtypes: int64(14)\n",
            "memory usage: 4.9 MB\n"
          ],
          "name": "stdout"
        }
      ]
    },
    {
      "cell_type": "markdown",
      "metadata": {
        "id": "HM9BOCqa1NLX"
      },
      "source": [
        "### Separate Label vs Feature"
      ]
    },
    {
      "cell_type": "code",
      "metadata": {
        "id": "aWAXkyJe1Rcu"
      },
      "source": [
        "y = df.loc[:,'Action']\n",
        "X = df.drop(['ID','Action'],axis=1)"
      ],
      "execution_count": null,
      "outputs": []
    },
    {
      "cell_type": "markdown",
      "metadata": {
        "id": "7nExRZZ0zU2n"
      },
      "source": [
        "## Test Train Split"
      ]
    },
    {
      "cell_type": "code",
      "metadata": {
        "id": "w8a6lTq6zJmI"
      },
      "source": [
        "from sklearn.model_selection import train_test_split"
      ],
      "execution_count": null,
      "outputs": []
    },
    {
      "cell_type": "code",
      "metadata": {
        "id": "nX0tTYSezOvP"
      },
      "source": [
        "X_train, X_test, y_train, y_test = train_test_split(X, y, test_size=0.2, random_state=22)"
      ],
      "execution_count": null,
      "outputs": []
    },
    {
      "cell_type": "markdown",
      "metadata": {
        "id": "v2Cj8q--xa-f"
      },
      "source": [
        "# Data Visualization"
      ]
    },
    {
      "cell_type": "code",
      "metadata": {
        "colab": {
          "base_uri": "https://localhost:8080/"
        },
        "id": "4mx4069rxexd",
        "outputId": "f3c516ef-8fdf-4d72-f5b1-71b8b0f8c84d"
      },
      "source": [
        "print(df['ID'].corr(df['Source Port']))\n",
        "print(df['pkts_received'].corr(df['Action']))\n",
        "print(df['ID'].corr(df['Action']))"
      ],
      "execution_count": null,
      "outputs": [
        {
          "output_type": "stream",
          "text": [
            "0.004004893499190068\n",
            "-0.018264771302748367\n",
            "-6.193059199356068e-05\n"
          ],
          "name": "stdout"
        }
      ]
    },
    {
      "cell_type": "code",
      "metadata": {
        "colab": {
          "base_uri": "https://localhost:8080/",
          "height": 339
        },
        "id": "ZYRWw_m8aVjz",
        "outputId": "087699ce-ca58-41db-dfbc-4926b7d19f5a"
      },
      "source": [
        "df[df['Action']==3].describe()"
      ],
      "execution_count": null,
      "outputs": [
        {
          "output_type": "execute_result",
          "data": {
            "text/html": [
              "<div>\n",
              "<style scoped>\n",
              "    .dataframe tbody tr th:only-of-type {\n",
              "        vertical-align: middle;\n",
              "    }\n",
              "\n",
              "    .dataframe tbody tr th {\n",
              "        vertical-align: top;\n",
              "    }\n",
              "\n",
              "    .dataframe thead th {\n",
              "        text-align: right;\n",
              "    }\n",
              "</style>\n",
              "<table border=\"1\" class=\"dataframe\">\n",
              "  <thead>\n",
              "    <tr style=\"text-align: right;\">\n",
              "      <th></th>\n",
              "      <th>ID</th>\n",
              "      <th>Source Port</th>\n",
              "      <th>Destination Port</th>\n",
              "      <th>NAT Source Port</th>\n",
              "      <th>NAT Destination Port</th>\n",
              "      <th>Bytes</th>\n",
              "      <th>Bytes Sent</th>\n",
              "      <th>Bytes Received</th>\n",
              "      <th>Packets</th>\n",
              "      <th>Elapsed Time (sec)</th>\n",
              "      <th>pkts_sent</th>\n",
              "      <th>pkts_received</th>\n",
              "      <th>Action</th>\n",
              "      <th>nancount</th>\n",
              "    </tr>\n",
              "  </thead>\n",
              "  <tbody>\n",
              "    <tr>\n",
              "      <th>count</th>\n",
              "      <td>37.000000</td>\n",
              "      <td>37.000000</td>\n",
              "      <td>37.000000</td>\n",
              "      <td>37.000000</td>\n",
              "      <td>37.000000</td>\n",
              "      <td>37.000000</td>\n",
              "      <td>37.000000</td>\n",
              "      <td>37.000000</td>\n",
              "      <td>37.000000</td>\n",
              "      <td>37.000000</td>\n",
              "      <td>37.000000</td>\n",
              "      <td>37.000000</td>\n",
              "      <td>37.0</td>\n",
              "      <td>37.000000</td>\n",
              "    </tr>\n",
              "    <tr>\n",
              "      <th>mean</th>\n",
              "      <td>29963.783784</td>\n",
              "      <td>21487.378378</td>\n",
              "      <td>13780.216216</td>\n",
              "      <td>2297.837838</td>\n",
              "      <td>274.405405</td>\n",
              "      <td>122.756757</td>\n",
              "      <td>111.918919</td>\n",
              "      <td>11.216216</td>\n",
              "      <td>0.864865</td>\n",
              "      <td>-0.081081</td>\n",
              "      <td>0.621622</td>\n",
              "      <td>-0.081081</td>\n",
              "      <td>3.0</td>\n",
              "      <td>3.513514</td>\n",
              "    </tr>\n",
              "    <tr>\n",
              "      <th>std</th>\n",
              "      <td>15989.087211</td>\n",
              "      <td>19801.821543</td>\n",
              "      <td>16836.519652</td>\n",
              "      <td>7781.713584</td>\n",
              "      <td>937.934180</td>\n",
              "      <td>94.790531</td>\n",
              "      <td>70.761877</td>\n",
              "      <td>26.220364</td>\n",
              "      <td>1.530471</td>\n",
              "      <td>0.546625</td>\n",
              "      <td>1.036858</td>\n",
              "      <td>0.546625</td>\n",
              "      <td>0.0</td>\n",
              "      <td>1.366700</td>\n",
              "    </tr>\n",
              "    <tr>\n",
              "      <th>min</th>\n",
              "      <td>229.000000</td>\n",
              "      <td>-1.000000</td>\n",
              "      <td>-1.000000</td>\n",
              "      <td>-1.000000</td>\n",
              "      <td>-1.000000</td>\n",
              "      <td>-1.000000</td>\n",
              "      <td>-1.000000</td>\n",
              "      <td>-1.000000</td>\n",
              "      <td>-1.000000</td>\n",
              "      <td>-1.000000</td>\n",
              "      <td>-1.000000</td>\n",
              "      <td>-1.000000</td>\n",
              "      <td>3.0</td>\n",
              "      <td>1.000000</td>\n",
              "    </tr>\n",
              "    <tr>\n",
              "      <th>25%</th>\n",
              "      <td>20320.000000</td>\n",
              "      <td>6889.000000</td>\n",
              "      <td>-1.000000</td>\n",
              "      <td>-1.000000</td>\n",
              "      <td>-1.000000</td>\n",
              "      <td>62.000000</td>\n",
              "      <td>62.000000</td>\n",
              "      <td>0.000000</td>\n",
              "      <td>-1.000000</td>\n",
              "      <td>0.000000</td>\n",
              "      <td>1.000000</td>\n",
              "      <td>0.000000</td>\n",
              "      <td>3.0</td>\n",
              "      <td>3.000000</td>\n",
              "    </tr>\n",
              "    <tr>\n",
              "      <th>50%</th>\n",
              "      <td>29613.000000</td>\n",
              "      <td>14967.000000</td>\n",
              "      <td>3389.000000</td>\n",
              "      <td>0.000000</td>\n",
              "      <td>0.000000</td>\n",
              "      <td>143.000000</td>\n",
              "      <td>143.000000</td>\n",
              "      <td>0.000000</td>\n",
              "      <td>1.000000</td>\n",
              "      <td>0.000000</td>\n",
              "      <td>1.000000</td>\n",
              "      <td>0.000000</td>\n",
              "      <td>3.0</td>\n",
              "      <td>3.000000</td>\n",
              "    </tr>\n",
              "    <tr>\n",
              "      <th>75%</th>\n",
              "      <td>39210.000000</td>\n",
              "      <td>29951.000000</td>\n",
              "      <td>25773.000000</td>\n",
              "      <td>0.000000</td>\n",
              "      <td>0.000000</td>\n",
              "      <td>157.000000</td>\n",
              "      <td>146.000000</td>\n",
              "      <td>0.000000</td>\n",
              "      <td>1.000000</td>\n",
              "      <td>0.000000</td>\n",
              "      <td>1.000000</td>\n",
              "      <td>0.000000</td>\n",
              "      <td>3.0</td>\n",
              "      <td>4.000000</td>\n",
              "    </tr>\n",
              "    <tr>\n",
              "      <th>max</th>\n",
              "      <td>57763.000000</td>\n",
              "      <td>64461.000000</td>\n",
              "      <td>61248.000000</td>\n",
              "      <td>38126.000000</td>\n",
              "      <td>3389.000000</td>\n",
              "      <td>293.000000</td>\n",
              "      <td>223.000000</td>\n",
              "      <td>70.000000</td>\n",
              "      <td>4.000000</td>\n",
              "      <td>1.000000</td>\n",
              "      <td>3.000000</td>\n",
              "      <td>1.000000</td>\n",
              "      <td>3.0</td>\n",
              "      <td>8.000000</td>\n",
              "    </tr>\n",
              "  </tbody>\n",
              "</table>\n",
              "</div>"
            ],
            "text/plain": [
              "                 ID   Source Port  ...  Action   nancount\n",
              "count     37.000000     37.000000  ...    37.0  37.000000\n",
              "mean   29963.783784  21487.378378  ...     3.0   3.513514\n",
              "std    15989.087211  19801.821543  ...     0.0   1.366700\n",
              "min      229.000000     -1.000000  ...     3.0   1.000000\n",
              "25%    20320.000000   6889.000000  ...     3.0   3.000000\n",
              "50%    29613.000000  14967.000000  ...     3.0   3.000000\n",
              "75%    39210.000000  29951.000000  ...     3.0   4.000000\n",
              "max    57763.000000  64461.000000  ...     3.0   8.000000\n",
              "\n",
              "[8 rows x 14 columns]"
            ]
          },
          "metadata": {
            "tags": []
          },
          "execution_count": 168
        }
      ]
    },
    {
      "cell_type": "markdown",
      "metadata": {
        "id": "36Np3r5qxfV_"
      },
      "source": [
        "# Model Decision"
      ]
    },
    {
      "cell_type": "markdown",
      "metadata": {
        "id": "TMjW8f_dDD7p"
      },
      "source": [
        "### LightGBM"
      ]
    },
    {
      "cell_type": "code",
      "metadata": {
        "id": "dR5B0futDGKv"
      },
      "source": [
        "import lightgbm as lgb"
      ],
      "execution_count": null,
      "outputs": []
    },
    {
      "cell_type": "code",
      "metadata": {
        "id": "Przb23xsDRQ_"
      },
      "source": [
        ""
      ],
      "execution_count": null,
      "outputs": []
    },
    {
      "cell_type": "markdown",
      "metadata": {
        "id": "nasvtE9IRWTo"
      },
      "source": [
        "### KNN Algorithm"
      ]
    },
    {
      "cell_type": "code",
      "metadata": {
        "id": "neOtrLWHRZlQ"
      },
      "source": [
        "from sklearn.neighbors import KNeighborsClassifier"
      ],
      "execution_count": null,
      "outputs": []
    },
    {
      "cell_type": "code",
      "metadata": {
        "colab": {
          "base_uri": "https://localhost:8080/"
        },
        "id": "cHlmGGuMRaTw",
        "outputId": "e4fb952b-f8e9-424e-8dd1-957f59e3db8c"
      },
      "source": [
        "model = KNeighborsClassifier(n_neighbors=4)\n",
        "model.fit(X_train,y_train)"
      ],
      "execution_count": null,
      "outputs": [
        {
          "output_type": "stream",
          "text": [
            "/usr/local/lib/python3.7/dist-packages/ipykernel_launcher.py:2: DataConversionWarning: A column-vector y was passed when a 1d array was expected. Please change the shape of y to (n_samples, ), for example using ravel().\n",
            "  \n"
          ],
          "name": "stderr"
        },
        {
          "output_type": "execute_result",
          "data": {
            "text/plain": [
              "KNeighborsClassifier(algorithm='auto', leaf_size=30, metric='minkowski',\n",
              "                     metric_params=None, n_jobs=None, n_neighbors=4, p=2,\n",
              "                     weights='uniform')"
            ]
          },
          "metadata": {
            "tags": []
          },
          "execution_count": 117
        }
      ]
    },
    {
      "cell_type": "markdown",
      "metadata": {
        "id": "9_8c8NpZFng2"
      },
      "source": [
        "### XGBooster"
      ]
    },
    {
      "cell_type": "code",
      "metadata": {
        "colab": {
          "base_uri": "https://localhost:8080/"
        },
        "id": "m0TwQc-hxjOM",
        "outputId": "ef970b9f-e909-44f8-aeca-8ef68cac1c77"
      },
      "source": [
        "import xgboost as xgb\n",
        "xgb.XGBClassifier(missing=-1)"
      ],
      "execution_count": null,
      "outputs": [
        {
          "output_type": "execute_result",
          "data": {
            "text/plain": [
              "XGBClassifier(base_score=0.5, booster='gbtree', colsample_bylevel=1,\n",
              "              colsample_bynode=1, colsample_bytree=1, gamma=0,\n",
              "              learning_rate=0.1, max_delta_step=0, max_depth=3,\n",
              "              min_child_weight=1, missing=-1, n_estimators=100, n_jobs=1,\n",
              "              nthread=None, objective='binary:logistic', random_state=0,\n",
              "              reg_alpha=0, reg_lambda=1, scale_pos_weight=1, seed=None,\n",
              "              silent=None, subsample=1, verbosity=1)"
            ]
          },
          "metadata": {
            "tags": []
          },
          "execution_count": 281
        }
      ]
    },
    {
      "cell_type": "code",
      "metadata": {
        "colab": {
          "base_uri": "https://localhost:8080/"
        },
        "id": "44VfTVWmGGg1",
        "outputId": "9bff35e5-b670-4572-fbb4-86f398fb6b35"
      },
      "source": [
        "model=xgb.XGBClassifier(missing=np.nan,n_estimators=100,max_depth=20,learning_rate=0.5)\n",
        "model.fit(X_train,y_train)"
      ],
      "execution_count": null,
      "outputs": [
        {
          "output_type": "stream",
          "text": [
            "/usr/local/lib/python3.7/dist-packages/sklearn/preprocessing/_label.py:235: DataConversionWarning: A column-vector y was passed when a 1d array was expected. Please change the shape of y to (n_samples, ), for example using ravel().\n",
            "  y = column_or_1d(y, warn=True)\n",
            "/usr/local/lib/python3.7/dist-packages/sklearn/preprocessing/_label.py:268: DataConversionWarning: A column-vector y was passed when a 1d array was expected. Please change the shape of y to (n_samples, ), for example using ravel().\n",
            "  y = column_or_1d(y, warn=True)\n"
          ],
          "name": "stderr"
        },
        {
          "output_type": "execute_result",
          "data": {
            "text/plain": [
              "XGBClassifier(base_score=0.5, booster='gbtree', colsample_bylevel=1,\n",
              "              colsample_bynode=1, colsample_bytree=1, gamma=0,\n",
              "              learning_rate=0.1, max_delta_step=0, max_depth=20,\n",
              "              min_child_weight=1, missing=None, n_estimators=100, n_jobs=1,\n",
              "              nthread=None, objective='multi:softprob', random_state=0,\n",
              "              reg_alpha=0, reg_lambda=1, scale_pos_weight=1, seed=None,\n",
              "              silent=None, subsample=1, verbosity=1)"
            ]
          },
          "metadata": {
            "tags": []
          },
          "execution_count": 302
        }
      ]
    },
    {
      "cell_type": "markdown",
      "metadata": {
        "id": "WRyW26tQIRv-"
      },
      "source": [
        "### Random forest"
      ]
    },
    {
      "cell_type": "code",
      "metadata": {
        "id": "8pB3rp5OIUbt"
      },
      "source": [
        "from sklearn.ensemble import RandomForestClassifier"
      ],
      "execution_count": null,
      "outputs": []
    },
    {
      "cell_type": "code",
      "metadata": {
        "colab": {
          "base_uri": "https://localhost:8080/"
        },
        "id": "Ve6p_ITDIaxs",
        "outputId": "d7870bb7-87ef-465b-f8ed-fe3fa91ee4f5"
      },
      "source": [
        "model=RandomForestClassifier()\n",
        "model .fit(X_train,y_train)"
      ],
      "execution_count": null,
      "outputs": [
        {
          "output_type": "stream",
          "text": [
            "/usr/local/lib/python3.7/dist-packages/ipykernel_launcher.py:2: DataConversionWarning: A column-vector y was passed when a 1d array was expected. Please change the shape of y to (n_samples,), for example using ravel().\n",
            "  \n"
          ],
          "name": "stderr"
        },
        {
          "output_type": "execute_result",
          "data": {
            "text/plain": [
              "RandomForestClassifier(bootstrap=True, ccp_alpha=0.0, class_weight=None,\n",
              "                       criterion='gini', max_depth=None, max_features='auto',\n",
              "                       max_leaf_nodes=None, max_samples=None,\n",
              "                       min_impurity_decrease=0.0, min_impurity_split=None,\n",
              "                       min_samples_leaf=1, min_samples_split=2,\n",
              "                       min_weight_fraction_leaf=0.0, n_estimators=100,\n",
              "                       n_jobs=None, oob_score=False, random_state=None,\n",
              "                       verbose=0, warm_start=False)"
            ]
          },
          "metadata": {
            "tags": []
          },
          "execution_count": 103
        }
      ]
    },
    {
      "cell_type": "markdown",
      "metadata": {
        "id": "RxLCVDK_xj2f"
      },
      "source": [
        "# Prediction"
      ]
    },
    {
      "cell_type": "code",
      "metadata": {
        "id": "Voeuj59OxmgG"
      },
      "source": [
        "y_pred=model.predict(X_test)"
      ],
      "execution_count": null,
      "outputs": []
    },
    {
      "cell_type": "code",
      "metadata": {
        "colab": {
          "base_uri": "https://localhost:8080/"
        },
        "id": "FoAjdkGCR-4R",
        "outputId": "1195666a-66bc-4beb-cf39-7cb5ba1c5b6e"
      },
      "source": [
        "from sklearn.metrics import accuracy_score\n",
        "print(\"Accuracy:\",accuracy_score(y_test, y_pred))\n",
        "#xgbooster - 0.985\n",
        "#random forest - 0.984\n",
        "#knn - 0.95"
      ],
      "execution_count": null,
      "outputs": [
        {
          "output_type": "stream",
          "text": [
            "Accuracy: 0.988009592326139\n"
          ],
          "name": "stdout"
        }
      ]
    },
    {
      "cell_type": "code",
      "metadata": {
        "colab": {
          "base_uri": "https://localhost:8080/"
        },
        "id": "YWwAXn4KGVz-",
        "outputId": "8eac5add-5ab8-44a4-c211-7ab651069280"
      },
      "source": [
        "from sklearn.metrics import f1_score\n",
        "f1_score(y_test, y_pred, average='weighted')"
      ],
      "execution_count": null,
      "outputs": [
        {
          "output_type": "execute_result",
          "data": {
            "text/plain": [
              "0.9918875038986195"
            ]
          },
          "metadata": {
            "tags": []
          },
          "execution_count": 304
        }
      ]
    },
    {
      "cell_type": "code",
      "metadata": {
        "id": "Y5u_ahFrG6aN"
      },
      "source": [
        ""
      ],
      "execution_count": null,
      "outputs": []
    },
    {
      "cell_type": "markdown",
      "metadata": {
        "id": "36Ms9GbVxnNX"
      },
      "source": [
        "# Data Extraction"
      ]
    },
    {
      "cell_type": "code",
      "metadata": {
        "id": "NX5jlBCaxpT8"
      },
      "source": [
        "tdf=pd.read_csv('test.csv')"
      ],
      "execution_count": null,
      "outputs": []
    },
    {
      "cell_type": "code",
      "metadata": {
        "id": "BTCkh1QyJfbN"
      },
      "source": [
        "le=LabelEncoder()\n",
        "df['Action']= le.fit_transform(df['Action'])"
      ],
      "execution_count": null,
      "outputs": []
    },
    {
      "cell_type": "code",
      "metadata": {
        "id": "AVbHA88OJkbT"
      },
      "source": [
        "list =['Source Port','Destination Port','NAT Source Port','NAT Destination Port','Bytes',\n",
        "       'Bytes Sent','Bytes Received','Packets','Elapsed Time (sec)','pkts_sent','pkts_received']\n",
        "\n",
        "for i in list:\n",
        "  tdf[str(i)] = tdf[str(i)].fillna(-1)\n",
        "  tdf[str(i)]=tdf[str(i)].astype(int)\n",
        "tdf.info()"
      ],
      "execution_count": null,
      "outputs": []
    },
    {
      "cell_type": "code",
      "metadata": {
        "id": "CmRwvvRK0zkW"
      },
      "source": [
        "X_=tdf.drop(y.columns,axis = 1)"
      ],
      "execution_count": null,
      "outputs": []
    },
    {
      "cell_type": "code",
      "metadata": {
        "id": "wCVcsx2bAXeW"
      },
      "source": [
        "ypred_=model.predict(X_)"
      ],
      "execution_count": null,
      "outputs": []
    },
    {
      "cell_type": "code",
      "metadata": {
        "id": "CDAOtLcZTqEH"
      },
      "source": [
        "ypred_ = le.inverse_transform(ypred_)"
      ],
      "execution_count": null,
      "outputs": []
    },
    {
      "cell_type": "code",
      "metadata": {
        "id": "n9news7QKlrT"
      },
      "source": [
        "#dont forget to decode labels back to open closed etc\n",
        "sub=pd.DataFrame({\"id\":tdf[\"id\"],\"target\":np.array(ypred_).reshape(-1)})\n",
        "sub.to_csv(\"submission1.csv\",index=False)"
      ],
      "execution_count": null,
      "outputs": []
    }
  ]
}