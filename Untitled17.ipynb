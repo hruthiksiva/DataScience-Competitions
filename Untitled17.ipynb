{
  "nbformat": 4,
  "nbformat_minor": 0,
  "metadata": {
    "colab": {
      "name": "Untitled17.ipynb",
      "provenance": [],
      "collapsed_sections": [],
      "toc_visible": true
    },
    "kernelspec": {
      "name": "python3",
      "display_name": "Python 3"
    }
  },
  "cells": [
    {
      "cell_type": "code",
      "metadata": {
        "id": "X7NxyEnJbSp_",
        "colab": {
          "base_uri": "https://localhost:8080/"
        },
        "outputId": "ecb0465c-02c0-4d1a-84aa-5696a46e2209"
      },
      "source": [
        "# !gdown https://drive.google.com/u/0/uc?id=12l8sad60iS5Hd9ZM1LX3JZJeSZ7Qu9dX\n",
        "# !gdown https://drive.google.com/u/0/uc?id=1bwCeVk96IvkF06kHpgGvZ5oClSyP0gWK\n",
        "# !unzip -qq \"machina-doctrina.zip\"\n",
        "# !unzip -qq \"checkpoint.zip\""
      ],
      "execution_count": 1,
      "outputs": [
        {
          "output_type": "stream",
          "text": [
            "Downloading...\n",
            "From: https://drive.google.com/u/0/uc?id=12l8sad60iS5Hd9ZM1LX3JZJeSZ7Qu9dX\n",
            "To: /content/machina-doctrina.zip\n",
            "100% 269k/269k [00:00<00:00, 51.7MB/s]\n",
            "Downloading...\n",
            "From: https://drive.google.com/u/0/uc?id=1bwCeVk96IvkF06kHpgGvZ5oClSyP0gWK\n",
            "To: /content/checkpoint.zip\n",
            "100% 19.9k/19.9k [00:00<00:00, 41.1MB/s]\n"
          ],
          "name": "stdout"
        }
      ]
    },
    {
      "cell_type": "code",
      "metadata": {
        "id": "qc2cL7MOcGw9"
      },
      "source": [
        "import pandas as pd\n",
        "import numpy as np\n",
        "import re"
      ],
      "execution_count": 2,
      "outputs": []
    },
    {
      "cell_type": "code",
      "metadata": {
        "id": "gGeMf2T6cIQF"
      },
      "source": [
        "df = pd.read_csv('TrainDataset.csv')\n",
        "df2 = pd.read_csv('TestDataset.csv')"
      ],
      "execution_count": 3,
      "outputs": []
    },
    {
      "cell_type": "code",
      "metadata": {
        "id": "A6CvKtdDdfAd"
      },
      "source": [
        "from pandas.api.types import CategoricalDtype\n",
        "cat_type = CategoricalDtype(categories=[\"L\", \"M\", \"H\"], ordered=True)\n",
        "\n",
        "df['Parameter-1_0'] = df['Parameter-1'].str.slice(start=1).astype(int)\n",
        "df['Parameter-2'] = df['Parameter-2'].astype(cat_type).cat.codes\n",
        "df2['Parameter-1_0'] = df['Parameter-1'].str.slice(start=1).astype(int)\n",
        "df2['Parameter-2'] = df['Parameter-2'].astype(cat_type).cat.codes\n",
        "df=df[['ID', 'Parameter-1', 'Parameter-1_0', 'Parameter-2', 'Parameter-3', 'Parameter-4', 'Parameter-5', 'Parameter-6', 'Parameter-7', 'Target-1', 'Target-2',\n",
        "       'Target-3', 'Target-4', 'Target-5']]\n",
        "df2=df2[['ID', 'Parameter-1', 'Parameter-1_0', 'Parameter-2', 'Parameter-3', 'Parameter-4', 'Parameter-5', 'Parameter-6', 'Parameter-7']]"
      ],
      "execution_count": 4,
      "outputs": []
    },
    {
      "cell_type": "code",
      "metadata": {
        "id": "AX125JVmhq0E"
      },
      "source": [
        "df.to_csv('Train.csv', index=False)\n",
        "df2.to_csv('Test.csv', index=False)"
      ],
      "execution_count": 5,
      "outputs": []
    },
    {
      "cell_type": "markdown",
      "metadata": {
        "id": "JxIAxhw5gxvb"
      },
      "source": [
        "# checkPoint"
      ]
    },
    {
      "cell_type": "code",
      "metadata": {
        "id": "fnH5hxfdh2Bz"
      },
      "source": [
        "df = pd.read_csv('Train.csv')\n",
        "df2 = pd.read_csv('Test.csv')\n",
        "#X, y = df[['Parameter-1_0', 'Parameter-2', 'Parameter-3', 'Parameter-4', 'Parameter-5', 'Parameter-6', 'Parameter-7']], df[['Target-1', 'Target-2', 'Target-3', 'Target-4', 'Target-5']]\n",
        "X_ = df2[['Parameter-1_0', 'Parameter-2', 'Parameter-3', 'Parameter-4', 'Parameter-5', 'Parameter-6', 'Parameter-7']]"
      ],
      "execution_count": 6,
      "outputs": []
    },
    {
      "cell_type": "code",
      "metadata": {
        "id": "nQggKB4MyVd6"
      },
      "source": [
        "class_count_0, class_count_1 = df['Target-1'].value_counts()\n",
        "class_0 = df[df['Target-1'] == 0]\n",
        "class_1 = df[df['Target-1'] == 1]\n",
        "class_0_under = class_0.sample(class_count_1 * 2)\n",
        "test_under1 = pd.concat([class_0_under, class_1], axis=0)"
      ],
      "execution_count": 7,
      "outputs": []
    },
    {
      "cell_type": "code",
      "metadata": {
        "id": "0pUA2GkW0Hg3"
      },
      "source": [
        "class_count_0, class_count_1 = df['Target-2'].value_counts()\n",
        "class_0 = df[df['Target-2'] == 0]\n",
        "class_1 = df[df['Target-2'] == 1]\n",
        "class_0_under = class_0.sample(class_count_1 * 2)\n",
        "test_under2 = pd.concat([class_0_under, class_1], axis=0)"
      ],
      "execution_count": 8,
      "outputs": []
    },
    {
      "cell_type": "code",
      "metadata": {
        "id": "6NhdSCSo0JXx"
      },
      "source": [
        "class_count_0, class_count_1 = df['Target-3'].value_counts()\n",
        "class_0 = df[df['Target-3'] == 0]\n",
        "class_1 = df[df['Target-3'] == 1]\n",
        "class_0_under = class_0.sample(class_count_1 * 2)\n",
        "test_under3 = pd.concat([class_0_under, class_1], axis=0)"
      ],
      "execution_count": 9,
      "outputs": []
    },
    {
      "cell_type": "code",
      "metadata": {
        "id": "oRw0KtMA0JvO"
      },
      "source": [
        "class_count_0, class_count_1 = df['Target-4'].value_counts()\n",
        "class_0 = df[df['Target-4'] == 0]\n",
        "class_1 = df[df['Target-4'] == 1]\n",
        "class_0_under = class_0.sample(class_count_1 * 2)\n",
        "test_under4 = pd.concat([class_0_under, class_1], axis=0)"
      ],
      "execution_count": 10,
      "outputs": []
    },
    {
      "cell_type": "code",
      "metadata": {
        "id": "7rFIyG2q0KAs"
      },
      "source": [
        "class_count_0, class_count_1 = df['Target-5'].value_counts()\n",
        "class_0 = df[df['Target-5'] == 0]\n",
        "class_1 = df[df['Target-5'] == 1]\n",
        "class_0_under = class_0.sample(class_count_1 * 2)\n",
        "test_under5 = pd.concat([class_0_under, class_1], axis=0)"
      ],
      "execution_count": 11,
      "outputs": []
    },
    {
      "cell_type": "markdown",
      "metadata": {
        "id": "n18aKHLfgteY"
      },
      "source": [
        "# checkPoint"
      ]
    },
    {
      "cell_type": "code",
      "metadata": {
        "id": "QlnGkEX1f5Jn"
      },
      "source": [
        "#test_under1.to_csv('tu1', index=False)\n",
        "#test_under2.to_csv('tu2', index=False)\n",
        "#test_under3.to_csv('tu3', index=False)\n",
        "#test_under4.to_csv('tu4', index=False)\n",
        "#test_under5.to_csv('tu5', index=False)\n",
        "test_under1 = pd.read_csv('tu1')\n",
        "test_under2 = pd.read_csv('tu2')\n",
        "test_under3 = pd.read_csv('tu3')\n",
        "test_under4 = pd.read_csv('tu4')\n",
        "test_under5 = pd.read_csv('tu5')"
      ],
      "execution_count": 12,
      "outputs": []
    },
    {
      "cell_type": "code",
      "metadata": {
        "id": "RRnQ1YhkzGSA"
      },
      "source": [
        "from xgboost import XGBClassifier\n",
        "X1, y1 = test_under1[['Parameter-1_0', 'Parameter-2', 'Parameter-3', 'Parameter-4', 'Parameter-5', 'Parameter-6', 'Parameter-7']], test_under1[['Target-1', 'Target-2', 'Target-3', 'Target-4', 'Target-5']]\n",
        "X2, y2 = test_under2[['Parameter-1_0', 'Parameter-2', 'Parameter-3', 'Parameter-4', 'Parameter-5', 'Parameter-6', 'Parameter-7']], test_under2[['Target-1', 'Target-2', 'Target-3', 'Target-4', 'Target-5']]\n",
        "X3, y3 = test_under3[['Parameter-1_0', 'Parameter-2', 'Parameter-3', 'Parameter-4', 'Parameter-5', 'Parameter-6', 'Parameter-7']], test_under3[['Target-1', 'Target-2', 'Target-3', 'Target-4', 'Target-5']]\n",
        "X4, y4 = test_under4[['Parameter-1_0', 'Parameter-2', 'Parameter-3', 'Parameter-4', 'Parameter-5', 'Parameter-6', 'Parameter-7']], test_under4[['Target-1', 'Target-2', 'Target-3', 'Target-4', 'Target-5']]\n",
        "X5, y5 = test_under5[['Parameter-1_0', 'Parameter-2', 'Parameter-3', 'Parameter-4', 'Parameter-5', 'Parameter-6', 'Parameter-7']], test_under5[['Target-1', 'Target-2', 'Target-3', 'Target-4', 'Target-5']]\n",
        "t1 = XGBClassifier(n_estimators=5000,max_depth = 9).fit(X1, y1.iloc[:,0])\n",
        "t2 = XGBClassifier(n_estimators=5000,max_depth = 9).fit(X2, y2.iloc[:,1])\n",
        "t3 = XGBClassifier(n_estimators=5000,max_depth = 9).fit(X3, y3.iloc[:,2])\n",
        "t4 = XGBClassifier(n_estimators=5000,max_depth = 9).fit(X4, y4.iloc[:,3])\n",
        "t5 = XGBClassifier(n_estimators=5000,max_depth = 9).fit(X5, y5.iloc[:,4])\n",
        "\n",
        "#X_ = test_under1[['Parameter-1_0', 'Parameter-2', 'Parameter-3', 'Parameter-4', 'Parameter-5', 'Parameter-6', 'Parameter-7']]"
      ],
      "execution_count": 13,
      "outputs": []
    },
    {
      "cell_type": "markdown",
      "metadata": {
        "id": "XV1_3GwBhe9a"
      },
      "source": [
        "# Output File"
      ]
    },
    {
      "cell_type": "code",
      "metadata": {
        "id": "lE0U1y9tuIMV"
      },
      "source": [
        "dataset = pd.DataFrame({'ID': df2['ID'], 'Target-1': t1.predict(X_), 'Target-2': t2.predict(X_), 'Target-3': t3.predict(X_), 'Target-4': t4.predict(X_), 'Target-5': t5.predict(X_)}, columns=['ID', 'Target-1', 'Target-2', 'Target-3', 'Target-4', 'Target-5'])\n",
        "dataset.to_csv('submission.csv', index=False)"
      ],
      "execution_count": 14,
      "outputs": []
    }
  ]
}