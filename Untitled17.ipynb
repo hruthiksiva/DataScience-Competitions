{
  "nbformat": 4,
  "nbformat_minor": 0,
  "metadata": {
    "colab": {
      "name": "Untitled17.ipynb",
      "provenance": [],
      "collapsed_sections": [],
      "include_colab_link": true
    },
    "kernelspec": {
      "name": "python3",
      "display_name": "Python 3"
    }
  },
  "cells": [
    {
      "cell_type": "markdown",
      "metadata": {
        "id": "view-in-github",
        "colab_type": "text"
      },
      "source": [
        "<a href=\"https://colab.research.google.com/github/hruthiksiva/iith-competition/blob/main/Untitled17.ipynb\" target=\"_parent\"><img src=\"https://colab.research.google.com/assets/colab-badge.svg\" alt=\"Open In Colab\"/></a>"
      ]
    },
    {
      "cell_type": "code",
      "metadata": {
        "colab": {
          "base_uri": "https://localhost:8080/"
        },
        "id": "X7NxyEnJbSp_",
        "outputId": "de31df2a-31c5-4597-d366-f42481cfbd29"
      },
      "source": [
        "!gdown https://drive.google.com/u/0/uc?id=12l8sad60iS5Hd9ZM1LX3JZJeSZ7Qu9dX\n",
        "!unzip -qq \"machina-doctrina.zip\""
      ],
      "execution_count": null,
      "outputs": [
        {
          "output_type": "stream",
          "text": [
            "Downloading...\n",
            "From: https://drive.google.com/u/0/uc?id=12l8sad60iS5Hd9ZM1LX3JZJeSZ7Qu9dX\n",
            "To: /content/machina-doctrina.zip\n",
            "\r  0% 0.00/269k [00:00<?, ?B/s]\r100% 269k/269k [00:00<00:00, 36.9MB/s]\n",
            "replace TestDataset.csv? [y]es, [n]o, [A]ll, [N]one, [r]ename: N\n"
          ],
          "name": "stdout"
        }
      ]
    },
    {
      "cell_type": "code",
      "metadata": {
        "id": "qc2cL7MOcGw9"
      },
      "source": [
        "import pandas as pd\n",
        "import numpy as np\n",
        "import re"
      ],
      "execution_count": 1,
      "outputs": []
    },
    {
      "cell_type": "code",
      "metadata": {
        "id": "gGeMf2T6cIQF"
      },
      "source": [
        "df = pd.read_csv('TrainDataset.csv')\n",
        "df2 = pd.read_csv('TestDataset.csv')"
      ],
      "execution_count": null,
      "outputs": []
    },
    {
      "cell_type": "code",
      "metadata": {
        "id": "A6CvKtdDdfAd"
      },
      "source": [
        "from pandas.api.types import CategoricalDtype\n",
        "cat_type = CategoricalDtype(categories=[\"L\", \"M\", \"H\"], ordered=True)\n",
        "\n",
        "df['Parameter-1_0'] = df['Parameter-1'].str.slice(start=1).astype(int)\n",
        "df['Parameter-2'] = df['Parameter-2'].astype(cat_type).cat.codes\n",
        "df2['Parameter-1_0'] = df['Parameter-1'].str.slice(start=1).astype(int)\n",
        "df2['Parameter-2'] = df['Parameter-2'].astype(cat_type).cat.codes\n",
        "df=df[['ID', 'Parameter-1', 'Parameter-1_0', 'Parameter-2', 'Parameter-3', 'Parameter-4', 'Parameter-5', 'Parameter-6', 'Parameter-7', 'Target-1', 'Target-2',\n",
        "       'Target-3', 'Target-4', 'Target-5']]\n",
        "df2=df2[['ID', 'Parameter-1', 'Parameter-1_0', 'Parameter-2', 'Parameter-3', 'Parameter-4', 'Parameter-5', 'Parameter-6', 'Parameter-7']]"
      ],
      "execution_count": null,
      "outputs": []
    },
    {
      "cell_type": "code",
      "metadata": {
        "id": "AX125JVmhq0E"
      },
      "source": [
        "df.to_csv('Train.csv', index=False)\n",
        "df2.to_csv('Test.csv', index=False)"
      ],
      "execution_count": null,
      "outputs": []
    },
    {
      "cell_type": "code",
      "metadata": {
        "id": "fnH5hxfdh2Bz"
      },
      "source": [
        "df = pd.read_csv('Train.csv')\n",
        "df2 = pd.read_csv('Test.csv')\n",
        "#X, y = df[['Parameter-1_0', 'Parameter-2', 'Parameter-3', 'Parameter-4', 'Parameter-5', 'Parameter-6', 'Parameter-7']], df[['Target-1', 'Target-2', 'Target-3', 'Target-4', 'Target-5']]\n",
        "#X_ = df2[['Parameter-1_0', 'Parameter-2', 'Parameter-3', 'Parameter-4', 'Parameter-5', 'Parameter-6', 'Parameter-7']]"
      ],
      "execution_count": null,
      "outputs": []
    },
    {
      "cell_type": "code",
      "metadata": {
        "id": "Sl8z8C2ojVqP"
      },
      "source": [
        "from sklearn.preprocessing import StandardScaler\n",
        "sc = StandardScaler()\n",
        "X_train = sc.fit_transform(X_train)\n",
        "X_test = sc.transform(X_test)\n",
        "X_ = sc.transform(X_)"
      ],
      "execution_count": null,
      "outputs": []
    },
    {
      "cell_type": "code",
      "metadata": {
        "id": "-vt2LlkrjphC"
      },
      "source": [
        "from sklearn.multioutput import MultiOutputClassifier\n",
        "from sklearn.linear_model import LogisticRegression\n",
        "from sklearn.neighbors import KNeighborsClassifier\n",
        "from sklearn.linear_model import RidgeClassifier\n",
        "from sklearn.ensemble import RandomForestClassifier\n",
        "from xgboost import XGBClassifier"
      ],
      "execution_count": null,
      "outputs": []
    },
    {
      "cell_type": "code",
      "metadata": {
        "id": "nQggKB4MyVd6"
      },
      "source": [
        "class_count_0, class_count_1 = df['Target-1'].value_counts()\n",
        "class_0 = df[df['Target-1'] == 0]\n",
        "class_1 = df[df['Target-1'] == 1]\n",
        "class_0_under = class_0.sample(class_count_1*2)\n",
        "test_under = pd.concat([class_0_under, class_1], axis=0)"
      ],
      "execution_count": null,
      "outputs": []
    },
    {
      "cell_type": "code",
      "metadata": {
        "id": "0pUA2GkW0Hg3"
      },
      "source": [
        "class_count_0, class_count_1 = df['Target-2'].value_counts()\n",
        "class_0 = df[df['Target-2'] == 0]\n",
        "class_1 = df[df['Target-2'] == 1]\n",
        "class_0_under = class_0.sample(class_count_1*2)\n",
        "test_under2 = pd.concat([class_0_under, class_1], axis=0)"
      ],
      "execution_count": null,
      "outputs": []
    },
    {
      "cell_type": "code",
      "metadata": {
        "id": "6NhdSCSo0JXx"
      },
      "source": [
        "class_count_0, class_count_1 = df['Target-3'].value_counts()\n",
        "class_0 = df[df['Target-3'] == 0]\n",
        "class_1 = df[df['Target-3'] == 1]\n",
        "class_0_under = class_0.sample(class_count_1*2)\n",
        "test_under3 = pd.concat([class_0_under, class_1], axis=0)"
      ],
      "execution_count": null,
      "outputs": []
    },
    {
      "cell_type": "code",
      "metadata": {
        "id": "oRw0KtMA0JvO"
      },
      "source": [
        "class_count_0, class_count_1 = df['Target-4'].value_counts()\n",
        "class_0 = df[df['Target-4'] == 0]\n",
        "class_1 = df[df['Target-4'] == 1]\n",
        "class_0_under = class_0.sample(class_count_1*2)\n",
        "test_under4 = pd.concat([class_0_under, class_1], axis=0)"
      ],
      "execution_count": null,
      "outputs": []
    },
    {
      "cell_type": "code",
      "metadata": {
        "id": "7rFIyG2q0KAs"
      },
      "source": [
        "class_count_0, class_count_1 = df['Target-5'].value_counts()\n",
        "class_0 = df[df['Target-5'] == 0]\n",
        "class_1 = df[df['Target-5'] == 1]\n",
        "class_0_under = class_0.sample(class_count_1*2)\n",
        "test_under5 = pd.concat([class_0_under, class_1], axis=0)"
      ],
      "execution_count": null,
      "outputs": []
    },
    {
      "cell_type": "code",
      "metadata": {
        "colab": {
          "base_uri": "https://localhost:8080/"
        },
        "id": "XComW5baA5Bi",
        "outputId": "f3643115-1a1d-4dfb-e137-5ad8b47210b3"
      },
      "source": [
        "XGBClassifier()"
      ],
      "execution_count": null,
      "outputs": [
        {
          "output_type": "execute_result",
          "data": {
            "text/plain": [
              "XGBClassifier(base_score=0.5, booster='gbtree', colsample_bylevel=1,\n",
              "              colsample_bynode=1, colsample_bytree=1, gamma=0,\n",
              "              learning_rate=0.1, max_delta_step=0, max_depth=3,\n",
              "              min_child_weight=1, missing=None, n_estimators=100, n_jobs=1,\n",
              "              nthread=None, objective='binary:logistic', random_state=0,\n",
              "              reg_alpha=0, reg_lambda=1, scale_pos_weight=1, seed=None,\n",
              "              silent=None, subsample=1, verbosity=1)"
            ]
          },
          "metadata": {
            "tags": []
          },
          "execution_count": 457
        }
      ]
    },
    {
      "cell_type": "code",
      "metadata": {
        "id": "RRnQ1YhkzGSA"
      },
      "source": [
        "X1, y1 = test_under1[['Parameter-1_0', 'Parameter-2', 'Parameter-3', 'Parameter-4', 'Parameter-5', 'Parameter-6', 'Parameter-7']], test_under1[['Target-1', 'Target-2', 'Target-3', 'Target-4', 'Target-5']]\n",
        "X2, y2 = test_under2[['Parameter-1_0', 'Parameter-2', 'Parameter-3', 'Parameter-4', 'Parameter-5', 'Parameter-6', 'Parameter-7']], test_under2[['Target-1', 'Target-2', 'Target-3', 'Target-4', 'Target-5']]\n",
        "X3, y3 = test_under3[['Parameter-1_0', 'Parameter-2', 'Parameter-3', 'Parameter-4', 'Parameter-5', 'Parameter-6', 'Parameter-7']], test_under3[['Target-1', 'Target-2', 'Target-3', 'Target-4', 'Target-5']]\n",
        "X4, y4 = test_under4[['Parameter-1_0', 'Parameter-2', 'Parameter-3', 'Parameter-4', 'Parameter-5', 'Parameter-6', 'Parameter-7']], test_under4[['Target-1', 'Target-2', 'Target-3', 'Target-4', 'Target-5']]\n",
        "X5, y5 = test_under5[['Parameter-1_0', 'Parameter-2', 'Parameter-3', 'Parameter-4', 'Parameter-5', 'Parameter-6', 'Parameter-7']], test_under5[['Target-1', 'Target-2', 'Target-3', 'Target-4', 'Target-5']]\n",
        "t1 = XGBClassifier(n_estimators=5000).fit(X1, y1.iloc[:,0])\n",
        "t2 = XGBClassifier(n_estimators=5000).fit(X2, y2.iloc[:,1])\n",
        "t3 = XGBClassifier(n_estimators=5000).fit(X3, y3.iloc[:,2])\n",
        "t4 = XGBClassifier(n_estimators=5000).fit(X4, y4.iloc[:,3])\n",
        "t5 = XGBClassifier(n_estimators=5000).fit(X5, y5.iloc[:,4])\n",
        "\n",
        "#X_ = test_under1[['Parameter-1_0', 'Parameter-2', 'Parameter-3', 'Parameter-4', 'Parameter-5', 'Parameter-6', 'Parameter-7']]"
      ],
      "execution_count": null,
      "outputs": []
    },
    {
      "cell_type": "code",
      "metadata": {
        "id": "lE0U1y9tuIMV"
      },
      "source": [
        "dataset = pd.DataFrame({'ID': df2['ID'], 'Target-1': t1.predict(X_), 'Target-2': t2.predict(X_), 'Target-3': t3.predict(X_), 'Target-4': t4.predict(X_), 'Target-5': t5.predict(X_)}, columns=['ID', 'Target-1', 'Target-2', 'Target-3', 'Target-4', 'Target-5'])\n",
        "dataset.to_csv('submission.csv', index=False)"
      ],
      "execution_count": null,
      "outputs": []
    },
    {
      "cell_type": "code",
      "metadata": {
        "colab": {
          "base_uri": "https://localhost:8080/"
        },
        "id": "pSmlNnsoqnXv",
        "outputId": "3128ee06-7241-439f-bfbd-e885c00c83c3"
      },
      "source": [
        "from sklearn.metrics import roc_auc_score\n",
        "\n",
        "#y_pred = clf.predict_proba(X_test)\n",
        "#y_pred = np.transpose([pred[:, 1] for pred in y_pred])\n",
        "\n",
        "y_pred = clf.predict(X_test)\n",
        "\n",
        "roc_auc_score(y_test, y_pred, average=None)"
      ],
      "execution_count": null,
      "outputs": [
        {
          "output_type": "execute_result",
          "data": {
            "text/plain": [
              "array([0.5, 0.5, 0.5, 0.5, 0.5])"
            ]
          },
          "metadata": {
            "tags": []
          },
          "execution_count": 170
        }
      ]
    },
    {
      "cell_type": "code",
      "metadata": {
        "colab": {
          "base_uri": "https://localhost:8080/"
        },
        "id": "0kzY1UDjrEF6",
        "outputId": "dd2be150-1ab2-40ce-be90-8e2a55a72241"
      },
      "source": [
        "from sklearn.linear_model import RidgeClassifierCV\n",
        "clf = RidgeClassifierCV().fit(X, y)\n",
        "roc_auc_score(y, clf.decision_function(X), average=None)"
      ],
      "execution_count": null,
      "outputs": [
        {
          "output_type": "execute_result",
          "data": {
            "text/plain": [
              "array([0.96670991, 0.94685228, 0.99542177, 0.99186621, 0.73234409])"
            ]
          },
          "metadata": {
            "tags": []
          },
          "execution_count": 141
        }
      ]
    },
    {
      "cell_type": "code",
      "metadata": {
        "colab": {
          "base_uri": "https://localhost:8080/"
        },
        "id": "Ykua-lWmqwrd",
        "outputId": "91abed43-5683-4628-f4a1-9cf0ca46c8db"
      },
      "source": [
        "y_pred"
      ],
      "execution_count": null,
      "outputs": [
        {
          "output_type": "execute_result",
          "data": {
            "text/plain": [
              "array([[0. , 0. , 0. , 0. , 0. ],\n",
              "       [0. , 0. , 0. , 0. , 0. ],\n",
              "       [0. , 0. , 0. , 0. , 0. ],\n",
              "       ...,\n",
              "       [0. , 0. , 0. , 0. , 0. ],\n",
              "       [0. , 0. , 0. , 0. , 0. ],\n",
              "       [0. , 0.4, 0. , 0. , 0. ]])"
            ]
          },
          "metadata": {
            "tags": []
          },
          "execution_count": 146
        }
      ]
    },
    {
      "cell_type": "code",
      "metadata": {
        "colab": {
          "base_uri": "https://localhost:8080/"
        },
        "id": "sKheiIDUkHZJ",
        "outputId": "cc6c9c78-54a6-4eba-d14b-c97b5031a33e"
      },
      "source": [
        "sum(np.array(y_test == clf.predict(X_test)).flatten())"
      ],
      "execution_count": null,
      "outputs": [
        {
          "output_type": "execute_result",
          "data": {
            "text/plain": [
              "9923"
            ]
          },
          "metadata": {
            "tags": []
          },
          "execution_count": 147
        }
      ]
    },
    {
      "cell_type": "code",
      "metadata": {
        "colab": {
          "base_uri": "https://localhost:8080/"
        },
        "id": "RLaaLMY3rw0I",
        "outputId": "5a718e13-8106-4106-da30-658a03e4e01b"
      },
      "source": [
        "pred"
      ],
      "execution_count": null,
      "outputs": [
        {
          "output_type": "execute_result",
          "data": {
            "text/plain": [
              "array([[1, 1, 1, 1, 1],\n",
              "       [1, 1, 0, 1, 1],\n",
              "       [1, 1, 1, 1, 1],\n",
              "       ...,\n",
              "       [1, 1, 1, 1, 1],\n",
              "       [1, 1, 0, 1, 1],\n",
              "       [1, 1, 1, 1, 1]])"
            ]
          },
          "metadata": {
            "tags": []
          },
          "execution_count": 164
        }
      ]
    },
    {
      "cell_type": "code",
      "metadata": {
        "id": "HDJeBTmTnqEN"
      },
      "source": [
        "pred = clf.predict(X_)\n",
        "#dataset = pd.DataFrame({'ID': df2['ID'], 'Target-1': pred[:,0], 'Target-2': pred[:,1], 'Target-3': pred[:,2], 'Target-4': pred[:,3], 'Target-5': pred[:,4]}, columns=['ID', 'Target-1', 'Target-2', 'Target-3', 'Target-4', 'Target-5'])\n",
        "#dataset.to_csv('submission.csv', index=False)"
      ],
      "execution_count": null,
      "outputs": []
    },
    {
      "cell_type": "code",
      "metadata": {
        "colab": {
          "base_uri": "https://localhost:8080/"
        },
        "id": "c8p8Mh1A2KPL",
        "outputId": "51d9958f-a26c-4b94-d38e-18f78ef3ba1b"
      },
      "source": [
        "X_"
      ],
      "execution_count": null,
      "outputs": [
        {
          "output_type": "execute_result",
          "data": {
            "text/plain": [
              "array([[ 5.59030000e+04, -2.21123258e-17,  2.96700000e+02, ...,\n",
              "         1.58700000e+03,  3.51000000e+01,  8.00000000e+01],\n",
              "       [ 4.90960000e+04, -2.21123258e-17,  2.96600000e+02, ...,\n",
              "         1.39500000e+03,  5.17000000e+01,  2.05000000e+02],\n",
              "       [ 3.87420000e+04,  2.00000000e+00,  2.98200000e+02, ...,\n",
              "         2.05700000e+03,  1.98000000e+01,  1.90000000e+02],\n",
              "       ...,\n",
              "       [ 5.41400000e+04, -2.21123258e-17,  3.01100000e+02, ...,\n",
              "         1.42500000e+03,  5.28000000e+01,  9.70000000e+01],\n",
              "       [ 5.46680000e+04, -2.21123258e-17,  3.01500000e+02, ...,\n",
              "         1.55300000e+03,  4.41000000e+01,  1.63000000e+02],\n",
              "       [ 3.72820000e+04,  2.00000000e+00,  3.02000000e+02, ...,\n",
              "         1.45300000e+03,  4.73000000e+01,  4.20000000e+01]])"
            ]
          },
          "metadata": {
            "tags": []
          },
          "execution_count": 273
        }
      ]
    }
  ]
}