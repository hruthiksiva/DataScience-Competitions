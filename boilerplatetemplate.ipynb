{
  "nbformat": 4,
  "nbformat_minor": 0,
  "metadata": {
    "colab": {
      "name": "enigma-datathon.ipynb",
      "provenance": [],
      "authorship_tag": "ABX9TyON+K0/P/F0CEHnQfZBUlIm",
      "include_colab_link": true
    },
    "kernelspec": {
      "name": "python3",
      "display_name": "Python 3"
    },
    "language_info": {
      "name": "python"
    }
  },
  "cells": [
    {
      "cell_type": "markdown",
      "metadata": {
        "id": "view-in-github",
        "colab_type": "text"
      },
      "source": [
        "<a href=\"https://colab.research.google.com/github/hruthiksiva/DataScience-Competitions/blob/main/boilerplatetemplate.ipynb\" target=\"_parent\"><img src=\"https://colab.research.google.com/assets/colab-badge.svg\" alt=\"Open In Colab\"/></a>"
      ]
    },
    {
      "cell_type": "markdown",
      "metadata": {
        "id": "OR_0IXT7qRkM"
      },
      "source": [
        "## Imports"
      ]
    },
    {
      "cell_type": "code",
      "metadata": {
        "id": "ZsfJ0lrqpoCg"
      },
      "source": [
        "import pandas as pd\n",
        "import numpy as np\n",
        "import matplotlib.pyplot as plt"
      ],
      "execution_count": 1,
      "outputs": []
    },
    {
      "cell_type": "markdown",
      "metadata": {
        "id": "GqHLzY-8xTt3"
      },
      "source": [
        "# Data Collection/ Alteration"
      ]
    },
    {
      "cell_type": "code",
      "metadata": {
        "id": "ArtyQN_4xRRT"
      },
      "source": [
        "df=pd.read_csv('')"
      ],
      "execution_count": null,
      "outputs": []
    },
    {
      "cell_type": "markdown",
      "metadata": {
        "id": "HM9BOCqa1NLX"
      },
      "source": [
        "### Separate Label vs Feature"
      ]
    },
    {
      "cell_type": "code",
      "metadata": {
        "id": "aWAXkyJe1Rcu"
      },
      "source": [
        "y=df.iloc[:,[-1]]\n",
        "X=df.drop(y.columns,axis = 1)"
      ],
      "execution_count": null,
      "outputs": []
    },
    {
      "cell_type": "markdown",
      "metadata": {
        "id": "7nExRZZ0zU2n"
      },
      "source": [
        "## Test Train Split"
      ]
    },
    {
      "cell_type": "code",
      "metadata": {
        "id": "w8a6lTq6zJmI"
      },
      "source": [
        "from sklearn.model_selection import train_test_split"
      ],
      "execution_count": null,
      "outputs": []
    },
    {
      "cell_type": "code",
      "metadata": {
        "id": "nX0tTYSezOvP"
      },
      "source": [
        "X_train, X_test, y_train, y_test = train_test_split(X, y, test_size=0.30, random_state=42)"
      ],
      "execution_count": null,
      "outputs": []
    },
    {
      "cell_type": "markdown",
      "metadata": {
        "id": "v2Cj8q--xa-f"
      },
      "source": [
        "# Data Visualization"
      ]
    },
    {
      "cell_type": "code",
      "metadata": {
        "id": "4mx4069rxexd"
      },
      "source": [
        ""
      ],
      "execution_count": null,
      "outputs": []
    },
    {
      "cell_type": "markdown",
      "metadata": {
        "id": "36Np3r5qxfV_"
      },
      "source": [
        "## Model Decision"
      ]
    },
    {
      "cell_type": "code",
      "metadata": {
        "id": "m0TwQc-hxjOM"
      },
      "source": [
        ""
      ],
      "execution_count": null,
      "outputs": []
    },
    {
      "cell_type": "markdown",
      "metadata": {
        "id": "RxLCVDK_xj2f"
      },
      "source": [
        "## Prediction"
      ]
    },
    {
      "cell_type": "code",
      "metadata": {
        "id": "Voeuj59OxmgG"
      },
      "source": [
        ""
      ],
      "execution_count": null,
      "outputs": []
    },
    {
      "cell_type": "markdown",
      "metadata": {
        "id": "36Ms9GbVxnNX"
      },
      "source": [
        "## Data Extraction"
      ]
    },
    {
      "cell_type": "code",
      "metadata": {
        "id": "NX5jlBCaxpT8"
      },
      "source": [
        "tdf=pd.read_csv('')"
      ],
      "execution_count": null,
      "outputs": []
    },
    {
      "cell_type": "code",
      "metadata": {
        "id": "CmRwvvRK0zkW"
      },
      "source": [
        "y_test=df.iloc[:,[-1]]\n",
        "x_test=df.drop(y.columns,axis = 1)"
      ],
      "execution_count": null,
      "outputs": []
    }
  ]
}