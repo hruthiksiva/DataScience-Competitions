{
  "nbformat": 4,
  "nbformat_minor": 0,
  "metadata": {
    "colab": {
      "name": "machinedoctorina.ipynb",
      "provenance": [],
      "collapsed_sections": [],
      "include_colab_link": true
    },
    "kernelspec": {
      "name": "python3",
      "display_name": "Python 3"
    }
  },
  "cells": [
    {
      "cell_type": "markdown",
      "metadata": {
        "id": "view-in-github",
        "colab_type": "text"
      },
      "source": [
        "<a href=\"https://colab.research.google.com/github/hruthiksiva/iith-competition/blob/main/machinedoctorina.ipynb\" target=\"_parent\"><img src=\"https://colab.research.google.com/assets/colab-badge.svg\" alt=\"Open In Colab\"/></a>"
      ]
    },
    {
      "cell_type": "markdown",
      "metadata": {
        "id": "gUnrtX0537Q6"
      },
      "source": [
        "## Download"
      ]
    },
    {
      "cell_type": "code",
      "metadata": {
        "colab": {
          "base_uri": "https://localhost:8080/"
        },
        "id": "X7NxyEnJbSp_",
        "outputId": "e6330d98-1eed-4401-abf8-16512b1835b3"
      },
      "source": [
        "!gdown https://drive.google.com/u/0/uc?id=12l8sad60iS5Hd9ZM1LX3JZJeSZ7Qu9dX\n",
        "!unzip -qq \"machina-doctrina.zip\""
      ],
      "execution_count": 1,
      "outputs": [
        {
          "output_type": "stream",
          "text": [
            "Downloading...\n",
            "From: https://drive.google.com/u/0/uc?id=12l8sad60iS5Hd9ZM1LX3JZJeSZ7Qu9dX\n",
            "To: /content/machina-doctrina.zip\n",
            "\r  0% 0.00/269k [00:00<?, ?B/s]\r100% 269k/269k [00:00<00:00, 38.4MB/s]\n"
          ],
          "name": "stdout"
        }
      ]
    },
    {
      "cell_type": "markdown",
      "metadata": {
        "id": "vaox2gGD4Aev"
      },
      "source": [
        "## Imports"
      ]
    },
    {
      "cell_type": "code",
      "metadata": {
        "id": "qc2cL7MOcGw9"
      },
      "source": [
        "import pandas as pd\n",
        "import numpy as np\n",
        "import re"
      ],
      "execution_count": 40,
      "outputs": []
    },
    {
      "cell_type": "markdown",
      "metadata": {
        "id": "8uX4PVdc4D-X"
      },
      "source": [
        "## Data Preprocessing"
      ]
    },
    {
      "cell_type": "code",
      "metadata": {
        "id": "gGeMf2T6cIQF"
      },
      "source": [
        "df = pd.read_csv('TrainDataset.csv')\n",
        "df2 = pd.read_csv('TestDataset.csv')"
      ],
      "execution_count": 41,
      "outputs": []
    },
    {
      "cell_type": "code",
      "metadata": {
        "colab": {
          "base_uri": "https://localhost:8080/",
          "height": 195
        },
        "id": "eW6cj6_qxPKd",
        "outputId": "077d7401-7485-49fe-9000-697688c3366f"
      },
      "source": [
        "df.head()"
      ],
      "execution_count": 42,
      "outputs": [
        {
          "output_type": "execute_result",
          "data": {
            "text/html": [
              "<div>\n",
              "<style scoped>\n",
              "    .dataframe tbody tr th:only-of-type {\n",
              "        vertical-align: middle;\n",
              "    }\n",
              "\n",
              "    .dataframe tbody tr th {\n",
              "        vertical-align: top;\n",
              "    }\n",
              "\n",
              "    .dataframe thead th {\n",
              "        text-align: right;\n",
              "    }\n",
              "</style>\n",
              "<table border=\"1\" class=\"dataframe\">\n",
              "  <thead>\n",
              "    <tr style=\"text-align: right;\">\n",
              "      <th></th>\n",
              "      <th>ID</th>\n",
              "      <th>Parameter-1</th>\n",
              "      <th>Parameter-2</th>\n",
              "      <th>Parameter-3</th>\n",
              "      <th>Parameter-4</th>\n",
              "      <th>Parameter-5</th>\n",
              "      <th>Parameter-6</th>\n",
              "      <th>Parameter-7</th>\n",
              "      <th>Target-1</th>\n",
              "      <th>Target-2</th>\n",
              "      <th>Target-3</th>\n",
              "      <th>Target-4</th>\n",
              "      <th>Target-5</th>\n",
              "    </tr>\n",
              "  </thead>\n",
              "  <tbody>\n",
              "    <tr>\n",
              "      <th>0</th>\n",
              "      <td>1</td>\n",
              "      <td>M14860</td>\n",
              "      <td>M</td>\n",
              "      <td>297.6</td>\n",
              "      <td>309.1</td>\n",
              "      <td>1559</td>\n",
              "      <td>43.6</td>\n",
              "      <td>4</td>\n",
              "      <td>0</td>\n",
              "      <td>0</td>\n",
              "      <td>0</td>\n",
              "      <td>0</td>\n",
              "      <td>0</td>\n",
              "    </tr>\n",
              "    <tr>\n",
              "      <th>1</th>\n",
              "      <td>2</td>\n",
              "      <td>L47181</td>\n",
              "      <td>L</td>\n",
              "      <td>298.4</td>\n",
              "      <td>309.5</td>\n",
              "      <td>1408</td>\n",
              "      <td>46.4</td>\n",
              "      <td>7</td>\n",
              "      <td>0</td>\n",
              "      <td>0</td>\n",
              "      <td>0</td>\n",
              "      <td>0</td>\n",
              "      <td>0</td>\n",
              "    </tr>\n",
              "    <tr>\n",
              "      <th>2</th>\n",
              "      <td>3</td>\n",
              "      <td>L47182</td>\n",
              "      <td>L</td>\n",
              "      <td>298.4</td>\n",
              "      <td>308.7</td>\n",
              "      <td>1505</td>\n",
              "      <td>49.4</td>\n",
              "      <td>8</td>\n",
              "      <td>0</td>\n",
              "      <td>0</td>\n",
              "      <td>0</td>\n",
              "      <td>0</td>\n",
              "      <td>0</td>\n",
              "    </tr>\n",
              "    <tr>\n",
              "      <th>3</th>\n",
              "      <td>4</td>\n",
              "      <td>L47183</td>\n",
              "      <td>L</td>\n",
              "      <td>298.8</td>\n",
              "      <td>308.9</td>\n",
              "      <td>1443</td>\n",
              "      <td>40.3</td>\n",
              "      <td>13</td>\n",
              "      <td>0</td>\n",
              "      <td>0</td>\n",
              "      <td>0</td>\n",
              "      <td>0</td>\n",
              "      <td>0</td>\n",
              "    </tr>\n",
              "    <tr>\n",
              "      <th>4</th>\n",
              "      <td>5</td>\n",
              "      <td>L47184</td>\n",
              "      <td>L</td>\n",
              "      <td>299.7</td>\n",
              "      <td>309.6</td>\n",
              "      <td>1423</td>\n",
              "      <td>40.4</td>\n",
              "      <td>9</td>\n",
              "      <td>0</td>\n",
              "      <td>0</td>\n",
              "      <td>0</td>\n",
              "      <td>0</td>\n",
              "      <td>0</td>\n",
              "    </tr>\n",
              "  </tbody>\n",
              "</table>\n",
              "</div>"
            ],
            "text/plain": [
              "   ID Parameter-1 Parameter-2  ...  Target-3  Target-4  Target-5\n",
              "0   1      M14860           M  ...         0         0         0\n",
              "1   2      L47181           L  ...         0         0         0\n",
              "2   3      L47182           L  ...         0         0         0\n",
              "3   4      L47183           L  ...         0         0         0\n",
              "4   5      L47184           L  ...         0         0         0\n",
              "\n",
              "[5 rows x 13 columns]"
            ]
          },
          "metadata": {
            "tags": []
          },
          "execution_count": 42
        }
      ]
    },
    {
      "cell_type": "code",
      "metadata": {
        "id": "A6CvKtdDdfAd"
      },
      "source": [
        "from pandas.api.types import CategoricalDtype\n",
        "cat_type = CategoricalDtype(categories=[\"L\", \"M\", \"H\"], ordered=True)\n",
        "\n",
        "df['Parameter-1_0'] = df['Parameter-1'].str.slice(start=1).astype(int)\n",
        "df['Parameter-2'] = df['Parameter-2'].astype(cat_type).cat.codes\n",
        "df2['Parameter-1_0'] = df['Parameter-1'].str.slice(start=1).astype(int)\n",
        "df2['Parameter-2'] = df['Parameter-2'].astype(cat_type).cat.codes\n",
        "df=df[['ID', 'Parameter-1', 'Parameter-1_0', 'Parameter-2', 'Parameter-3', 'Parameter-4', 'Parameter-5', 'Parameter-6', 'Parameter-7', 'Target-1', 'Target-2',\n",
        "       'Target-3', 'Target-4', 'Target-5']]\n",
        "df2=df2[['ID', 'Parameter-1', 'Parameter-1_0', 'Parameter-2', 'Parameter-3', 'Parameter-4', 'Parameter-5', 'Parameter-6', 'Parameter-7']]"
      ],
      "execution_count": 43,
      "outputs": []
    },
    {
      "cell_type": "code",
      "metadata": {
        "id": "AX125JVmhq0E"
      },
      "source": [
        "df.to_csv('Train.csv', index=False)\n",
        "df2.to_csv('Test.csv', index=False)"
      ],
      "execution_count": 44,
      "outputs": []
    },
    {
      "cell_type": "code",
      "metadata": {
        "id": "fnH5hxfdh2Bz"
      },
      "source": [
        "df = pd.read_csv('Train.csv')\n",
        "df2 = pd.read_csv('Test.csv')\n",
        "X, y = df[['Parameter-1_0', 'Parameter-2', 'Parameter-3', 'Parameter-4', 'Parameter-5', 'Parameter-6', 'Parameter-7']], df[['Target-1', 'Target-2', 'Target-3', 'Target-4', 'Target-5']]\n",
        "X_ = df2[['Parameter-1_0', 'Parameter-2', 'Parameter-3', 'Parameter-4', 'Parameter-5', 'Parameter-6', 'Parameter-7']]"
      ],
      "execution_count": 45,
      "outputs": []
    },
    {
      "cell_type": "markdown",
      "metadata": {
        "id": "Eg1FQyyy4IR3"
      },
      "source": [
        "## Test Train Split"
      ]
    },
    {
      "cell_type": "code",
      "metadata": {
        "id": "Lvyi168IjOQo"
      },
      "source": [
        "from sklearn.model_selection import train_test_split\n",
        "X_train, X_test, y_train, y_test = train_test_split(X, y, test_size = 0.5, random_state = 0)"
      ],
      "execution_count": 46,
      "outputs": []
    },
    {
      "cell_type": "code",
      "metadata": {
        "id": "Sl8z8C2ojVqP"
      },
      "source": [
        "from sklearn.preprocessing import StandardScaler\n",
        "sc = StandardScaler()\n",
        "X_train = sc.fit_transform(X_train)\n",
        "X_test = sc.transform(X_test)"
      ],
      "execution_count": 47,
      "outputs": []
    },
    {
      "cell_type": "markdown",
      "metadata": {
        "id": "Eq3f0dtI4PTf"
      },
      "source": [
        "## Models"
      ]
    },
    {
      "cell_type": "code",
      "metadata": {
        "id": "-vt2LlkrjphC"
      },
      "source": [
        "from sklearn.multioutput import MultiOutputClassifier\n",
        "from sklearn.metrics import roc_auc_score\n",
        "from sklearn.linear_model import LogisticRegression\n",
        "from sklearn.neighbors import KNeighborsClassifier\n",
        "from sklearn.linear_model import RidgeClassifier\n",
        "from sklearn.ensemble import RandomForestClassifier\n",
        "from xgboost import XGBClassifier\n",
        "\n",
        "clf = MultiOutputClassifier(RidgeClassifier()).fit(X_train, y_train)"
      ],
      "execution_count": 48,
      "outputs": []
    },
    {
      "cell_type": "markdown",
      "metadata": {
        "id": "ntkB383M9Cf2"
      },
      "source": [
        "### SVM"
      ]
    },
    {
      "cell_type": "code",
      "metadata": {
        "id": "jhi-3mk08Evv"
      },
      "source": [
        "from sklearn import svm\r\n",
        "model = svm.SVC(kernel='rbf')\r\n",
        "t1 = model.fit(X_train, y_train.iloc[:,0])\r\n",
        "t1_pred = t1.predict(X_test)\r\n",
        "t2 = model.fit(X_train, y_train.iloc[:,1])\r\n",
        "t2_pred = t2.predict(X_test)\r\n",
        "t3 = model.fit(X_train, y_train.iloc[:,2])\r\n",
        "t3_pred = t3.predict(X_test)\r\n",
        "t4 = model.fit(X_train, y_train.iloc[:,3])\r\n",
        "t4_pred = t4.predict(X_test)\r\n",
        "t5 = model.fit(X_train, y_train.iloc[:,4])\r\n",
        "t5_pred = t5.predict(X_test)"
      ],
      "execution_count": 61,
      "outputs": []
    },
    {
      "cell_type": "markdown",
      "metadata": {
        "id": "9ZJ-erS_7eYf"
      },
      "source": [
        "### Decision Tree"
      ]
    },
    {
      "cell_type": "code",
      "metadata": {
        "id": "_9tdlbSW7iAv"
      },
      "source": [
        "from sklearn import tree\r\n",
        "from sklearn.tree import DecisionTreeClassifier\r\n",
        "model = DecisionTreeClassifier()\r\n",
        "t1 = model.fit(X_train, y_train.iloc[:,0])\r\n",
        "t1_pred = t1.predict(X_test)\r\n",
        "t2 = model.fit(X_train, y_train.iloc[:,1])\r\n",
        "t2_pred = t2.predict(X_test)\r\n",
        "t3 = model.fit(X_train, y_train.iloc[:,2])\r\n",
        "t3_pred = t3.predict(X_test)\r\n",
        "t4 = model.fit(X_train, y_train.iloc[:,3])\r\n",
        "t4_pred = t4.predict(X_test)\r\n",
        "t5 = model.fit(X_train, y_train.iloc[:,4])\r\n",
        "t5_pred = t5.predict(X_test)"
      ],
      "execution_count": 54,
      "outputs": []
    },
    {
      "cell_type": "markdown",
      "metadata": {
        "id": "RnGtLly87TqI"
      },
      "source": [
        "### Random Forest"
      ]
    },
    {
      "cell_type": "code",
      "metadata": {
        "id": "luXs3w6R6OGY"
      },
      "source": [
        "from sklearn.ensemble import RandomForestRegressor\r\n",
        "model = RandomForestRegressor(n_estimators = 100, random_state = 42)\r\n",
        "t1 = model.fit(X_train, y_train.iloc[:,0])\r\n",
        "t1_pred = t1.predict(X_test)\r\n",
        "t2 = model.fit(X_train, y_train.iloc[:,1])\r\n",
        "t2_pred = t2.predict(X_test)\r\n",
        "t3 = model.fit(X_train, y_train.iloc[:,2])\r\n",
        "t3_pred = t3.predict(X_test)\r\n",
        "t4 = model.fit(X_train, y_train.iloc[:,3])\r\n",
        "t4_pred = t4.predict(X_test)\r\n",
        "t5 = model.fit(X_train, y_train.iloc[:,4])\r\n",
        "t5_pred = t5.predict(X_test)"
      ],
      "execution_count": 49,
      "outputs": []
    },
    {
      "cell_type": "markdown",
      "metadata": {
        "id": "tFW-CHne4Q-P"
      },
      "source": [
        "### XG Booster"
      ]
    },
    {
      "cell_type": "code",
      "metadata": {
        "id": "zKMak5F22HoA"
      },
      "source": [
        "from xgboost import XGBClassifier\r\n",
        "model = XGBClassifier()\r\n",
        "t1 = model.fit(X_train, y_train.iloc[:,0])\r\n",
        "t1_pred = t1.predict(X_test)\r\n",
        "t2 = model.fit(X_train, y_train.iloc[:,1])\r\n",
        "t2_pred = t2.predict(X_test)\r\n",
        "t3 = model.fit(X_train, y_train.iloc[:,2])\r\n",
        "t3_pred = t3.predict(X_test)\r\n",
        "t4 = model.fit(X_train, y_train.iloc[:,3])\r\n",
        "t4_pred = t4.predict(X_test)\r\n",
        "t5 = model.fit(X_train, y_train.iloc[:,4])\r\n",
        "t5_pred = t5.predict(X_test)"
      ],
      "execution_count": 27,
      "outputs": []
    },
    {
      "cell_type": "markdown",
      "metadata": {
        "id": "CCPhfphE4Weu"
      },
      "source": [
        "### Gaussian Naive Bayes"
      ]
    },
    {
      "cell_type": "code",
      "metadata": {
        "id": "kVTPYdOS3ZFY"
      },
      "source": [
        "from sklearn.naive_bayes import GaussianNB\r\n",
        "model = GaussianNB()\r\n",
        "t1 = model.fit(X_train, y_train.iloc[:,0])\r\n",
        "t1_pred = t1.predict(X_test)\r\n",
        "t2 = model.fit(X_train, y_train.iloc[:,1])\r\n",
        "t2_pred = t2.predict(X_test)\r\n",
        "t3 = model.fit(X_train, y_train.iloc[:,2])\r\n",
        "t3_pred = t3.predict(X_test)\r\n",
        "t4 = model.fit(X_train, y_train.iloc[:,3])\r\n",
        "t4_pred = t4.predict(X_test)\r\n",
        "t5 = model.fit(X_train, y_train.iloc[:,4])\r\n",
        "t5_pred = t5.predict(X_test)"
      ],
      "execution_count": 51,
      "outputs": []
    },
    {
      "cell_type": "markdown",
      "metadata": {
        "id": "lHt5xU624bHH"
      },
      "source": [
        "### KNN"
      ]
    },
    {
      "cell_type": "code",
      "metadata": {
        "id": "d71M3KvDv15P"
      },
      "source": [
        "t1 = KNeighborsClassifier().fit(X_train, y_train.iloc[:,0])\n",
        "t1_pred = t1.predict(X_test)\n",
        "t2 = KNeighborsClassifier().fit(X_train, y_train.iloc[:,1])\n",
        "t2_pred = t2.predict(X_test)\n",
        "t3 = KNeighborsClassifier().fit(X_train, y_train.iloc[:,2])\n",
        "t3_pred = t3.predict(X_test)\n",
        "t4 = KNeighborsClassifier().fit(X_train, y_train.iloc[:,3])\n",
        "t4_pred = t4.predict(X_test)\n",
        "t5 = KNeighborsClassifier().fit(X_train, y_train.iloc[:,4])\n",
        "t5_pred = t5.predict(X_test)"
      ],
      "execution_count": 31,
      "outputs": []
    },
    {
      "cell_type": "markdown",
      "metadata": {
        "id": "XQZ9a2j04dFu"
      },
      "source": [
        "### RidgeClassifier"
      ]
    },
    {
      "cell_type": "code",
      "metadata": {
        "id": "8xr7OSlIs7jY"
      },
      "source": [
        "t1 = RidgeClassifier().fit(X_train, y_train.iloc[:,0])\n",
        "t1_pred = t1.predict(X_test)\n",
        "t2 = RidgeClassifier().fit(X_train, y_train.iloc[:,1])\n",
        "t2_pred = t2.predict(X_test)\n",
        "t3 = RidgeClassifier().fit(X_train, y_train.iloc[:,2])\n",
        "t3_pred = t3.predict(X_test)\n",
        "t4 = RidgeClassifier().fit(X_train, y_train.iloc[:,3])\n",
        "t4_pred = t4.predict(X_test)\n",
        "t5 = RidgeClassifier().fit(X_train, y_train.iloc[:,4])\n",
        "t5_pred = t5.predict(X_test)"
      ],
      "execution_count": 18,
      "outputs": []
    },
    {
      "cell_type": "markdown",
      "metadata": {
        "id": "sM2alBv84g2O"
      },
      "source": [
        "### Logistic Regression"
      ]
    },
    {
      "cell_type": "code",
      "metadata": {
        "id": "uWqxsJZluuoP"
      },
      "source": [
        "t1 = LogisticRegression().fit(X_train, y_train.iloc[:,0])\n",
        "t1_pred = t1.predict(X_test)\n",
        "t2 = LogisticRegression().fit(X_train, y_train.iloc[:,1])\n",
        "t2_pred = t2.predict(X_test)\n",
        "t3 = LogisticRegression().fit(X_train, y_train.iloc[:,2])\n",
        "t3_pred = t3.predict(X_test)\n",
        "t4 = LogisticRegression().fit(X_train, y_train.iloc[:,3])\n",
        "t4_pred = t4.predict(X_test)\n",
        "t5 = LogisticRegression().fit(X_train, y_train.iloc[:,4])\n",
        "t5_pred = t5.predict(X_test)"
      ],
      "execution_count": 32,
      "outputs": []
    },
    {
      "cell_type": "markdown",
      "metadata": {
        "id": "fJud3tAN48Cf"
      },
      "source": [
        "## RidgeClassifierCV"
      ]
    },
    {
      "cell_type": "code",
      "metadata": {
        "colab": {
          "base_uri": "https://localhost:8080/"
        },
        "id": "0kzY1UDjrEF6",
        "outputId": "7798ed09-53f4-4cbf-dd04-73db00b8510a"
      },
      "source": [
        "from sklearn.linear_model import RidgeClassifierCV\n",
        "clf = RidgeClassifierCV().fit(X, y)\n",
        "roc_auc_score(y, clf.decision_function(X), average=None)"
      ],
      "execution_count": 23,
      "outputs": [
        {
          "output_type": "execute_result",
          "data": {
            "text/plain": [
              "array([0.96670991, 0.94685228, 0.99542177, 0.99186621, 0.73234409])"
            ]
          },
          "metadata": {
            "tags": []
          },
          "execution_count": 23
        }
      ]
    },
    {
      "cell_type": "markdown",
      "metadata": {
        "id": "9N-tJoTk4mq_"
      },
      "source": [
        "## Scoring"
      ]
    },
    {
      "cell_type": "code",
      "metadata": {
        "colab": {
          "base_uri": "https://localhost:8080/"
        },
        "id": "Uz8DPR4LtKUD",
        "outputId": "a6dd1fce-cca2-4c68-e2da-5ac66a66e3ad"
      },
      "source": [
        "p1 = roc_auc_score(y_test.iloc[:,0], t1.predict(X_test))\n",
        "p2 = roc_auc_score(y_test.iloc[:,0], t1.predict(X_test))\n",
        "p3 = roc_auc_score(y_test.iloc[:,0], t1.predict(X_test))\n",
        "p4 = roc_auc_score(y_test.iloc[:,0], t1.predict(X_test))\n",
        "p5 = roc_auc_score(y_test.iloc[:,0], t1.predict(X_test))\n",
        "print(p1,p2,p3,p4,p5)"
      ],
      "execution_count": 62,
      "outputs": [
        {
          "output_type": "stream",
          "text": [
            "0.5 0.5 0.5 0.5 0.5\n"
          ],
          "name": "stdout"
        }
      ]
    },
    {
      "cell_type": "markdown",
      "metadata": {
        "id": "x14qf2TP4rhf"
      },
      "source": [
        "## Ouput"
      ]
    },
    {
      "cell_type": "code",
      "metadata": {
        "id": "lE0U1y9tuIMV"
      },
      "source": [
        "dataset = pd.DataFrame({'ID': df2['ID'], 'Target-1': t1.predict(X_), 'Target-2': t2.predict(X_), 'Target-3': t3.predict(X_), 'Target-4': t4.predict(X_), 'Target-5': t5.predict(X_)}, columns=['ID', 'Target-1', 'Target-2', 'Target-3', 'Target-4', 'Target-5'])\n",
        "dataset.to_csv('submission.csv', index=False)"
      ],
      "execution_count": null,
      "outputs": []
    }
  ]
}