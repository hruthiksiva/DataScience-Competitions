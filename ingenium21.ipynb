{
  "nbformat": 4,
  "nbformat_minor": 0,
  "metadata": {
    "colab": {
      "name": "ingenium21.ipynb",
      "provenance": [],
      "authorship_tag": "ABX9TyOzRattgpmhQoBYVvI44GIl",
      "include_colab_link": true
    },
    "kernelspec": {
      "name": "python3",
      "display_name": "Python 3"
    },
    "language_info": {
      "name": "python"
    }
  },
  "cells": [
    {
      "cell_type": "markdown",
      "metadata": {
        "id": "view-in-github",
        "colab_type": "text"
      },
      "source": [
        "<a href=\"https://colab.research.google.com/github/hruthiksiva/Machine-Learning-Competitions/blob/main/ingenium21.ipynb\" target=\"_parent\"><img src=\"https://colab.research.google.com/assets/colab-badge.svg\" alt=\"Open In Colab\"/></a>"
      ]
    },
    {
      "cell_type": "markdown",
      "metadata": {
        "id": "ZLWcSkuBr8zr"
      },
      "source": [
        "#PreWorks"
      ]
    },
    {
      "cell_type": "code",
      "metadata": {
        "id": "v1-5MhAzlrHF"
      },
      "source": [
        "! mkdir ~/.kaggle\n",
        "! cp kaggle.json ~/.kaggle/\n",
        "! chmod 600 ~/.kaggle/kaggle.json"
      ],
      "execution_count": 1,
      "outputs": []
    },
    {
      "cell_type": "code",
      "metadata": {
        "colab": {
          "base_uri": "https://localhost:8080/"
        },
        "id": "nJra59XrmDXT",
        "outputId": "4c6791db-0894-4ce6-cef0-92c9ede74523"
      },
      "source": [
        "! kaggle competitions download -c ingenium-2021"
      ],
      "execution_count": 2,
      "outputs": [
        {
          "output_type": "stream",
          "text": [
            "Warning: Looks like you're using an outdated API Version, please consider updating (server 1.5.12 / client 1.5.4)\n",
            "Downloading train.csv.zip to /content\n",
            "100% 257M/257M [00:01<00:00, 158MB/s]\n",
            "100% 257M/257M [00:02<00:00, 133MB/s]\n",
            "Downloading sample.csv.zip to /content\n",
            "  0% 0.00/1.13M [00:00<?, ?B/s]\n",
            "100% 1.13M/1.13M [00:00<00:00, 72.8MB/s]\n",
            "Downloading test.csv.zip to /content\n",
            " 86% 11.0M/12.7M [00:00<00:00, 46.2MB/s]\n",
            "100% 12.7M/12.7M [00:00<00:00, 50.4MB/s]\n"
          ],
          "name": "stdout"
        }
      ]
    },
    {
      "cell_type": "code",
      "metadata": {
        "colab": {
          "base_uri": "https://localhost:8080/"
        },
        "id": "DEzWpIFvmGa0",
        "outputId": "2461c678-eead-4f61-da48-40aeb518e977"
      },
      "source": [
        "! unzip /content/train.csv.zip"
      ],
      "execution_count": 3,
      "outputs": [
        {
          "output_type": "stream",
          "text": [
            "Archive:  /content/train.csv.zip\n",
            "  inflating: train.csv               \n"
          ],
          "name": "stdout"
        }
      ]
    },
    {
      "cell_type": "code",
      "metadata": {
        "colab": {
          "base_uri": "https://localhost:8080/"
        },
        "id": "-GV3mdgHmW3P",
        "outputId": "6361a4d9-cfbd-488c-81a4-e15096cd26e5"
      },
      "source": [
        "! unzip /content/test.csv.zip"
      ],
      "execution_count": 4,
      "outputs": [
        {
          "output_type": "stream",
          "text": [
            "Archive:  /content/test.csv.zip\n",
            "  inflating: test.csv                \n"
          ],
          "name": "stdout"
        }
      ]
    },
    {
      "cell_type": "code",
      "metadata": {
        "colab": {
          "base_uri": "https://localhost:8080/"
        },
        "id": "3ZsXL7mImcPb",
        "outputId": "a9267e9a-dd5e-4252-cf8c-038fd7cf6c67"
      },
      "source": [
        "! unzip /content/sample.csv.zip"
      ],
      "execution_count": 5,
      "outputs": [
        {
          "output_type": "stream",
          "text": [
            "Archive:  /content/sample.csv.zip\n",
            "  inflating: sample.csv              \n"
          ],
          "name": "stdout"
        }
      ]
    },
    {
      "cell_type": "markdown",
      "metadata": {
        "id": "bWRTx7hHsCKX"
      },
      "source": [
        "#Imports"
      ]
    },
    {
      "cell_type": "code",
      "metadata": {
        "id": "CMSxHtLmmgFN"
      },
      "source": [
        "import pandas as pd\n",
        "import matplotlib.pyplot as plt"
      ],
      "execution_count": 112,
      "outputs": []
    },
    {
      "cell_type": "markdown",
      "metadata": {
        "id": "42FmNf5asERq"
      },
      "source": [
        "## Data Wrangling"
      ]
    },
    {
      "cell_type": "code",
      "metadata": {
        "id": "lqsq3pafnVZD"
      },
      "source": [
        "df = pd.read_csv('train.csv')"
      ],
      "execution_count": 113,
      "outputs": []
    },
    {
      "cell_type": "code",
      "metadata": {
        "colab": {
          "base_uri": "https://localhost:8080/"
        },
        "id": "MCnJ0dptndEL",
        "outputId": "f178fc17-4829-44a7-aabc-97c6fcb80615"
      },
      "source": [
        "df.head"
      ],
      "execution_count": 114,
      "outputs": [
        {
          "output_type": "execute_result",
          "data": {
            "text/plain": [
              "<bound method NDFrame.head of               id cat0 cat1 cat2  ...    cont11    cont12    cont13    target\n",
              "0              0    A    A    A  ...  0.208745  0.275874  0.528522  8.732636\n",
              "1              1    B    A    A  ...  0.171773  0.295033  0.407631  7.327100\n",
              "2              2    A    A    A  ...  0.691733  0.324420  0.843984  8.252215\n",
              "3              3    A    A    A  ...  0.854779  0.927974  0.341954  8.261217\n",
              "4              4    A    A    B  ...  0.354788  0.580952  0.761909  7.720142\n",
              "...          ...  ...  ...  ...  ...       ...       ...       ...       ...\n",
              "1899995  1999995    B    B    A  ...  0.844630  0.275430  0.806233  8.512034\n",
              "1899996  1999996    A    A    A  ...  0.172143  0.293162  0.824377  6.952436\n",
              "1899997  1999997    A    B    A  ...  0.455238  0.361890  0.270958  7.341946\n",
              "1899998  1999998    A    B    A  ...  0.212444  0.253674  0.482641  9.195865\n",
              "1899999  1999999    A    A    A  ...  0.666144  0.729689  0.714965  6.587907\n",
              "\n",
              "[1900000 rows x 26 columns]>"
            ]
          },
          "metadata": {
            "tags": []
          },
          "execution_count": 114
        }
      ]
    },
    {
      "cell_type": "code",
      "metadata": {
        "id": "SXhaiIVDnlnX"
      },
      "source": [
        "df.shape"
      ],
      "execution_count": null,
      "outputs": []
    },
    {
      "cell_type": "code",
      "metadata": {
        "colab": {
          "base_uri": "https://localhost:8080/"
        },
        "id": "75sReJTMoGW_",
        "outputId": "89afe946-7854-45fe-e12f-54f1beb5227c"
      },
      "source": [
        "df.info()"
      ],
      "execution_count": 115,
      "outputs": [
        {
          "output_type": "stream",
          "text": [
            "<class 'pandas.core.frame.DataFrame'>\n",
            "RangeIndex: 1900000 entries, 0 to 1899999\n",
            "Data columns (total 26 columns):\n",
            " #   Column  Dtype  \n",
            "---  ------  -----  \n",
            " 0   id      int64  \n",
            " 1   cat0    object \n",
            " 2   cat1    object \n",
            " 3   cat2    object \n",
            " 4   cat3    object \n",
            " 5   cat4    object \n",
            " 6   cat5    object \n",
            " 7   cat6    object \n",
            " 8   cat7    object \n",
            " 9   cat8    object \n",
            " 10  cat9    object \n",
            " 11  cont0   float64\n",
            " 12  cont1   float64\n",
            " 13  cont2   float64\n",
            " 14  cont3   float64\n",
            " 15  cont4   float64\n",
            " 16  cont5   float64\n",
            " 17  cont6   float64\n",
            " 18  cont7   float64\n",
            " 19  cont8   float64\n",
            " 20  cont9   float64\n",
            " 21  cont10  float64\n",
            " 22  cont11  float64\n",
            " 23  cont12  float64\n",
            " 24  cont13  float64\n",
            " 25  target  float64\n",
            "dtypes: float64(15), int64(1), object(10)\n",
            "memory usage: 376.9+ MB\n"
          ],
          "name": "stdout"
        }
      ]
    },
    {
      "cell_type": "code",
      "metadata": {
        "id": "1QGx9M82oMDB"
      },
      "source": [
        "df.count()"
      ],
      "execution_count": null,
      "outputs": []
    },
    {
      "cell_type": "code",
      "metadata": {
        "id": "Q44uLKKbodJq"
      },
      "source": [
        "#cat1,2 - a,b\n",
        "#cat3,4,5 - a,b,c,d\n",
        "#cat6 - a,b,c,d,e,g,h,i\n",
        "#cat7 - a,b,c,d,e,f,g,i\n",
        "#cat8 - a,b,c,d,e,f,g\n",
        "#cat9 - a,b,c,d,e,f,g,h,i,j,k,l,m,n,o,\n"
      ],
      "execution_count": 27,
      "outputs": []
    },
    {
      "cell_type": "code",
      "metadata": {
        "colab": {
          "base_uri": "https://localhost:8080/"
        },
        "id": "E9JN1sHIolwA",
        "outputId": "b101998f-6c78-486f-d2ca-edf4facf29cc"
      },
      "source": [
        "df['cont13'].median()"
      ],
      "execution_count": 54,
      "outputs": [
        {
          "output_type": "execute_result",
          "data": {
            "text/plain": [
              "0.4348685330401434"
            ]
          },
          "metadata": {
            "tags": []
          },
          "execution_count": 54
        }
      ]
    },
    {
      "cell_type": "markdown",
      "metadata": {
        "id": "QBSq7ft6r4f-"
      },
      "source": [
        "#Data Manipulation"
      ]
    },
    {
      "cell_type": "code",
      "metadata": {
        "id": "7roou20fwZlU"
      },
      "source": [
        "from sklearn.preprocessing import LabelEncoder"
      ],
      "execution_count": 116,
      "outputs": []
    },
    {
      "cell_type": "code",
      "metadata": {
        "id": "7XlHerNrzTYZ"
      },
      "source": [
        "cat =[ 'cat0', 'cat1', 'cat2', 'cat3', 'cat4', 'cat5', 'cat6', 'cat7',\n",
        "       'cat8', 'cat9']\n",
        "for i in cat:\n",
        "  lb=LabelEncoder()\n",
        "  df[str(i)]= lb.fit_transform(df[str(i)])"
      ],
      "execution_count": 117,
      "outputs": []
    },
    {
      "cell_type": "code",
      "metadata": {
        "id": "l2Vfmss4r7lK"
      },
      "source": [
        "X = df.drop(['id','target'],axis=1)"
      ],
      "execution_count": 118,
      "outputs": []
    },
    {
      "cell_type": "code",
      "metadata": {
        "id": "WYvsRs0cvaDK"
      },
      "source": [
        "y = df['target']"
      ],
      "execution_count": 119,
      "outputs": []
    },
    {
      "cell_type": "code",
      "metadata": {
        "colab": {
          "base_uri": "https://localhost:8080/",
          "height": 422
        },
        "id": "MXCi8sjI1es4",
        "outputId": "524228cd-2e75-4b0d-d0a0-82203d1402a5"
      },
      "source": [
        "X"
      ],
      "execution_count": 120,
      "outputs": [
        {
          "output_type": "execute_result",
          "data": {
            "text/html": [
              "<div>\n",
              "<style scoped>\n",
              "    .dataframe tbody tr th:only-of-type {\n",
              "        vertical-align: middle;\n",
              "    }\n",
              "\n",
              "    .dataframe tbody tr th {\n",
              "        vertical-align: top;\n",
              "    }\n",
              "\n",
              "    .dataframe thead th {\n",
              "        text-align: right;\n",
              "    }\n",
              "</style>\n",
              "<table border=\"1\" class=\"dataframe\">\n",
              "  <thead>\n",
              "    <tr style=\"text-align: right;\">\n",
              "      <th></th>\n",
              "      <th>cat0</th>\n",
              "      <th>cat1</th>\n",
              "      <th>cat2</th>\n",
              "      <th>cat3</th>\n",
              "      <th>cat4</th>\n",
              "      <th>cat5</th>\n",
              "      <th>cat6</th>\n",
              "      <th>cat7</th>\n",
              "      <th>cat8</th>\n",
              "      <th>cat9</th>\n",
              "      <th>cont0</th>\n",
              "      <th>cont1</th>\n",
              "      <th>cont2</th>\n",
              "      <th>cont3</th>\n",
              "      <th>cont4</th>\n",
              "      <th>cont5</th>\n",
              "      <th>cont6</th>\n",
              "      <th>cont7</th>\n",
              "      <th>cont8</th>\n",
              "      <th>cont9</th>\n",
              "      <th>cont10</th>\n",
              "      <th>cont11</th>\n",
              "      <th>cont12</th>\n",
              "      <th>cont13</th>\n",
              "    </tr>\n",
              "  </thead>\n",
              "  <tbody>\n",
              "    <tr>\n",
              "      <th>0</th>\n",
              "      <td>0</td>\n",
              "      <td>0</td>\n",
              "      <td>0</td>\n",
              "      <td>2</td>\n",
              "      <td>1</td>\n",
              "      <td>3</td>\n",
              "      <td>0</td>\n",
              "      <td>4</td>\n",
              "      <td>4</td>\n",
              "      <td>11</td>\n",
              "      <td>0.434166</td>\n",
              "      <td>0.698333</td>\n",
              "      <td>0.448787</td>\n",
              "      <td>0.258211</td>\n",
              "      <td>0.308671</td>\n",
              "      <td>0.377180</td>\n",
              "      <td>0.435142</td>\n",
              "      <td>0.291485</td>\n",
              "      <td>0.440741</td>\n",
              "      <td>0.678576</td>\n",
              "      <td>0.718705</td>\n",
              "      <td>0.208745</td>\n",
              "      <td>0.275874</td>\n",
              "      <td>0.528522</td>\n",
              "    </tr>\n",
              "    <tr>\n",
              "      <th>1</th>\n",
              "      <td>1</td>\n",
              "      <td>0</td>\n",
              "      <td>0</td>\n",
              "      <td>2</td>\n",
              "      <td>1</td>\n",
              "      <td>1</td>\n",
              "      <td>0</td>\n",
              "      <td>4</td>\n",
              "      <td>4</td>\n",
              "      <td>9</td>\n",
              "      <td>0.408423</td>\n",
              "      <td>0.049353</td>\n",
              "      <td>0.491236</td>\n",
              "      <td>0.845736</td>\n",
              "      <td>0.440189</td>\n",
              "      <td>0.308807</td>\n",
              "      <td>0.328776</td>\n",
              "      <td>0.587787</td>\n",
              "      <td>0.903881</td>\n",
              "      <td>0.288583</td>\n",
              "      <td>0.156370</td>\n",
              "      <td>0.171773</td>\n",
              "      <td>0.295033</td>\n",
              "      <td>0.407631</td>\n",
              "    </tr>\n",
              "    <tr>\n",
              "      <th>2</th>\n",
              "      <td>0</td>\n",
              "      <td>0</td>\n",
              "      <td>0</td>\n",
              "      <td>2</td>\n",
              "      <td>1</td>\n",
              "      <td>0</td>\n",
              "      <td>0</td>\n",
              "      <td>4</td>\n",
              "      <td>2</td>\n",
              "      <td>5</td>\n",
              "      <td>0.900501</td>\n",
              "      <td>0.731443</td>\n",
              "      <td>0.137010</td>\n",
              "      <td>0.741679</td>\n",
              "      <td>0.280898</td>\n",
              "      <td>0.210661</td>\n",
              "      <td>0.369343</td>\n",
              "      <td>0.394329</td>\n",
              "      <td>0.210269</td>\n",
              "      <td>0.703522</td>\n",
              "      <td>0.734568</td>\n",
              "      <td>0.691733</td>\n",
              "      <td>0.324420</td>\n",
              "      <td>0.843984</td>\n",
              "    </tr>\n",
              "    <tr>\n",
              "      <th>3</th>\n",
              "      <td>0</td>\n",
              "      <td>0</td>\n",
              "      <td>0</td>\n",
              "      <td>0</td>\n",
              "      <td>1</td>\n",
              "      <td>3</td>\n",
              "      <td>0</td>\n",
              "      <td>4</td>\n",
              "      <td>2</td>\n",
              "      <td>5</td>\n",
              "      <td>0.753012</td>\n",
              "      <td>0.660945</td>\n",
              "      <td>0.211191</td>\n",
              "      <td>0.582455</td>\n",
              "      <td>0.316843</td>\n",
              "      <td>0.768224</td>\n",
              "      <td>0.516847</td>\n",
              "      <td>0.584043</td>\n",
              "      <td>0.857441</td>\n",
              "      <td>0.509919</td>\n",
              "      <td>0.982756</td>\n",
              "      <td>0.854779</td>\n",
              "      <td>0.927974</td>\n",
              "      <td>0.341954</td>\n",
              "    </tr>\n",
              "    <tr>\n",
              "      <th>4</th>\n",
              "      <td>0</td>\n",
              "      <td>0</td>\n",
              "      <td>1</td>\n",
              "      <td>2</td>\n",
              "      <td>1</td>\n",
              "      <td>3</td>\n",
              "      <td>0</td>\n",
              "      <td>4</td>\n",
              "      <td>2</td>\n",
              "      <td>0</td>\n",
              "      <td>0.389538</td>\n",
              "      <td>0.448821</td>\n",
              "      <td>0.393795</td>\n",
              "      <td>0.363326</td>\n",
              "      <td>0.409343</td>\n",
              "      <td>0.383413</td>\n",
              "      <td>0.341963</td>\n",
              "      <td>0.294273</td>\n",
              "      <td>0.149790</td>\n",
              "      <td>0.345550</td>\n",
              "      <td>0.426740</td>\n",
              "      <td>0.354788</td>\n",
              "      <td>0.580952</td>\n",
              "      <td>0.761909</td>\n",
              "    </tr>\n",
              "    <tr>\n",
              "      <th>...</th>\n",
              "      <td>...</td>\n",
              "      <td>...</td>\n",
              "      <td>...</td>\n",
              "      <td>...</td>\n",
              "      <td>...</td>\n",
              "      <td>...</td>\n",
              "      <td>...</td>\n",
              "      <td>...</td>\n",
              "      <td>...</td>\n",
              "      <td>...</td>\n",
              "      <td>...</td>\n",
              "      <td>...</td>\n",
              "      <td>...</td>\n",
              "      <td>...</td>\n",
              "      <td>...</td>\n",
              "      <td>...</td>\n",
              "      <td>...</td>\n",
              "      <td>...</td>\n",
              "      <td>...</td>\n",
              "      <td>...</td>\n",
              "      <td>...</td>\n",
              "      <td>...</td>\n",
              "      <td>...</td>\n",
              "      <td>...</td>\n",
              "    </tr>\n",
              "    <tr>\n",
              "      <th>1899995</th>\n",
              "      <td>1</td>\n",
              "      <td>1</td>\n",
              "      <td>0</td>\n",
              "      <td>0</td>\n",
              "      <td>1</td>\n",
              "      <td>3</td>\n",
              "      <td>0</td>\n",
              "      <td>4</td>\n",
              "      <td>2</td>\n",
              "      <td>0</td>\n",
              "      <td>0.437556</td>\n",
              "      <td>0.483330</td>\n",
              "      <td>0.350243</td>\n",
              "      <td>0.396861</td>\n",
              "      <td>0.646478</td>\n",
              "      <td>0.428831</td>\n",
              "      <td>0.241341</td>\n",
              "      <td>0.334948</td>\n",
              "      <td>0.361396</td>\n",
              "      <td>0.669251</td>\n",
              "      <td>0.356737</td>\n",
              "      <td>0.844630</td>\n",
              "      <td>0.275430</td>\n",
              "      <td>0.806233</td>\n",
              "    </tr>\n",
              "    <tr>\n",
              "      <th>1899996</th>\n",
              "      <td>0</td>\n",
              "      <td>0</td>\n",
              "      <td>0</td>\n",
              "      <td>0</td>\n",
              "      <td>1</td>\n",
              "      <td>3</td>\n",
              "      <td>0</td>\n",
              "      <td>4</td>\n",
              "      <td>6</td>\n",
              "      <td>9</td>\n",
              "      <td>0.608066</td>\n",
              "      <td>0.485474</td>\n",
              "      <td>0.592984</td>\n",
              "      <td>0.252066</td>\n",
              "      <td>0.480557</td>\n",
              "      <td>0.249522</td>\n",
              "      <td>0.308857</td>\n",
              "      <td>0.378773</td>\n",
              "      <td>0.899237</td>\n",
              "      <td>0.574056</td>\n",
              "      <td>0.529357</td>\n",
              "      <td>0.172143</td>\n",
              "      <td>0.293162</td>\n",
              "      <td>0.824377</td>\n",
              "    </tr>\n",
              "    <tr>\n",
              "      <th>1899997</th>\n",
              "      <td>0</td>\n",
              "      <td>1</td>\n",
              "      <td>0</td>\n",
              "      <td>0</td>\n",
              "      <td>1</td>\n",
              "      <td>3</td>\n",
              "      <td>0</td>\n",
              "      <td>4</td>\n",
              "      <td>2</td>\n",
              "      <td>5</td>\n",
              "      <td>0.451425</td>\n",
              "      <td>0.602816</td>\n",
              "      <td>0.956441</td>\n",
              "      <td>0.214850</td>\n",
              "      <td>0.908934</td>\n",
              "      <td>0.317496</td>\n",
              "      <td>0.314189</td>\n",
              "      <td>0.268891</td>\n",
              "      <td>0.525330</td>\n",
              "      <td>0.346405</td>\n",
              "      <td>0.358166</td>\n",
              "      <td>0.455238</td>\n",
              "      <td>0.361890</td>\n",
              "      <td>0.270958</td>\n",
              "    </tr>\n",
              "    <tr>\n",
              "      <th>1899998</th>\n",
              "      <td>0</td>\n",
              "      <td>1</td>\n",
              "      <td>0</td>\n",
              "      <td>2</td>\n",
              "      <td>1</td>\n",
              "      <td>1</td>\n",
              "      <td>0</td>\n",
              "      <td>4</td>\n",
              "      <td>4</td>\n",
              "      <td>11</td>\n",
              "      <td>0.334940</td>\n",
              "      <td>0.113325</td>\n",
              "      <td>0.359515</td>\n",
              "      <td>0.230252</td>\n",
              "      <td>0.321549</td>\n",
              "      <td>0.245396</td>\n",
              "      <td>0.407010</td>\n",
              "      <td>0.279720</td>\n",
              "      <td>0.381708</td>\n",
              "      <td>0.263731</td>\n",
              "      <td>0.509874</td>\n",
              "      <td>0.212444</td>\n",
              "      <td>0.253674</td>\n",
              "      <td>0.482641</td>\n",
              "    </tr>\n",
              "    <tr>\n",
              "      <th>1899999</th>\n",
              "      <td>0</td>\n",
              "      <td>0</td>\n",
              "      <td>0</td>\n",
              "      <td>0</td>\n",
              "      <td>0</td>\n",
              "      <td>2</td>\n",
              "      <td>0</td>\n",
              "      <td>4</td>\n",
              "      <td>6</td>\n",
              "      <td>7</td>\n",
              "      <td>0.704167</td>\n",
              "      <td>0.476205</td>\n",
              "      <td>0.146135</td>\n",
              "      <td>0.189408</td>\n",
              "      <td>0.423332</td>\n",
              "      <td>0.680492</td>\n",
              "      <td>0.272422</td>\n",
              "      <td>0.494691</td>\n",
              "      <td>0.676714</td>\n",
              "      <td>0.621708</td>\n",
              "      <td>0.520528</td>\n",
              "      <td>0.666144</td>\n",
              "      <td>0.729689</td>\n",
              "      <td>0.714965</td>\n",
              "    </tr>\n",
              "  </tbody>\n",
              "</table>\n",
              "<p>1900000 rows × 24 columns</p>\n",
              "</div>"
            ],
            "text/plain": [
              "         cat0  cat1  cat2  cat3  ...    cont10    cont11    cont12    cont13\n",
              "0           0     0     0     2  ...  0.718705  0.208745  0.275874  0.528522\n",
              "1           1     0     0     2  ...  0.156370  0.171773  0.295033  0.407631\n",
              "2           0     0     0     2  ...  0.734568  0.691733  0.324420  0.843984\n",
              "3           0     0     0     0  ...  0.982756  0.854779  0.927974  0.341954\n",
              "4           0     0     1     2  ...  0.426740  0.354788  0.580952  0.761909\n",
              "...       ...   ...   ...   ...  ...       ...       ...       ...       ...\n",
              "1899995     1     1     0     0  ...  0.356737  0.844630  0.275430  0.806233\n",
              "1899996     0     0     0     0  ...  0.529357  0.172143  0.293162  0.824377\n",
              "1899997     0     1     0     0  ...  0.358166  0.455238  0.361890  0.270958\n",
              "1899998     0     1     0     2  ...  0.509874  0.212444  0.253674  0.482641\n",
              "1899999     0     0     0     0  ...  0.520528  0.666144  0.729689  0.714965\n",
              "\n",
              "[1900000 rows x 24 columns]"
            ]
          },
          "metadata": {
            "tags": []
          },
          "execution_count": 120
        }
      ]
    },
    {
      "cell_type": "markdown",
      "metadata": {
        "id": "h5kCgDMstCMq"
      },
      "source": [
        "#Test Train Split"
      ]
    },
    {
      "cell_type": "code",
      "metadata": {
        "id": "fBQbfC0DtEG6"
      },
      "source": [
        "from sklearn.model_selection import train_test_split\n",
        "X_train, X_test, y_train, y_test = train_test_split(X, y, test_size = 0.7, random_state = 0)"
      ],
      "execution_count": 121,
      "outputs": []
    },
    {
      "cell_type": "markdown",
      "metadata": {
        "id": "8QvvaqoAsMMq"
      },
      "source": [
        "## Train Models"
      ]
    },
    {
      "cell_type": "markdown",
      "metadata": {
        "id": "owobzlQKt4Uq"
      },
      "source": [
        "##Decision Tree"
      ]
    },
    {
      "cell_type": "code",
      "metadata": {
        "id": "AgmiXkY6sLtq"
      },
      "source": [
        "from sklearn.tree import DecisionTreeRegressor"
      ],
      "execution_count": 61,
      "outputs": []
    },
    {
      "cell_type": "code",
      "metadata": {
        "colab": {
          "base_uri": "https://localhost:8080/",
          "height": 350
        },
        "id": "sxwR-TmyuCkZ",
        "outputId": "c6b7a002-e423-4e3d-c054-96f7a1c203bb"
      },
      "source": [
        "model = DecisionTreeRegressor()\n",
        "model.fit(X_train,y_train)\n",
        "y_pred=model.predict(X_train)"
      ],
      "execution_count": 64,
      "outputs": [
        {
          "output_type": "error",
          "ename": "ValueError",
          "evalue": "ignored",
          "traceback": [
            "\u001b[0;31m---------------------------------------------------------------------------\u001b[0m",
            "\u001b[0;31mValueError\u001b[0m                                Traceback (most recent call last)",
            "\u001b[0;32m<ipython-input-64-f954dc3a5e0c>\u001b[0m in \u001b[0;36m<module>\u001b[0;34m()\u001b[0m\n\u001b[1;32m      1\u001b[0m \u001b[0mmodel\u001b[0m \u001b[0;34m=\u001b[0m \u001b[0mDecisionTreeRegressor\u001b[0m\u001b[0;34m(\u001b[0m\u001b[0;34m)\u001b[0m\u001b[0;34m\u001b[0m\u001b[0;34m\u001b[0m\u001b[0m\n\u001b[0;32m----> 2\u001b[0;31m \u001b[0mmodel\u001b[0m\u001b[0;34m.\u001b[0m\u001b[0mfit\u001b[0m\u001b[0;34m(\u001b[0m\u001b[0mX_train\u001b[0m\u001b[0;34m,\u001b[0m\u001b[0my_train\u001b[0m\u001b[0;34m)\u001b[0m\u001b[0;34m\u001b[0m\u001b[0;34m\u001b[0m\u001b[0m\n\u001b[0m\u001b[1;32m      3\u001b[0m \u001b[0my_pred\u001b[0m\u001b[0;34m=\u001b[0m\u001b[0mmodel\u001b[0m\u001b[0;34m.\u001b[0m\u001b[0mpredict\u001b[0m\u001b[0;34m(\u001b[0m\u001b[0mX_train\u001b[0m\u001b[0;34m)\u001b[0m\u001b[0;34m\u001b[0m\u001b[0;34m\u001b[0m\u001b[0m\n",
            "\u001b[0;32m/usr/local/lib/python3.7/dist-packages/sklearn/tree/_classes.py\u001b[0m in \u001b[0;36mfit\u001b[0;34m(self, X, y, sample_weight, check_input, X_idx_sorted)\u001b[0m\n\u001b[1;32m   1223\u001b[0m             \u001b[0msample_weight\u001b[0m\u001b[0;34m=\u001b[0m\u001b[0msample_weight\u001b[0m\u001b[0;34m,\u001b[0m\u001b[0;34m\u001b[0m\u001b[0;34m\u001b[0m\u001b[0m\n\u001b[1;32m   1224\u001b[0m             \u001b[0mcheck_input\u001b[0m\u001b[0;34m=\u001b[0m\u001b[0mcheck_input\u001b[0m\u001b[0;34m,\u001b[0m\u001b[0;34m\u001b[0m\u001b[0;34m\u001b[0m\u001b[0m\n\u001b[0;32m-> 1225\u001b[0;31m             X_idx_sorted=X_idx_sorted)\n\u001b[0m\u001b[1;32m   1226\u001b[0m         \u001b[0;32mreturn\u001b[0m \u001b[0mself\u001b[0m\u001b[0;34m\u001b[0m\u001b[0;34m\u001b[0m\u001b[0m\n\u001b[1;32m   1227\u001b[0m \u001b[0;34m\u001b[0m\u001b[0m\n",
            "\u001b[0;32m/usr/local/lib/python3.7/dist-packages/sklearn/tree/_classes.py\u001b[0m in \u001b[0;36mfit\u001b[0;34m(self, X, y, sample_weight, check_input, X_idx_sorted)\u001b[0m\n\u001b[1;32m    147\u001b[0m \u001b[0;34m\u001b[0m\u001b[0m\n\u001b[1;32m    148\u001b[0m         \u001b[0;32mif\u001b[0m \u001b[0mcheck_input\u001b[0m\u001b[0;34m:\u001b[0m\u001b[0;34m\u001b[0m\u001b[0;34m\u001b[0m\u001b[0m\n\u001b[0;32m--> 149\u001b[0;31m             \u001b[0mX\u001b[0m \u001b[0;34m=\u001b[0m \u001b[0mcheck_array\u001b[0m\u001b[0;34m(\u001b[0m\u001b[0mX\u001b[0m\u001b[0;34m,\u001b[0m \u001b[0mdtype\u001b[0m\u001b[0;34m=\u001b[0m\u001b[0mDTYPE\u001b[0m\u001b[0;34m,\u001b[0m \u001b[0maccept_sparse\u001b[0m\u001b[0;34m=\u001b[0m\u001b[0;34m\"csc\"\u001b[0m\u001b[0;34m)\u001b[0m\u001b[0;34m\u001b[0m\u001b[0;34m\u001b[0m\u001b[0m\n\u001b[0m\u001b[1;32m    150\u001b[0m             \u001b[0my\u001b[0m \u001b[0;34m=\u001b[0m \u001b[0mcheck_array\u001b[0m\u001b[0;34m(\u001b[0m\u001b[0my\u001b[0m\u001b[0;34m,\u001b[0m \u001b[0mensure_2d\u001b[0m\u001b[0;34m=\u001b[0m\u001b[0;32mFalse\u001b[0m\u001b[0;34m,\u001b[0m \u001b[0mdtype\u001b[0m\u001b[0;34m=\u001b[0m\u001b[0;32mNone\u001b[0m\u001b[0;34m)\u001b[0m\u001b[0;34m\u001b[0m\u001b[0;34m\u001b[0m\u001b[0m\n\u001b[1;32m    151\u001b[0m             \u001b[0;32mif\u001b[0m \u001b[0missparse\u001b[0m\u001b[0;34m(\u001b[0m\u001b[0mX\u001b[0m\u001b[0;34m)\u001b[0m\u001b[0;34m:\u001b[0m\u001b[0;34m\u001b[0m\u001b[0;34m\u001b[0m\u001b[0m\n",
            "\u001b[0;32m/usr/local/lib/python3.7/dist-packages/sklearn/utils/validation.py\u001b[0m in \u001b[0;36mcheck_array\u001b[0;34m(array, accept_sparse, accept_large_sparse, dtype, order, copy, force_all_finite, ensure_2d, allow_nd, ensure_min_samples, ensure_min_features, warn_on_dtype, estimator)\u001b[0m\n\u001b[1;32m    529\u001b[0m                     \u001b[0marray\u001b[0m \u001b[0;34m=\u001b[0m \u001b[0marray\u001b[0m\u001b[0;34m.\u001b[0m\u001b[0mastype\u001b[0m\u001b[0;34m(\u001b[0m\u001b[0mdtype\u001b[0m\u001b[0;34m,\u001b[0m \u001b[0mcasting\u001b[0m\u001b[0;34m=\u001b[0m\u001b[0;34m\"unsafe\"\u001b[0m\u001b[0;34m,\u001b[0m \u001b[0mcopy\u001b[0m\u001b[0;34m=\u001b[0m\u001b[0;32mFalse\u001b[0m\u001b[0;34m)\u001b[0m\u001b[0;34m\u001b[0m\u001b[0;34m\u001b[0m\u001b[0m\n\u001b[1;32m    530\u001b[0m                 \u001b[0;32melse\u001b[0m\u001b[0;34m:\u001b[0m\u001b[0;34m\u001b[0m\u001b[0;34m\u001b[0m\u001b[0m\n\u001b[0;32m--> 531\u001b[0;31m                     \u001b[0marray\u001b[0m \u001b[0;34m=\u001b[0m \u001b[0mnp\u001b[0m\u001b[0;34m.\u001b[0m\u001b[0masarray\u001b[0m\u001b[0;34m(\u001b[0m\u001b[0marray\u001b[0m\u001b[0;34m,\u001b[0m \u001b[0morder\u001b[0m\u001b[0;34m=\u001b[0m\u001b[0morder\u001b[0m\u001b[0;34m,\u001b[0m \u001b[0mdtype\u001b[0m\u001b[0;34m=\u001b[0m\u001b[0mdtype\u001b[0m\u001b[0;34m)\u001b[0m\u001b[0;34m\u001b[0m\u001b[0;34m\u001b[0m\u001b[0m\n\u001b[0m\u001b[1;32m    532\u001b[0m             \u001b[0;32mexcept\u001b[0m \u001b[0mComplexWarning\u001b[0m\u001b[0;34m:\u001b[0m\u001b[0;34m\u001b[0m\u001b[0;34m\u001b[0m\u001b[0m\n\u001b[1;32m    533\u001b[0m                 raise ValueError(\"Complex data not supported\\n\"\n",
            "\u001b[0;32m/usr/local/lib/python3.7/dist-packages/numpy/core/_asarray.py\u001b[0m in \u001b[0;36masarray\u001b[0;34m(a, dtype, order)\u001b[0m\n\u001b[1;32m     81\u001b[0m \u001b[0;34m\u001b[0m\u001b[0m\n\u001b[1;32m     82\u001b[0m     \"\"\"\n\u001b[0;32m---> 83\u001b[0;31m     \u001b[0;32mreturn\u001b[0m \u001b[0marray\u001b[0m\u001b[0;34m(\u001b[0m\u001b[0ma\u001b[0m\u001b[0;34m,\u001b[0m \u001b[0mdtype\u001b[0m\u001b[0;34m,\u001b[0m \u001b[0mcopy\u001b[0m\u001b[0;34m=\u001b[0m\u001b[0;32mFalse\u001b[0m\u001b[0;34m,\u001b[0m \u001b[0morder\u001b[0m\u001b[0;34m=\u001b[0m\u001b[0morder\u001b[0m\u001b[0;34m)\u001b[0m\u001b[0;34m\u001b[0m\u001b[0;34m\u001b[0m\u001b[0m\n\u001b[0m\u001b[1;32m     84\u001b[0m \u001b[0;34m\u001b[0m\u001b[0m\n\u001b[1;32m     85\u001b[0m \u001b[0;34m\u001b[0m\u001b[0m\n",
            "\u001b[0;32m/usr/local/lib/python3.7/dist-packages/pandas/core/generic.py\u001b[0m in \u001b[0;36m__array__\u001b[0;34m(self, dtype)\u001b[0m\n\u001b[1;32m   1779\u001b[0m \u001b[0;34m\u001b[0m\u001b[0m\n\u001b[1;32m   1780\u001b[0m     \u001b[0;32mdef\u001b[0m \u001b[0m__array__\u001b[0m\u001b[0;34m(\u001b[0m\u001b[0mself\u001b[0m\u001b[0;34m,\u001b[0m \u001b[0mdtype\u001b[0m\u001b[0;34m=\u001b[0m\u001b[0;32mNone\u001b[0m\u001b[0;34m)\u001b[0m \u001b[0;34m->\u001b[0m \u001b[0mnp\u001b[0m\u001b[0;34m.\u001b[0m\u001b[0mndarray\u001b[0m\u001b[0;34m:\u001b[0m\u001b[0;34m\u001b[0m\u001b[0;34m\u001b[0m\u001b[0m\n\u001b[0;32m-> 1781\u001b[0;31m         \u001b[0;32mreturn\u001b[0m \u001b[0mnp\u001b[0m\u001b[0;34m.\u001b[0m\u001b[0masarray\u001b[0m\u001b[0;34m(\u001b[0m\u001b[0mself\u001b[0m\u001b[0;34m.\u001b[0m\u001b[0m_values\u001b[0m\u001b[0;34m,\u001b[0m \u001b[0mdtype\u001b[0m\u001b[0;34m=\u001b[0m\u001b[0mdtype\u001b[0m\u001b[0;34m)\u001b[0m\u001b[0;34m\u001b[0m\u001b[0;34m\u001b[0m\u001b[0m\n\u001b[0m\u001b[1;32m   1782\u001b[0m \u001b[0;34m\u001b[0m\u001b[0m\n\u001b[1;32m   1783\u001b[0m     \u001b[0;32mdef\u001b[0m \u001b[0m__array_wrap__\u001b[0m\u001b[0;34m(\u001b[0m\u001b[0mself\u001b[0m\u001b[0;34m,\u001b[0m \u001b[0mresult\u001b[0m\u001b[0;34m,\u001b[0m \u001b[0mcontext\u001b[0m\u001b[0;34m=\u001b[0m\u001b[0;32mNone\u001b[0m\u001b[0;34m)\u001b[0m\u001b[0;34m:\u001b[0m\u001b[0;34m\u001b[0m\u001b[0;34m\u001b[0m\u001b[0m\n",
            "\u001b[0;32m/usr/local/lib/python3.7/dist-packages/numpy/core/_asarray.py\u001b[0m in \u001b[0;36masarray\u001b[0;34m(a, dtype, order)\u001b[0m\n\u001b[1;32m     81\u001b[0m \u001b[0;34m\u001b[0m\u001b[0m\n\u001b[1;32m     82\u001b[0m     \"\"\"\n\u001b[0;32m---> 83\u001b[0;31m     \u001b[0;32mreturn\u001b[0m \u001b[0marray\u001b[0m\u001b[0;34m(\u001b[0m\u001b[0ma\u001b[0m\u001b[0;34m,\u001b[0m \u001b[0mdtype\u001b[0m\u001b[0;34m,\u001b[0m \u001b[0mcopy\u001b[0m\u001b[0;34m=\u001b[0m\u001b[0;32mFalse\u001b[0m\u001b[0;34m,\u001b[0m \u001b[0morder\u001b[0m\u001b[0;34m=\u001b[0m\u001b[0morder\u001b[0m\u001b[0;34m)\u001b[0m\u001b[0;34m\u001b[0m\u001b[0;34m\u001b[0m\u001b[0m\n\u001b[0m\u001b[1;32m     84\u001b[0m \u001b[0;34m\u001b[0m\u001b[0m\n\u001b[1;32m     85\u001b[0m \u001b[0;34m\u001b[0m\u001b[0m\n",
            "\u001b[0;31mValueError\u001b[0m: could not convert string to float: 'B'"
          ]
        }
      ]
    },
    {
      "cell_type": "markdown",
      "metadata": {
        "id": "a4tnDB6nyXh7"
      },
      "source": [
        "##XGBooster"
      ]
    },
    {
      "cell_type": "code",
      "metadata": {
        "id": "CLPkEhNnybhA"
      },
      "source": [
        "from xgboost import XGBRegressor"
      ],
      "execution_count": 122,
      "outputs": []
    },
    {
      "cell_type": "code",
      "metadata": {
        "colab": {
          "base_uri": "https://localhost:8080/"
        },
        "id": "EDG9RfFJyoEI",
        "outputId": "e359bfce-4297-499e-ad25-1e689a542322"
      },
      "source": [
        "model = XGBRegressor()\n",
        "model.fit(X_train,y_train)\n",
        "y_pred=model.predict(X_test)"
      ],
      "execution_count": 123,
      "outputs": [
        {
          "output_type": "stream",
          "text": [
            "[20:11:24] WARNING: /workspace/src/objective/regression_obj.cu:152: reg:linear is now deprecated in favor of reg:squarederror.\n"
          ],
          "name": "stdout"
        }
      ]
    },
    {
      "cell_type": "code",
      "metadata": {
        "colab": {
          "base_uri": "https://localhost:8080/"
        },
        "id": "HI5XlvOl3ONJ",
        "outputId": "cb1cdcf0-926d-4314-8eeb-865461bb93fe"
      },
      "source": [
        "y_pred"
      ],
      "execution_count": 105,
      "outputs": [
        {
          "output_type": "execute_result",
          "data": {
            "text/plain": [
              "array([1143733.  ,  990980.1 ,  876983.1 , ...,  665081.94,  924195.25,\n",
              "        905723.06], dtype=float32)"
            ]
          },
          "metadata": {
            "tags": []
          },
          "execution_count": 105
        }
      ]
    },
    {
      "cell_type": "markdown",
      "metadata": {
        "id": "oBMW-jJAsoaq"
      },
      "source": [
        "#Prediction"
      ]
    },
    {
      "cell_type": "code",
      "metadata": {
        "id": "ugD7w1oDs4KR"
      },
      "source": [
        "from sklearn.metrics import mean_squared_error\n",
        "from math import sqrt"
      ],
      "execution_count": 124,
      "outputs": []
    },
    {
      "cell_type": "code",
      "metadata": {
        "colab": {
          "base_uri": "https://localhost:8080/"
        },
        "id": "PFohZV-Hsq4o",
        "outputId": "3664901c-305c-4c3d-97b0-74e7433b4764"
      },
      "source": [
        "mse = mean_squared_error(y_test, y_pred)\n",
        "\n",
        "rmse = sqrt(mse)\n",
        "\n",
        "print(rmse)"
      ],
      "execution_count": 125,
      "outputs": [
        {
          "output_type": "stream",
          "text": [
            "0.8890179036695288\n"
          ],
          "name": "stdout"
        }
      ]
    },
    {
      "cell_type": "markdown",
      "metadata": {
        "id": "PPuAFJgstpzy"
      },
      "source": [
        "# Test Data Process"
      ]
    },
    {
      "cell_type": "code",
      "metadata": {
        "id": "p7P-ghe_7m3Y"
      },
      "source": [
        "result = pd.read_csv('test.csv')"
      ],
      "execution_count": 136,
      "outputs": []
    },
    {
      "cell_type": "code",
      "metadata": {
        "colab": {
          "base_uri": "https://localhost:8080/",
          "height": 167
        },
        "id": "CEVRgl6i7s3o",
        "outputId": "8d13cd4a-2f4b-431a-f034-553860d9ab19"
      },
      "source": [
        "result.shape()"
      ],
      "execution_count": 138,
      "outputs": [
        {
          "output_type": "error",
          "ename": "TypeError",
          "evalue": "ignored",
          "traceback": [
            "\u001b[0;31m---------------------------------------------------------------------------\u001b[0m",
            "\u001b[0;31mTypeError\u001b[0m                                 Traceback (most recent call last)",
            "\u001b[0;32m<ipython-input-138-55b1e859a1f9>\u001b[0m in \u001b[0;36m<module>\u001b[0;34m()\u001b[0m\n\u001b[0;32m----> 1\u001b[0;31m \u001b[0mresult\u001b[0m\u001b[0;34m.\u001b[0m\u001b[0mshape\u001b[0m\u001b[0;34m(\u001b[0m\u001b[0;34m)\u001b[0m\u001b[0;34m\u001b[0m\u001b[0;34m\u001b[0m\u001b[0m\n\u001b[0m",
            "\u001b[0;31mTypeError\u001b[0m: 'tuple' object is not callable"
          ]
        }
      ]
    },
    {
      "cell_type": "code",
      "metadata": {
        "colab": {
          "base_uri": "https://localhost:8080/",
          "height": 332
        },
        "id": "xppihY4I72aw",
        "outputId": "d3b91d67-010f-46fe-b12a-d6e0a993ebc4"
      },
      "source": [
        "Xt = result.drop(['id','target'],axis=1)\n",
        "yt = result['target']"
      ],
      "execution_count": 135,
      "outputs": [
        {
          "output_type": "error",
          "ename": "KeyError",
          "evalue": "ignored",
          "traceback": [
            "\u001b[0;31m---------------------------------------------------------------------------\u001b[0m",
            "\u001b[0;31mKeyError\u001b[0m                                  Traceback (most recent call last)",
            "\u001b[0;32m<ipython-input-135-a98552d75e59>\u001b[0m in \u001b[0;36m<module>\u001b[0;34m()\u001b[0m\n\u001b[0;32m----> 1\u001b[0;31m \u001b[0mXt\u001b[0m \u001b[0;34m=\u001b[0m \u001b[0mresult\u001b[0m\u001b[0;34m.\u001b[0m\u001b[0mdrop\u001b[0m\u001b[0;34m(\u001b[0m\u001b[0;34m[\u001b[0m\u001b[0;34m'id'\u001b[0m\u001b[0;34m,\u001b[0m\u001b[0;34m'target'\u001b[0m\u001b[0;34m]\u001b[0m\u001b[0;34m,\u001b[0m\u001b[0maxis\u001b[0m\u001b[0;34m=\u001b[0m\u001b[0;36m1\u001b[0m\u001b[0;34m)\u001b[0m\u001b[0;34m\u001b[0m\u001b[0;34m\u001b[0m\u001b[0m\n\u001b[0m\u001b[1;32m      2\u001b[0m \u001b[0myt\u001b[0m \u001b[0;34m=\u001b[0m \u001b[0mresult\u001b[0m\u001b[0;34m[\u001b[0m\u001b[0;34m'target'\u001b[0m\u001b[0;34m]\u001b[0m\u001b[0;34m\u001b[0m\u001b[0;34m\u001b[0m\u001b[0m\n",
            "\u001b[0;32m/usr/local/lib/python3.7/dist-packages/pandas/core/frame.py\u001b[0m in \u001b[0;36mdrop\u001b[0;34m(self, labels, axis, index, columns, level, inplace, errors)\u001b[0m\n\u001b[1;32m   4172\u001b[0m             \u001b[0mlevel\u001b[0m\u001b[0;34m=\u001b[0m\u001b[0mlevel\u001b[0m\u001b[0;34m,\u001b[0m\u001b[0;34m\u001b[0m\u001b[0;34m\u001b[0m\u001b[0m\n\u001b[1;32m   4173\u001b[0m             \u001b[0minplace\u001b[0m\u001b[0;34m=\u001b[0m\u001b[0minplace\u001b[0m\u001b[0;34m,\u001b[0m\u001b[0;34m\u001b[0m\u001b[0;34m\u001b[0m\u001b[0m\n\u001b[0;32m-> 4174\u001b[0;31m             \u001b[0merrors\u001b[0m\u001b[0;34m=\u001b[0m\u001b[0merrors\u001b[0m\u001b[0;34m,\u001b[0m\u001b[0;34m\u001b[0m\u001b[0;34m\u001b[0m\u001b[0m\n\u001b[0m\u001b[1;32m   4175\u001b[0m         )\n\u001b[1;32m   4176\u001b[0m \u001b[0;34m\u001b[0m\u001b[0m\n",
            "\u001b[0;32m/usr/local/lib/python3.7/dist-packages/pandas/core/generic.py\u001b[0m in \u001b[0;36mdrop\u001b[0;34m(self, labels, axis, index, columns, level, inplace, errors)\u001b[0m\n\u001b[1;32m   3887\u001b[0m         \u001b[0;32mfor\u001b[0m \u001b[0maxis\u001b[0m\u001b[0;34m,\u001b[0m \u001b[0mlabels\u001b[0m \u001b[0;32min\u001b[0m \u001b[0maxes\u001b[0m\u001b[0;34m.\u001b[0m\u001b[0mitems\u001b[0m\u001b[0;34m(\u001b[0m\u001b[0;34m)\u001b[0m\u001b[0;34m:\u001b[0m\u001b[0;34m\u001b[0m\u001b[0;34m\u001b[0m\u001b[0m\n\u001b[1;32m   3888\u001b[0m             \u001b[0;32mif\u001b[0m \u001b[0mlabels\u001b[0m \u001b[0;32mis\u001b[0m \u001b[0;32mnot\u001b[0m \u001b[0;32mNone\u001b[0m\u001b[0;34m:\u001b[0m\u001b[0;34m\u001b[0m\u001b[0;34m\u001b[0m\u001b[0m\n\u001b[0;32m-> 3889\u001b[0;31m                 \u001b[0mobj\u001b[0m \u001b[0;34m=\u001b[0m \u001b[0mobj\u001b[0m\u001b[0;34m.\u001b[0m\u001b[0m_drop_axis\u001b[0m\u001b[0;34m(\u001b[0m\u001b[0mlabels\u001b[0m\u001b[0;34m,\u001b[0m \u001b[0maxis\u001b[0m\u001b[0;34m,\u001b[0m \u001b[0mlevel\u001b[0m\u001b[0;34m=\u001b[0m\u001b[0mlevel\u001b[0m\u001b[0;34m,\u001b[0m \u001b[0merrors\u001b[0m\u001b[0;34m=\u001b[0m\u001b[0merrors\u001b[0m\u001b[0;34m)\u001b[0m\u001b[0;34m\u001b[0m\u001b[0;34m\u001b[0m\u001b[0m\n\u001b[0m\u001b[1;32m   3890\u001b[0m \u001b[0;34m\u001b[0m\u001b[0m\n\u001b[1;32m   3891\u001b[0m         \u001b[0;32mif\u001b[0m \u001b[0minplace\u001b[0m\u001b[0;34m:\u001b[0m\u001b[0;34m\u001b[0m\u001b[0;34m\u001b[0m\u001b[0m\n",
            "\u001b[0;32m/usr/local/lib/python3.7/dist-packages/pandas/core/generic.py\u001b[0m in \u001b[0;36m_drop_axis\u001b[0;34m(self, labels, axis, level, errors)\u001b[0m\n\u001b[1;32m   3921\u001b[0m                 \u001b[0mnew_axis\u001b[0m \u001b[0;34m=\u001b[0m \u001b[0maxis\u001b[0m\u001b[0;34m.\u001b[0m\u001b[0mdrop\u001b[0m\u001b[0;34m(\u001b[0m\u001b[0mlabels\u001b[0m\u001b[0;34m,\u001b[0m \u001b[0mlevel\u001b[0m\u001b[0;34m=\u001b[0m\u001b[0mlevel\u001b[0m\u001b[0;34m,\u001b[0m \u001b[0merrors\u001b[0m\u001b[0;34m=\u001b[0m\u001b[0merrors\u001b[0m\u001b[0;34m)\u001b[0m\u001b[0;34m\u001b[0m\u001b[0;34m\u001b[0m\u001b[0m\n\u001b[1;32m   3922\u001b[0m             \u001b[0;32melse\u001b[0m\u001b[0;34m:\u001b[0m\u001b[0;34m\u001b[0m\u001b[0;34m\u001b[0m\u001b[0m\n\u001b[0;32m-> 3923\u001b[0;31m                 \u001b[0mnew_axis\u001b[0m \u001b[0;34m=\u001b[0m \u001b[0maxis\u001b[0m\u001b[0;34m.\u001b[0m\u001b[0mdrop\u001b[0m\u001b[0;34m(\u001b[0m\u001b[0mlabels\u001b[0m\u001b[0;34m,\u001b[0m \u001b[0merrors\u001b[0m\u001b[0;34m=\u001b[0m\u001b[0merrors\u001b[0m\u001b[0;34m)\u001b[0m\u001b[0;34m\u001b[0m\u001b[0;34m\u001b[0m\u001b[0m\n\u001b[0m\u001b[1;32m   3924\u001b[0m             \u001b[0mresult\u001b[0m \u001b[0;34m=\u001b[0m \u001b[0mself\u001b[0m\u001b[0;34m.\u001b[0m\u001b[0mreindex\u001b[0m\u001b[0;34m(\u001b[0m\u001b[0;34m**\u001b[0m\u001b[0;34m{\u001b[0m\u001b[0maxis_name\u001b[0m\u001b[0;34m:\u001b[0m \u001b[0mnew_axis\u001b[0m\u001b[0;34m}\u001b[0m\u001b[0;34m)\u001b[0m\u001b[0;34m\u001b[0m\u001b[0;34m\u001b[0m\u001b[0m\n\u001b[1;32m   3925\u001b[0m \u001b[0;34m\u001b[0m\u001b[0m\n",
            "\u001b[0;32m/usr/local/lib/python3.7/dist-packages/pandas/core/indexes/base.py\u001b[0m in \u001b[0;36mdrop\u001b[0;34m(self, labels, errors)\u001b[0m\n\u001b[1;32m   5285\u001b[0m         \u001b[0;32mif\u001b[0m \u001b[0mmask\u001b[0m\u001b[0;34m.\u001b[0m\u001b[0many\u001b[0m\u001b[0;34m(\u001b[0m\u001b[0;34m)\u001b[0m\u001b[0;34m:\u001b[0m\u001b[0;34m\u001b[0m\u001b[0;34m\u001b[0m\u001b[0m\n\u001b[1;32m   5286\u001b[0m             \u001b[0;32mif\u001b[0m \u001b[0merrors\u001b[0m \u001b[0;34m!=\u001b[0m \u001b[0;34m\"ignore\"\u001b[0m\u001b[0;34m:\u001b[0m\u001b[0;34m\u001b[0m\u001b[0;34m\u001b[0m\u001b[0m\n\u001b[0;32m-> 5287\u001b[0;31m                 \u001b[0;32mraise\u001b[0m \u001b[0mKeyError\u001b[0m\u001b[0;34m(\u001b[0m\u001b[0;34mf\"{labels[mask]} not found in axis\"\u001b[0m\u001b[0;34m)\u001b[0m\u001b[0;34m\u001b[0m\u001b[0;34m\u001b[0m\u001b[0m\n\u001b[0m\u001b[1;32m   5288\u001b[0m             \u001b[0mindexer\u001b[0m \u001b[0;34m=\u001b[0m \u001b[0mindexer\u001b[0m\u001b[0;34m[\u001b[0m\u001b[0;34m~\u001b[0m\u001b[0mmask\u001b[0m\u001b[0;34m]\u001b[0m\u001b[0;34m\u001b[0m\u001b[0;34m\u001b[0m\u001b[0m\n\u001b[1;32m   5289\u001b[0m         \u001b[0;32mreturn\u001b[0m \u001b[0mself\u001b[0m\u001b[0;34m.\u001b[0m\u001b[0mdelete\u001b[0m\u001b[0;34m(\u001b[0m\u001b[0mindexer\u001b[0m\u001b[0;34m)\u001b[0m\u001b[0;34m\u001b[0m\u001b[0;34m\u001b[0m\u001b[0m\n",
            "\u001b[0;31mKeyError\u001b[0m: \"['target'] not found in axis\""
          ]
        }
      ]
    },
    {
      "cell_type": "code",
      "metadata": {
        "colab": {
          "base_uri": "https://localhost:8080/",
          "height": 422
        },
        "id": "HhkPQnTH8EZP",
        "outputId": "8e13e32f-2908-463d-b2d7-48f7e5c77baa"
      },
      "source": [
        "Xt"
      ],
      "execution_count": 130,
      "outputs": [
        {
          "output_type": "execute_result",
          "data": {
            "text/html": [
              "<div>\n",
              "<style scoped>\n",
              "    .dataframe tbody tr th:only-of-type {\n",
              "        vertical-align: middle;\n",
              "    }\n",
              "\n",
              "    .dataframe tbody tr th {\n",
              "        vertical-align: top;\n",
              "    }\n",
              "\n",
              "    .dataframe thead th {\n",
              "        text-align: right;\n",
              "    }\n",
              "</style>\n",
              "<table border=\"1\" class=\"dataframe\">\n",
              "  <thead>\n",
              "    <tr style=\"text-align: right;\">\n",
              "      <th></th>\n",
              "      <th>cat0</th>\n",
              "      <th>cat1</th>\n",
              "      <th>cat2</th>\n",
              "      <th>cat3</th>\n",
              "      <th>cat4</th>\n",
              "      <th>cat5</th>\n",
              "      <th>cat6</th>\n",
              "      <th>cat7</th>\n",
              "      <th>cat8</th>\n",
              "      <th>cat9</th>\n",
              "      <th>cont0</th>\n",
              "      <th>cont1</th>\n",
              "      <th>cont2</th>\n",
              "      <th>cont3</th>\n",
              "      <th>cont4</th>\n",
              "      <th>cont5</th>\n",
              "      <th>cont6</th>\n",
              "      <th>cont7</th>\n",
              "      <th>cont8</th>\n",
              "      <th>cont9</th>\n",
              "      <th>cont10</th>\n",
              "      <th>cont11</th>\n",
              "      <th>cont12</th>\n",
              "      <th>cont13</th>\n",
              "    </tr>\n",
              "  </thead>\n",
              "  <tbody>\n",
              "    <tr>\n",
              "      <th>0</th>\n",
              "      <td>0</td>\n",
              "      <td>0</td>\n",
              "      <td>0</td>\n",
              "      <td>2</td>\n",
              "      <td>1</td>\n",
              "      <td>3</td>\n",
              "      <td>0</td>\n",
              "      <td>4</td>\n",
              "      <td>4</td>\n",
              "      <td>11</td>\n",
              "      <td>0.434166</td>\n",
              "      <td>0.698333</td>\n",
              "      <td>0.448787</td>\n",
              "      <td>0.258211</td>\n",
              "      <td>0.308671</td>\n",
              "      <td>0.377180</td>\n",
              "      <td>0.435142</td>\n",
              "      <td>0.291485</td>\n",
              "      <td>0.440741</td>\n",
              "      <td>0.678576</td>\n",
              "      <td>0.718705</td>\n",
              "      <td>0.208745</td>\n",
              "      <td>0.275874</td>\n",
              "      <td>0.528522</td>\n",
              "    </tr>\n",
              "    <tr>\n",
              "      <th>1</th>\n",
              "      <td>1</td>\n",
              "      <td>0</td>\n",
              "      <td>0</td>\n",
              "      <td>2</td>\n",
              "      <td>1</td>\n",
              "      <td>1</td>\n",
              "      <td>0</td>\n",
              "      <td>4</td>\n",
              "      <td>4</td>\n",
              "      <td>9</td>\n",
              "      <td>0.408423</td>\n",
              "      <td>0.049353</td>\n",
              "      <td>0.491236</td>\n",
              "      <td>0.845736</td>\n",
              "      <td>0.440189</td>\n",
              "      <td>0.308807</td>\n",
              "      <td>0.328776</td>\n",
              "      <td>0.587787</td>\n",
              "      <td>0.903881</td>\n",
              "      <td>0.288583</td>\n",
              "      <td>0.156370</td>\n",
              "      <td>0.171773</td>\n",
              "      <td>0.295033</td>\n",
              "      <td>0.407631</td>\n",
              "    </tr>\n",
              "    <tr>\n",
              "      <th>2</th>\n",
              "      <td>0</td>\n",
              "      <td>0</td>\n",
              "      <td>0</td>\n",
              "      <td>2</td>\n",
              "      <td>1</td>\n",
              "      <td>0</td>\n",
              "      <td>0</td>\n",
              "      <td>4</td>\n",
              "      <td>2</td>\n",
              "      <td>5</td>\n",
              "      <td>0.900501</td>\n",
              "      <td>0.731443</td>\n",
              "      <td>0.137010</td>\n",
              "      <td>0.741679</td>\n",
              "      <td>0.280898</td>\n",
              "      <td>0.210661</td>\n",
              "      <td>0.369343</td>\n",
              "      <td>0.394329</td>\n",
              "      <td>0.210269</td>\n",
              "      <td>0.703522</td>\n",
              "      <td>0.734568</td>\n",
              "      <td>0.691733</td>\n",
              "      <td>0.324420</td>\n",
              "      <td>0.843984</td>\n",
              "    </tr>\n",
              "    <tr>\n",
              "      <th>3</th>\n",
              "      <td>0</td>\n",
              "      <td>0</td>\n",
              "      <td>0</td>\n",
              "      <td>0</td>\n",
              "      <td>1</td>\n",
              "      <td>3</td>\n",
              "      <td>0</td>\n",
              "      <td>4</td>\n",
              "      <td>2</td>\n",
              "      <td>5</td>\n",
              "      <td>0.753012</td>\n",
              "      <td>0.660945</td>\n",
              "      <td>0.211191</td>\n",
              "      <td>0.582455</td>\n",
              "      <td>0.316843</td>\n",
              "      <td>0.768224</td>\n",
              "      <td>0.516847</td>\n",
              "      <td>0.584043</td>\n",
              "      <td>0.857441</td>\n",
              "      <td>0.509919</td>\n",
              "      <td>0.982756</td>\n",
              "      <td>0.854779</td>\n",
              "      <td>0.927974</td>\n",
              "      <td>0.341954</td>\n",
              "    </tr>\n",
              "    <tr>\n",
              "      <th>4</th>\n",
              "      <td>0</td>\n",
              "      <td>0</td>\n",
              "      <td>1</td>\n",
              "      <td>2</td>\n",
              "      <td>1</td>\n",
              "      <td>3</td>\n",
              "      <td>0</td>\n",
              "      <td>4</td>\n",
              "      <td>2</td>\n",
              "      <td>0</td>\n",
              "      <td>0.389538</td>\n",
              "      <td>0.448821</td>\n",
              "      <td>0.393795</td>\n",
              "      <td>0.363326</td>\n",
              "      <td>0.409343</td>\n",
              "      <td>0.383413</td>\n",
              "      <td>0.341963</td>\n",
              "      <td>0.294273</td>\n",
              "      <td>0.149790</td>\n",
              "      <td>0.345550</td>\n",
              "      <td>0.426740</td>\n",
              "      <td>0.354788</td>\n",
              "      <td>0.580952</td>\n",
              "      <td>0.761909</td>\n",
              "    </tr>\n",
              "    <tr>\n",
              "      <th>...</th>\n",
              "      <td>...</td>\n",
              "      <td>...</td>\n",
              "      <td>...</td>\n",
              "      <td>...</td>\n",
              "      <td>...</td>\n",
              "      <td>...</td>\n",
              "      <td>...</td>\n",
              "      <td>...</td>\n",
              "      <td>...</td>\n",
              "      <td>...</td>\n",
              "      <td>...</td>\n",
              "      <td>...</td>\n",
              "      <td>...</td>\n",
              "      <td>...</td>\n",
              "      <td>...</td>\n",
              "      <td>...</td>\n",
              "      <td>...</td>\n",
              "      <td>...</td>\n",
              "      <td>...</td>\n",
              "      <td>...</td>\n",
              "      <td>...</td>\n",
              "      <td>...</td>\n",
              "      <td>...</td>\n",
              "      <td>...</td>\n",
              "    </tr>\n",
              "    <tr>\n",
              "      <th>1899995</th>\n",
              "      <td>1</td>\n",
              "      <td>1</td>\n",
              "      <td>0</td>\n",
              "      <td>0</td>\n",
              "      <td>1</td>\n",
              "      <td>3</td>\n",
              "      <td>0</td>\n",
              "      <td>4</td>\n",
              "      <td>2</td>\n",
              "      <td>0</td>\n",
              "      <td>0.437556</td>\n",
              "      <td>0.483330</td>\n",
              "      <td>0.350243</td>\n",
              "      <td>0.396861</td>\n",
              "      <td>0.646478</td>\n",
              "      <td>0.428831</td>\n",
              "      <td>0.241341</td>\n",
              "      <td>0.334948</td>\n",
              "      <td>0.361396</td>\n",
              "      <td>0.669251</td>\n",
              "      <td>0.356737</td>\n",
              "      <td>0.844630</td>\n",
              "      <td>0.275430</td>\n",
              "      <td>0.806233</td>\n",
              "    </tr>\n",
              "    <tr>\n",
              "      <th>1899996</th>\n",
              "      <td>0</td>\n",
              "      <td>0</td>\n",
              "      <td>0</td>\n",
              "      <td>0</td>\n",
              "      <td>1</td>\n",
              "      <td>3</td>\n",
              "      <td>0</td>\n",
              "      <td>4</td>\n",
              "      <td>6</td>\n",
              "      <td>9</td>\n",
              "      <td>0.608066</td>\n",
              "      <td>0.485474</td>\n",
              "      <td>0.592984</td>\n",
              "      <td>0.252066</td>\n",
              "      <td>0.480557</td>\n",
              "      <td>0.249522</td>\n",
              "      <td>0.308857</td>\n",
              "      <td>0.378773</td>\n",
              "      <td>0.899237</td>\n",
              "      <td>0.574056</td>\n",
              "      <td>0.529357</td>\n",
              "      <td>0.172143</td>\n",
              "      <td>0.293162</td>\n",
              "      <td>0.824377</td>\n",
              "    </tr>\n",
              "    <tr>\n",
              "      <th>1899997</th>\n",
              "      <td>0</td>\n",
              "      <td>1</td>\n",
              "      <td>0</td>\n",
              "      <td>0</td>\n",
              "      <td>1</td>\n",
              "      <td>3</td>\n",
              "      <td>0</td>\n",
              "      <td>4</td>\n",
              "      <td>2</td>\n",
              "      <td>5</td>\n",
              "      <td>0.451425</td>\n",
              "      <td>0.602816</td>\n",
              "      <td>0.956441</td>\n",
              "      <td>0.214850</td>\n",
              "      <td>0.908934</td>\n",
              "      <td>0.317496</td>\n",
              "      <td>0.314189</td>\n",
              "      <td>0.268891</td>\n",
              "      <td>0.525330</td>\n",
              "      <td>0.346405</td>\n",
              "      <td>0.358166</td>\n",
              "      <td>0.455238</td>\n",
              "      <td>0.361890</td>\n",
              "      <td>0.270958</td>\n",
              "    </tr>\n",
              "    <tr>\n",
              "      <th>1899998</th>\n",
              "      <td>0</td>\n",
              "      <td>1</td>\n",
              "      <td>0</td>\n",
              "      <td>2</td>\n",
              "      <td>1</td>\n",
              "      <td>1</td>\n",
              "      <td>0</td>\n",
              "      <td>4</td>\n",
              "      <td>4</td>\n",
              "      <td>11</td>\n",
              "      <td>0.334940</td>\n",
              "      <td>0.113325</td>\n",
              "      <td>0.359515</td>\n",
              "      <td>0.230252</td>\n",
              "      <td>0.321549</td>\n",
              "      <td>0.245396</td>\n",
              "      <td>0.407010</td>\n",
              "      <td>0.279720</td>\n",
              "      <td>0.381708</td>\n",
              "      <td>0.263731</td>\n",
              "      <td>0.509874</td>\n",
              "      <td>0.212444</td>\n",
              "      <td>0.253674</td>\n",
              "      <td>0.482641</td>\n",
              "    </tr>\n",
              "    <tr>\n",
              "      <th>1899999</th>\n",
              "      <td>0</td>\n",
              "      <td>0</td>\n",
              "      <td>0</td>\n",
              "      <td>0</td>\n",
              "      <td>0</td>\n",
              "      <td>2</td>\n",
              "      <td>0</td>\n",
              "      <td>4</td>\n",
              "      <td>6</td>\n",
              "      <td>7</td>\n",
              "      <td>0.704167</td>\n",
              "      <td>0.476205</td>\n",
              "      <td>0.146135</td>\n",
              "      <td>0.189408</td>\n",
              "      <td>0.423332</td>\n",
              "      <td>0.680492</td>\n",
              "      <td>0.272422</td>\n",
              "      <td>0.494691</td>\n",
              "      <td>0.676714</td>\n",
              "      <td>0.621708</td>\n",
              "      <td>0.520528</td>\n",
              "      <td>0.666144</td>\n",
              "      <td>0.729689</td>\n",
              "      <td>0.714965</td>\n",
              "    </tr>\n",
              "  </tbody>\n",
              "</table>\n",
              "<p>1900000 rows × 24 columns</p>\n",
              "</div>"
            ],
            "text/plain": [
              "         cat0  cat1  cat2  cat3  ...    cont10    cont11    cont12    cont13\n",
              "0           0     0     0     2  ...  0.718705  0.208745  0.275874  0.528522\n",
              "1           1     0     0     2  ...  0.156370  0.171773  0.295033  0.407631\n",
              "2           0     0     0     2  ...  0.734568  0.691733  0.324420  0.843984\n",
              "3           0     0     0     0  ...  0.982756  0.854779  0.927974  0.341954\n",
              "4           0     0     1     2  ...  0.426740  0.354788  0.580952  0.761909\n",
              "...       ...   ...   ...   ...  ...       ...       ...       ...       ...\n",
              "1899995     1     1     0     0  ...  0.356737  0.844630  0.275430  0.806233\n",
              "1899996     0     0     0     0  ...  0.529357  0.172143  0.293162  0.824377\n",
              "1899997     0     1     0     0  ...  0.358166  0.455238  0.361890  0.270958\n",
              "1899998     0     1     0     2  ...  0.509874  0.212444  0.253674  0.482641\n",
              "1899999     0     0     0     0  ...  0.520528  0.666144  0.729689  0.714965\n",
              "\n",
              "[1900000 rows x 24 columns]"
            ]
          },
          "metadata": {
            "tags": []
          },
          "execution_count": 130
        }
      ]
    },
    {
      "cell_type": "code",
      "metadata": {
        "id": "B8RbI55TtsfT"
      },
      "source": [
        "cat =[ 'cat0', 'cat1', 'cat2', 'cat3', 'cat4', 'cat5', 'cat6', 'cat7',\n",
        "       'cat8', 'cat9']\n",
        "for i in cat:\n",
        "  lb=LabelEncoder()\n",
        "  df[str(i)]= lb.fit_transform(df[str(i)])"
      ],
      "execution_count": null,
      "outputs": []
    },
    {
      "cell_type": "markdown",
      "metadata": {
        "id": "l0PTrUSNtjh6"
      },
      "source": [
        "#Submisison"
      ]
    },
    {
      "cell_type": "code",
      "metadata": {
        "id": "DiXcJLbrtkeP"
      },
      "source": [
        "result.to_csv('final.csv',index=False,header=['id','target'])"
      ],
      "execution_count": null,
      "outputs": []
    }
  ]
}