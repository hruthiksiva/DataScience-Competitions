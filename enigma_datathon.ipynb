{
  "nbformat": 4,
  "nbformat_minor": 0,
  "metadata": {
    "colab": {
      "name": "enigma-datathon.ipynb",
      "provenance": [],
      "toc_visible": true,
      "authorship_tag": "ABX9TyPljBDbUohQaLv27g+tYd1s",
      "include_colab_link": true
    },
    "kernelspec": {
      "name": "python3",
      "display_name": "Python 3"
    },
    "language_info": {
      "name": "python"
    }
  },
  "cells": [
    {
      "cell_type": "markdown",
      "metadata": {
        "id": "view-in-github",
        "colab_type": "text"
      },
      "source": [
        "<a href=\"https://colab.research.google.com/github/hruthiksiva/DataScience-Competitions/blob/main/enigma_datathon.ipynb\" target=\"_parent\"><img src=\"https://colab.research.google.com/assets/colab-badge.svg\" alt=\"Open In Colab\"/></a>"
      ]
    },
    {
      "cell_type": "markdown",
      "metadata": {
        "id": "dDuFW---AzLp"
      },
      "source": [
        "## Extract csv"
      ]
    },
    {
      "cell_type": "code",
      "metadata": {
        "colab": {
          "base_uri": "https://localhost:8080/"
        },
        "id": "jYsScIf29tYL",
        "outputId": "33f23f4b-19dc-4747-f4ad-6314e8d42ef7"
      },
      "source": [
        "! mkdir ~/.kaggle\n",
        "! cp kaggle.json ~/.kaggle/\n",
        "! chmod 600 ~/.kaggle/kaggle.json"
      ],
      "execution_count": 3,
      "outputs": [
        {
          "output_type": "stream",
          "text": [
            "mkdir: cannot create directory ‘/root/.kaggle’: File exists\n"
          ],
          "name": "stdout"
        }
      ]
    },
    {
      "cell_type": "code",
      "metadata": {
        "colab": {
          "base_uri": "https://localhost:8080/"
        },
        "id": "h-ScSZs1-ffC",
        "outputId": "b94bf083-c8f4-49f0-b537-af04612566e0"
      },
      "source": [
        "! kaggle competitions download -c domain-network-security\n"
      ],
      "execution_count": 5,
      "outputs": [
        {
          "output_type": "stream",
          "text": [
            "Warning: Looks like you're using an outdated API Version, please consider updating (server 1.5.12 / client 1.5.4)\n",
            "Downloading test.csv to /content\n",
            "  0% 0.00/746k [00:00<?, ?B/s]\n",
            "100% 746k/746k [00:00<00:00, 50.1MB/s]\n",
            "Downloading sample%20submission.csv to /content\n",
            "  0% 0.00/238k [00:00<?, ?B/s]\n",
            "100% 238k/238k [00:00<00:00, 77.8MB/s]\n",
            "Downloading train.csv.zip to /content\n",
            "  0% 0.00/693k [00:00<?, ?B/s]\n",
            "100% 693k/693k [00:00<00:00, 136MB/s]\n"
          ],
          "name": "stdout"
        }
      ]
    },
    {
      "cell_type": "code",
      "metadata": {
        "colab": {
          "base_uri": "https://localhost:8080/"
        },
        "id": "3lNiRrSw_mDB",
        "outputId": "39b111eb-1ab2-4770-ece8-a732c6c96bfa"
      },
      "source": [
        "!unzip \\*.zip  && rm *.zip"
      ],
      "execution_count": 8,
      "outputs": [
        {
          "output_type": "stream",
          "text": [
            "Archive:  train.csv.zip\n",
            "  inflating: train.csv               \n"
          ],
          "name": "stdout"
        }
      ]
    },
    {
      "cell_type": "markdown",
      "metadata": {
        "id": "OR_0IXT7qRkM"
      },
      "source": [
        "## Imports"
      ]
    },
    {
      "cell_type": "code",
      "metadata": {
        "id": "ZsfJ0lrqpoCg"
      },
      "source": [
        "import pandas as pd\n",
        "import numpy as np\n",
        "import matplotlib.pyplot as plt"
      ],
      "execution_count": 1,
      "outputs": []
    },
    {
      "cell_type": "markdown",
      "metadata": {
        "id": "GqHLzY-8xTt3"
      },
      "source": [
        "# Data Collection/ Alteration"
      ]
    },
    {
      "cell_type": "code",
      "metadata": {
        "id": "ArtyQN_4xRRT"
      },
      "source": [
        "df=pd.read_csv('train.csv')"
      ],
      "execution_count": 106,
      "outputs": []
    },
    {
      "cell_type": "code",
      "metadata": {
        "colab": {
          "base_uri": "https://localhost:8080/"
        },
        "id": "uCjzsvevBAK4",
        "outputId": "5ae12c1f-5a35-473f-f975-8180f292d505"
      },
      "source": [
        "df.info()"
      ],
      "execution_count": 107,
      "outputs": [
        {
          "output_type": "stream",
          "text": [
            "<class 'pandas.core.frame.DataFrame'>\n",
            "RangeIndex: 45870 entries, 0 to 45869\n",
            "Data columns (total 13 columns):\n",
            " #   Column                Non-Null Count  Dtype  \n",
            "---  ------                --------------  -----  \n",
            " 0   ID                    45870 non-null  int64  \n",
            " 1   Source Port           36683 non-null  float64\n",
            " 2   Destination Port      36693 non-null  float64\n",
            " 3   NAT Source Port       36756 non-null  float64\n",
            " 4   NAT Destination Port  36674 non-null  float64\n",
            " 5   Bytes                 36607 non-null  float64\n",
            " 6   Bytes Sent            36764 non-null  float64\n",
            " 7   Bytes Received        36693 non-null  float64\n",
            " 8   Packets               36818 non-null  float64\n",
            " 9   Elapsed Time (sec)    36584 non-null  float64\n",
            " 10  pkts_sent             36667 non-null  float64\n",
            " 11  pkts_received         36711 non-null  float64\n",
            " 12  Action                45870 non-null  object \n",
            "dtypes: float64(11), int64(1), object(1)\n",
            "memory usage: 4.5+ MB\n"
          ],
          "name": "stdout"
        }
      ]
    },
    {
      "cell_type": "code",
      "metadata": {
        "colab": {
          "base_uri": "https://localhost:8080/"
        },
        "id": "jP4QvSQuDQqh",
        "outputId": "a4bcc377-6a82-4f48-bea9-65acf050cf62"
      },
      "source": [
        "df.isnull().sum()"
      ],
      "execution_count": 75,
      "outputs": [
        {
          "output_type": "execute_result",
          "data": {
            "text/plain": [
              "ID                         0\n",
              "Source Port             9187\n",
              "Destination Port        9177\n",
              "NAT Source Port         9114\n",
              "NAT Destination Port    9196\n",
              "Bytes                   9263\n",
              "Bytes Sent              9106\n",
              "Bytes Received          9177\n",
              "Packets                 9052\n",
              "Elapsed Time (sec)      9286\n",
              "pkts_sent               9203\n",
              "pkts_received           9159\n",
              "Action                     0\n",
              "dtype: int64"
            ]
          },
          "metadata": {
            "tags": []
          },
          "execution_count": 75
        }
      ]
    },
    {
      "cell_type": "markdown",
      "metadata": {
        "id": "49oUdEBB_u03"
      },
      "source": [
        "### Encoding Data"
      ]
    },
    {
      "cell_type": "code",
      "metadata": {
        "id": "slBVPyWM9pOi"
      },
      "source": [
        "from sklearn.preprocessing import LabelEncoder\n",
        "lb=LabelEncoder()\n",
        "df['Action']= lb.fit_transform(df['Action'])"
      ],
      "execution_count": 108,
      "outputs": []
    },
    {
      "cell_type": "code",
      "metadata": {
        "colab": {
          "base_uri": "https://localhost:8080/"
        },
        "id": "GMv3b4IWCHlY",
        "outputId": "cca0a518-63e2-4960-c80f-8a77bf536381"
      },
      "source": [
        "df['Action'].describe()"
      ],
      "execution_count": 109,
      "outputs": [
        {
          "output_type": "execute_result",
          "data": {
            "text/plain": [
              "count    45870.000000\n",
              "mean         0.623305\n",
              "std          0.794887\n",
              "min          0.000000\n",
              "25%          0.000000\n",
              "50%          0.000000\n",
              "75%          1.000000\n",
              "max          3.000000\n",
              "Name: Action, dtype: float64"
            ]
          },
          "metadata": {
            "tags": []
          },
          "execution_count": 109
        }
      ]
    },
    {
      "cell_type": "markdown",
      "metadata": {
        "id": "hVL_WMS6DEiv"
      },
      "source": [
        "### Float to Int"
      ]
    },
    {
      "cell_type": "code",
      "metadata": {
        "colab": {
          "base_uri": "https://localhost:8080/"
        },
        "id": "KlwNdfWoDEDn",
        "outputId": "6aef8df0-70f0-46d9-ccf6-59afcea7fd51"
      },
      "source": [
        "list =['Source Port','Destination Port','NAT Source Port','NAT Destination Port','Bytes',\n",
        "       'Bytes Sent','Bytes Received','Packets','Elapsed Time (sec)','pkts_sent','pkts_received']\n",
        "\n",
        "for i in list:\n",
        "  df[str(i)] = df[str(i)].fillna(-1)\n",
        "  df[str(i)]=df[str(i)].astype(int)\n",
        "df.info()"
      ],
      "execution_count": 122,
      "outputs": [
        {
          "output_type": "stream",
          "text": [
            "<class 'pandas.core.frame.DataFrame'>\n",
            "RangeIndex: 45870 entries, 0 to 45869\n",
            "Data columns (total 13 columns):\n",
            " #   Column                Non-Null Count  Dtype\n",
            "---  ------                --------------  -----\n",
            " 0   ID                    45870 non-null  int64\n",
            " 1   Source Port           45870 non-null  int64\n",
            " 2   Destination Port      45870 non-null  int64\n",
            " 3   NAT Source Port       45870 non-null  int64\n",
            " 4   NAT Destination Port  45870 non-null  int64\n",
            " 5   Bytes                 45870 non-null  int64\n",
            " 6   Bytes Sent            45870 non-null  int64\n",
            " 7   Bytes Received        45870 non-null  int64\n",
            " 8   Packets               45870 non-null  int64\n",
            " 9   Elapsed Time (sec)    45870 non-null  int64\n",
            " 10  pkts_sent             45870 non-null  int64\n",
            " 11  pkts_received         45870 non-null  int64\n",
            " 12  Action                45870 non-null  int64\n",
            "dtypes: int64(13)\n",
            "memory usage: 4.5 MB\n"
          ],
          "name": "stdout"
        }
      ]
    },
    {
      "cell_type": "markdown",
      "metadata": {
        "id": "HM9BOCqa1NLX"
      },
      "source": [
        "### Separate Label vs Feature"
      ]
    },
    {
      "cell_type": "code",
      "metadata": {
        "id": "aWAXkyJe1Rcu"
      },
      "source": [
        "y=df.iloc[:,[-1]]\n",
        "X = df.drop(['ID','Action'],axis=1)"
      ],
      "execution_count": 123,
      "outputs": []
    },
    {
      "cell_type": "markdown",
      "metadata": {
        "id": "7nExRZZ0zU2n"
      },
      "source": [
        "## Test Train Split"
      ]
    },
    {
      "cell_type": "code",
      "metadata": {
        "id": "w8a6lTq6zJmI"
      },
      "source": [
        "from sklearn.model_selection import train_test_split"
      ],
      "execution_count": 124,
      "outputs": []
    },
    {
      "cell_type": "code",
      "metadata": {
        "id": "nX0tTYSezOvP"
      },
      "source": [
        "X_train, X_test, y_train, y_test = train_test_split(X, y, test_size=0.2, random_state=22)"
      ],
      "execution_count": 125,
      "outputs": []
    },
    {
      "cell_type": "markdown",
      "metadata": {
        "id": "v2Cj8q--xa-f"
      },
      "source": [
        "# Data Visualization"
      ]
    },
    {
      "cell_type": "code",
      "metadata": {
        "colab": {
          "base_uri": "https://localhost:8080/"
        },
        "id": "4mx4069rxexd",
        "outputId": "40e0cfbb-eba0-40f5-d84f-302a659ba65c"
      },
      "source": [
        "print(df['ID'].corr(df['Source Port']))\n",
        "print(df['pkts_received'].corr(df['Action']))\n",
        "print(df['ID'].corr(df['Action']))"
      ],
      "execution_count": 115,
      "outputs": [
        {
          "output_type": "stream",
          "text": [
            "0.004004893499190068\n",
            "-0.018264771302748367\n",
            "-6.193059199356068e-05\n"
          ],
          "name": "stdout"
        }
      ]
    },
    {
      "cell_type": "markdown",
      "metadata": {
        "id": "36Np3r5qxfV_"
      },
      "source": [
        "# Model Decision"
      ]
    },
    {
      "cell_type": "markdown",
      "metadata": {
        "id": "nasvtE9IRWTo"
      },
      "source": [
        "### KNN Algorithm"
      ]
    },
    {
      "cell_type": "code",
      "metadata": {
        "id": "neOtrLWHRZlQ"
      },
      "source": [
        "from sklearn.neighbors import KNeighborsClassifier"
      ],
      "execution_count": 116,
      "outputs": []
    },
    {
      "cell_type": "code",
      "metadata": {
        "colab": {
          "base_uri": "https://localhost:8080/"
        },
        "id": "cHlmGGuMRaTw",
        "outputId": "e4fb952b-f8e9-424e-8dd1-957f59e3db8c"
      },
      "source": [
        "model = KNeighborsClassifier(n_neighbors=4)\n",
        "model.fit(X_train,y_train)"
      ],
      "execution_count": 117,
      "outputs": [
        {
          "output_type": "stream",
          "text": [
            "/usr/local/lib/python3.7/dist-packages/ipykernel_launcher.py:2: DataConversionWarning: A column-vector y was passed when a 1d array was expected. Please change the shape of y to (n_samples, ), for example using ravel().\n",
            "  \n"
          ],
          "name": "stderr"
        },
        {
          "output_type": "execute_result",
          "data": {
            "text/plain": [
              "KNeighborsClassifier(algorithm='auto', leaf_size=30, metric='minkowski',\n",
              "                     metric_params=None, n_jobs=None, n_neighbors=4, p=2,\n",
              "                     weights='uniform')"
            ]
          },
          "metadata": {
            "tags": []
          },
          "execution_count": 117
        }
      ]
    },
    {
      "cell_type": "markdown",
      "metadata": {
        "id": "9_8c8NpZFng2"
      },
      "source": [
        "### XGBooster"
      ]
    },
    {
      "cell_type": "code",
      "metadata": {
        "colab": {
          "base_uri": "https://localhost:8080/"
        },
        "id": "m0TwQc-hxjOM",
        "outputId": "76921bec-23d5-4445-c419-f36db631ede1"
      },
      "source": [
        "import xgboost as xgb\n",
        "xgb.XGBClassifier()"
      ],
      "execution_count": 121,
      "outputs": [
        {
          "output_type": "execute_result",
          "data": {
            "text/plain": [
              "XGBClassifier(base_score=0.5, booster='gbtree', colsample_bylevel=1,\n",
              "              colsample_bynode=1, colsample_bytree=1, gamma=0,\n",
              "              learning_rate=0.1, max_delta_step=0, max_depth=3,\n",
              "              min_child_weight=1, missing=None, n_estimators=100, n_jobs=1,\n",
              "              nthread=None, objective='binary:logistic', random_state=0,\n",
              "              reg_alpha=0, reg_lambda=1, scale_pos_weight=1, seed=None,\n",
              "              silent=None, subsample=1, verbosity=1)"
            ]
          },
          "metadata": {
            "tags": []
          },
          "execution_count": 121
        }
      ]
    },
    {
      "cell_type": "code",
      "metadata": {
        "colab": {
          "base_uri": "https://localhost:8080/"
        },
        "id": "44VfTVWmGGg1",
        "outputId": "41fbc676-5cd8-43ed-f4a4-bd8f67b453d7"
      },
      "source": [
        "model=xgb.XGBClassifier(missing=-1)\n",
        "model.fit(X_train,y_train)"
      ],
      "execution_count": 126,
      "outputs": [
        {
          "output_type": "stream",
          "text": [
            "/usr/local/lib/python3.7/dist-packages/sklearn/preprocessing/_label.py:235: DataConversionWarning: A column-vector y was passed when a 1d array was expected. Please change the shape of y to (n_samples, ), for example using ravel().\n",
            "  y = column_or_1d(y, warn=True)\n",
            "/usr/local/lib/python3.7/dist-packages/sklearn/preprocessing/_label.py:268: DataConversionWarning: A column-vector y was passed when a 1d array was expected. Please change the shape of y to (n_samples, ), for example using ravel().\n",
            "  y = column_or_1d(y, warn=True)\n"
          ],
          "name": "stderr"
        },
        {
          "output_type": "execute_result",
          "data": {
            "text/plain": [
              "XGBClassifier(base_score=0.5, booster='gbtree', colsample_bylevel=1,\n",
              "              colsample_bynode=1, colsample_bytree=1, gamma=0,\n",
              "              learning_rate=0.1, max_delta_step=0, max_depth=3,\n",
              "              min_child_weight=1, missing=-1, n_estimators=100, n_jobs=1,\n",
              "              nthread=None, objective='multi:softprob', random_state=0,\n",
              "              reg_alpha=0, reg_lambda=1, scale_pos_weight=1, seed=None,\n",
              "              silent=None, subsample=1, verbosity=1)"
            ]
          },
          "metadata": {
            "tags": []
          },
          "execution_count": 126
        }
      ]
    },
    {
      "cell_type": "markdown",
      "metadata": {
        "id": "WRyW26tQIRv-"
      },
      "source": [
        "### Random forest"
      ]
    },
    {
      "cell_type": "code",
      "metadata": {
        "id": "8pB3rp5OIUbt"
      },
      "source": [
        "from sklearn.ensemble import RandomForestClassifier"
      ],
      "execution_count": 102,
      "outputs": []
    },
    {
      "cell_type": "code",
      "metadata": {
        "colab": {
          "base_uri": "https://localhost:8080/"
        },
        "id": "Ve6p_ITDIaxs",
        "outputId": "d7870bb7-87ef-465b-f8ed-fe3fa91ee4f5"
      },
      "source": [
        "model=RandomForestClassifier()\n",
        "model .fit(X_train,y_train)"
      ],
      "execution_count": 103,
      "outputs": [
        {
          "output_type": "stream",
          "text": [
            "/usr/local/lib/python3.7/dist-packages/ipykernel_launcher.py:2: DataConversionWarning: A column-vector y was passed when a 1d array was expected. Please change the shape of y to (n_samples,), for example using ravel().\n",
            "  \n"
          ],
          "name": "stderr"
        },
        {
          "output_type": "execute_result",
          "data": {
            "text/plain": [
              "RandomForestClassifier(bootstrap=True, ccp_alpha=0.0, class_weight=None,\n",
              "                       criterion='gini', max_depth=None, max_features='auto',\n",
              "                       max_leaf_nodes=None, max_samples=None,\n",
              "                       min_impurity_decrease=0.0, min_impurity_split=None,\n",
              "                       min_samples_leaf=1, min_samples_split=2,\n",
              "                       min_weight_fraction_leaf=0.0, n_estimators=100,\n",
              "                       n_jobs=None, oob_score=False, random_state=None,\n",
              "                       verbose=0, warm_start=False)"
            ]
          },
          "metadata": {
            "tags": []
          },
          "execution_count": 103
        }
      ]
    },
    {
      "cell_type": "markdown",
      "metadata": {
        "id": "RxLCVDK_xj2f"
      },
      "source": [
        "# Prediction"
      ]
    },
    {
      "cell_type": "code",
      "metadata": {
        "id": "Voeuj59OxmgG"
      },
      "source": [
        "y_pred=model.predict(X_test)"
      ],
      "execution_count": 127,
      "outputs": []
    },
    {
      "cell_type": "code",
      "metadata": {
        "colab": {
          "base_uri": "https://localhost:8080/"
        },
        "id": "FoAjdkGCR-4R",
        "outputId": "3c33b6d1-ed84-4f3c-a3b0-a79eb04cb052"
      },
      "source": [
        "from sklearn.metrics import accuracy_score\n",
        "print(\"Accuracy:\",accuracy_score(y_test, y_pred))\n",
        "#xgbooster - 0.985\n",
        "#random forest - 0.984\n",
        "#knn - 0.95"
      ],
      "execution_count": 128,
      "outputs": [
        {
          "output_type": "stream",
          "text": [
            "Accuracy: 0.985829518203619\n"
          ],
          "name": "stdout"
        }
      ]
    },
    {
      "cell_type": "code",
      "metadata": {
        "id": "YWwAXn4KGVz-"
      },
      "source": [
        "# calculates precision for 1:100 dataset with 90 tp and 30 fp\n",
        "from sklearn.metrics import precision_score\n",
        "# define actual\n",
        "act_pos = [1 for _ in range(100)]\n",
        "act_neg = [0 for _ in range(10000)]\n",
        "y_true = act_pos + act_neg\n",
        "# define predictions\n",
        "pred_pos = [0 for _ in range(10)] + [1 for _ in range(90)]\n",
        "pred_neg = [1 for _ in range(30)] + [0 for _ in range(9970)]\n",
        "y_pred = pred_pos + pred_neg\n",
        "# calculate prediction\n",
        "precision = precision_score(y_true, y_pred, average='binary')\n",
        "print('Precision: %.3f' % precision)"
      ],
      "execution_count": null,
      "outputs": []
    },
    {
      "cell_type": "code",
      "metadata": {
        "id": "Y5u_ahFrG6aN"
      },
      "source": [
        ""
      ],
      "execution_count": null,
      "outputs": []
    },
    {
      "cell_type": "markdown",
      "metadata": {
        "id": "36Ms9GbVxnNX"
      },
      "source": [
        "# Data Extraction"
      ]
    },
    {
      "cell_type": "code",
      "metadata": {
        "id": "NX5jlBCaxpT8"
      },
      "source": [
        "tdf=pd.read_csv('test.csv')"
      ],
      "execution_count": null,
      "outputs": []
    },
    {
      "cell_type": "code",
      "metadata": {
        "id": "BTCkh1QyJfbN"
      },
      "source": [
        "le=LabelEncoder()\n",
        "df['Action']= le.fit_transform(df['Action'])"
      ],
      "execution_count": null,
      "outputs": []
    },
    {
      "cell_type": "code",
      "metadata": {
        "id": "AVbHA88OJkbT"
      },
      "source": [
        "list =['Source Port','Destination Port','NAT Source Port','NAT Destination Port','Bytes',\n",
        "       'Bytes Sent','Bytes Received','Packets','Elapsed Time (sec)','pkts_sent','pkts_received']\n",
        "\n",
        "for i in list:\n",
        "  tdf[str(i)] = tdf[str(i)].fillna(-1)\n",
        "  tdf[str(i)]=tdf[str(i)].astype(int)\n",
        "tdf.info()"
      ],
      "execution_count": null,
      "outputs": []
    },
    {
      "cell_type": "code",
      "metadata": {
        "id": "CmRwvvRK0zkW"
      },
      "source": [
        "X_=tdf.drop(y.columns,axis = 1)"
      ],
      "execution_count": null,
      "outputs": []
    },
    {
      "cell_type": "code",
      "metadata": {
        "id": "wCVcsx2bAXeW"
      },
      "source": [
        "ypred_=model.predict(X_)"
      ],
      "execution_count": null,
      "outputs": []
    },
    {
      "cell_type": "code",
      "metadata": {
        "id": "CDAOtLcZTqEH"
      },
      "source": [
        "ypred_ = le.inverse_transform(ypred_)"
      ],
      "execution_count": null,
      "outputs": []
    },
    {
      "cell_type": "code",
      "metadata": {
        "id": "n9news7QKlrT"
      },
      "source": [
        "#dont forget to decode labels back to open closed etc\n",
        "sub=pd.DataFrame({\"id\":tdf[\"id\"],\"target\":np.array(ypred_).reshape(-1)})\n",
        "sub.to_csv(\"submission1.csv\",index=False)"
      ],
      "execution_count": null,
      "outputs": []
    }
  ]
}